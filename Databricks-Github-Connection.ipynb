{
 "cells": [
  {
   "cell_type": "markdown",
   "metadata": {
    "application/vnd.databricks.v1+cell": {
     "cellMetadata": {},
     "inputWidgets": {},
     "nuid": "e2d10491-a863-4fa0-8505-2777b9fcf8b7",
     "showTitle": false,
     "tableResultSettingsMap": {},
     "title": ""
    }
   },
   "source": [
    "## Link Github account\n",
    "\n",
    "### Step 1: Link GitHub in Databricks\n",
    "\n",
    "1. Open your Databricks workspace (portal).\n",
    "\n",
    "2. Click your user profile icon (top right).\n",
    "\n",
    "3. Select Settings.\n",
    "\n",
    "4. Go to Settings -> Linked Accounts.\n",
    "\n",
    "5. Click the button \"Add Git credential\" \n",
    "\n",
    "6. There are 2 options. Link Account & Using  personal access token you created in GitHub.\n",
    "\n",
    "7. Click on the Link Account -> Save and connect with Github credentials.\n",
    "\n",
    "### Step 2: Create New Repository\n",
    "\n",
    "1. Goto the webssite https://github.com and login into your account\n",
    "\n",
    "2. Create New Repository by selecting README.md file\n",
    "\n",
    "### Step 3: Install the github databricks app\n",
    "\n",
    "1. Open the github app in the https://github.com/apps/databricks\n",
    "\n",
    "2. Click install/configure button\n",
    "\n",
    "3. Enter the password to verify the account\n",
    "\n",
    "4. Choose \"Only select repositories\" and add the new created repo then save it\n",
    "\n",
    "### Step 4: Creating Git Repo in databricks\n",
    "\n",
    "1. Goto databricks account\n",
    "\n",
    "2. Under workspace, right click then create -> Git Folder. It will popup a window that ask the url.\n",
    "\n",
    "3. Copy the newly created github url and paste into the url and give the repo name.\n",
    "\n",
    "4. Done"
   ]
  }
 ],
 "metadata": {
  "application/vnd.databricks.v1+notebook": {
   "computePreferences": null,
   "dashboards": [],
   "environmentMetadata": {
    "base_environment": "",
    "environment_version": "3"
   },
   "inputWidgetPreferences": null,
   "language": "python",
   "notebookMetadata": {
    "pythonIndentUnit": 4
   },
   "notebookName": "Databricks-Github-Connection",
   "widgets": {}
  },
  "language_info": {
   "name": "python"
  }
 },
 "nbformat": 4,
 "nbformat_minor": 0
}
