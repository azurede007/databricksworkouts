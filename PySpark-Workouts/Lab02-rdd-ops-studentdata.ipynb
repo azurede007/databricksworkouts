{
 "cells": [
  {
   "cell_type": "markdown",
   "metadata": {
    "application/vnd.databricks.v1+cell": {
     "cellMetadata": {},
     "inputWidgets": {},
     "nuid": "189a095d-4641-4d67-9d11-2ce12208482a",
     "showTitle": false,
     "tableResultSettingsMap": {},
     "title": ""
    }
   },
   "source": [
    "### Student Data processing using PySpark Core"
   ]
  },
  {
   "cell_type": "code",
   "execution_count": 0,
   "metadata": {
    "application/vnd.databricks.v1+cell": {
     "cellMetadata": {
      "byteLimit": 2048000,
      "rowLimit": 10000
     },
     "inputWidgets": {},
     "nuid": "9a596baf-85b7-440d-8811-5b1595c4a39b",
     "showTitle": false,
     "tableResultSettingsMap": {},
     "title": ""
    }
   },
   "outputs": [],
   "source": [
    "# Read text files from DBFS or local paths accessible to Databricks\n",
    "rdd = spark.SparkContext.textFile(\"dbfs:/Volumes/workspace/default/tblcustomer/student.csv\")\n",
    "# rdd = [\"1,Arun,85\",\"2,Bala,55\",\"3,Chitra,72\"]\n",
    "\n",
    "\n",
    "# Split each line by comma\n",
    "rdd1 = rdd.map(lambda x: x.split(\",\"))\n",
    "rdd1 = [ [\"1\",\"Arun\",\"85\"], [\"2\",\"Bala\",\"55\"], [\"3\",\"Chitra\",\"72\"] ]\n",
    "\n",
    "\n",
    "# Filter students with marks > 60 (assuming marks in 3rd column)\n",
    "rdd2 = rdd1.filter(lambda x: int(x[2]) > 60)\n",
    "#rdd2 = [ [\"1\",\"Arun\",\"85\"],[\"3\",\"Chitra\",\"72\"] ]\n",
    "\n",
    "\n",
    "# Keep only id, marks\n",
    "rdd3 = rdd2.map(lambda x: (x[0], int(x[2])))\n",
    "#rdd3 = [ [\"1\",85],[\"3\",72] ]\n",
    "\n",
    "# Print all records\n",
    "print(\"All Records:\")\n",
    "for row in rdd3.collect():\n",
    "    print(row)\n",
    "\n",
    "\"\"\"\n",
    " [\"1\",85]\n",
    " [\"3\",72] \n",
    "\"\"\"\n",
    "\n",
    "# Count of filtered records\n",
    "print(\"Total Filtered Records:\", rdd2.count())\n",
    "\n",
    "# Extract marks\n",
    "rdd4 = rdd3.map(lambda x: int(x[2]))\n",
    "\n",
    "print(\"Maximum Mark Scored:\", rdd4.max())\n",
    "print(\"Total Marks Scored:\", rdd4.sum())\n",
    "\n",
    "# Distinct records\n",
    "rdd5 = rdd3.distinct()\n",
    "print(\"Distinct Records:\")\n",
    "for row in rdd5.collect():\n",
    "    print(row)\n"
   ]
  }
 ],
 "metadata": {
  "application/vnd.databricks.v1+notebook": {
   "computePreferences": null,
   "dashboards": [],
   "environmentMetadata": {
    "base_environment": "",
    "environment_version": "3"
   },
   "inputWidgetPreferences": null,
   "language": "python",
   "notebookMetadata": {
    "mostRecentlyExecutedCommandWithImplicitDF": {
     "commandId": 6664317605863657,
     "dataframes": [
      "_sqldf"
     ]
    },
    "pythonIndentUnit": 4
   },
   "notebookName": "Lab02-rdd-ops-studentdata",
   "widgets": {}
  },
  "language_info": {
   "name": "python"
  }
 },
 "nbformat": 4,
 "nbformat_minor": 0
}
