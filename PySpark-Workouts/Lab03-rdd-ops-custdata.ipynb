{
 "cells": [
  {
   "cell_type": "markdown",
   "metadata": {
    "application/vnd.databricks.v1+cell": {
     "cellMetadata": {
      "byteLimit": 2048000,
      "rowLimit": 10000
     },
     "inputWidgets": {},
     "nuid": "a2a9481a-72b9-4928-b692-dd206ea61b5b",
     "showTitle": false,
     "tableResultSettingsMap": {},
     "title": ""
    }
   },
   "source": [
    "## PySpark  in Databricks\n",
    "### This notebook reads customer data, extracts unique professions, and sorts them.\n"
   ]
  },
  {
   "cell_type": "code",
   "execution_count": 0,
   "metadata": {
    "application/vnd.databricks.v1+cell": {
     "cellMetadata": {
      "byteLimit": 2048000,
      "rowLimit": 10000
     },
     "inputWidgets": {},
     "nuid": "9a596baf-85b7-440d-8811-5b1595c4a39b",
     "showTitle": false,
     "tableResultSettingsMap": {},
     "title": ""
    }
   },
   "outputs": [],
   "source": [
    "\"\"\"\n",
    "DAG:\n",
    "textfile -> map -> filter -> map -> distinct -> sort -> count\n",
    "\"\"\"\n",
    "\n",
    "# Read the file from DBFS (replace with your actual path)\n",
    "rdd = spark.SparkContext.textFile(\"dbfs:/FileStore/tables/custs\")\n",
    "\n",
    "# Split by comma\n",
    "rdd1 = rdd.map(lambda x: x.split(\",\"))\n",
    "\n",
    "# Filter rows having exactly 5 columns\n",
    "rdd2 = rdd1.filter(lambda x: len(x) == 5)\n",
    "\n",
    "# Extract profession column (5th column, index 4)\n",
    "rdd3 = rdd2.map(lambda x: x[4])\n",
    "\n",
    "# Get distinct professions\n",
    "rdd4 = rdd3.distinct()\n",
    "\n",
    "# Sort professions in ascending order\n",
    "rdd5 = rdd4.sortBy(lambda x: x, True, 1)\n",
    "\n",
    "# Count and print total unique professions\n",
    "print(\"Total Unique Professions:\", rdd5.count())\n",
    "\n",
    "# Collect and display results\n",
    "for prof in rdd5.collect():\n",
    "    print(prof)"
   ]
  }
 ],
 "metadata": {
  "application/vnd.databricks.v1+notebook": {
   "computePreferences": null,
   "dashboards": [],
   "environmentMetadata": {
    "base_environment": "",
    "environment_version": "3"
   },
   "inputWidgetPreferences": null,
   "language": "python",
   "notebookMetadata": {
    "mostRecentlyExecutedCommandWithImplicitDF": {
     "commandId": 6664317605863657,
     "dataframes": [
      "_sqldf"
     ]
    },
    "pythonIndentUnit": 4
   },
   "notebookName": "Lab03-rdd-ops-custdata",
   "widgets": {}
  },
  "language_info": {
   "name": "python"
  }
 },
 "nbformat": 4,
 "nbformat_minor": 0
}
