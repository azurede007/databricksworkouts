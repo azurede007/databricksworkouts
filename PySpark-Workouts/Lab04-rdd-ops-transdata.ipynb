{
 "cells": [
  {
   "cell_type": "markdown",
   "metadata": {
    "application/vnd.databricks.v1+cell": {
     "cellMetadata": {
      "byteLimit": 2048000,
      "rowLimit": 10000
     },
     "inputWidgets": {},
     "nuid": "a2a9481a-72b9-4928-b692-dd206ea61b5b",
     "showTitle": false,
     "tableResultSettingsMap": {},
     "title": ""
    }
   },
   "source": [
    "# PySpark Notebook - Statewise Sales\n",
    "### This notebook reads transaction data, calculates **state-wise sales totals**, and counts the results.\n",
    "\n"
   ]
  },
  {
   "cell_type": "code",
   "execution_count": 0,
   "metadata": {
    "application/vnd.databricks.v1+cell": {
     "cellMetadata": {
      "byteLimit": 2048000,
      "rowLimit": 10000
     },
     "inputWidgets": {},
     "nuid": "9a596baf-85b7-440d-8811-5b1595c4a39b",
     "showTitle": false,
     "tableResultSettingsMap": {},
     "title": ""
    }
   },
   "outputs": [],
   "source": [
    "# Define helper function\n",
    "def getcount(lst):\n",
    "    lstcnt = len(lst)\n",
    "    print(f\"No of elements in the list: {lstcnt}\")\n"
   ]
  },
  {
   "cell_type": "code",
   "execution_count": 0,
   "metadata": {
    "application/vnd.databricks.v1+cell": {
     "cellMetadata": {},
     "inputWidgets": {},
     "nuid": "d2d8ee5b-5cb9-43b0-81b7-04a899d627e1",
     "showTitle": false,
     "tableResultSettingsMap": {},
     "title": ""
    }
   },
   "outputs": [],
   "source": [
    "# Read the file from DBFS (replace path with your actual dataset)\n",
    "# Setting number of partitions (equivalent to taskcnt in sys.argv)\n",
    "taskcnt = 4  # Example: use 4 partitions\n",
    "print(\"Partitions:\", taskcnt)\n",
    "\n",
    "rdd1 = sc.textFile(\"dbfs:/FileStore/tables/txns\", taskcnt)\n",
    "\n",
    "# Split rows by comma\n",
    "rdd2 = rdd1.map(lambda x: x.split(\",\"))\n",
    "\n",
    "# Map (state, amount)\n",
    "rdd3 = rdd2.map(lambda x: (x[7], float(x[3])))\n",
    "\n",
    "# Reduce by state (sum of sales amount)\n",
    "rdd4 = rdd3.reduceByKey(lambda a, b: a + b)\n",
    "\n",
    "# Collect results\n",
    "result = rdd4.collect()\n",
    "\n",
    "# Print results\n",
    "print(\"State-wise Sales Totals:\")\n",
    "for rec in result:\n",
    "    print(rec)\n",
    "\n",
    "# Count of records\n",
    "cnt = rdd4.count()\n",
    "print(f\"No of Records: {cnt}\")\n",
    "\n",
    "# Use helper function\n",
    "getcount(result)\n"
   ]
  }
 ],
 "metadata": {
  "application/vnd.databricks.v1+notebook": {
   "computePreferences": null,
   "dashboards": [],
   "environmentMetadata": {
    "base_environment": "",
    "environment_version": "3"
   },
   "inputWidgetPreferences": null,
   "language": "python",
   "notebookMetadata": {
    "mostRecentlyExecutedCommandWithImplicitDF": {
     "commandId": 6664317605863657,
     "dataframes": [
      "_sqldf"
     ]
    },
    "pythonIndentUnit": 4
   },
   "notebookName": "Lab04-rdd-ops-transdata",
   "widgets": {}
  },
  "language_info": {
   "name": "python"
  }
 },
 "nbformat": 4,
 "nbformat_minor": 0
}
