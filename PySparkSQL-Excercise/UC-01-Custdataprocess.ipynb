{
 "cells": [
  {
   "cell_type": "markdown",
   "metadata": {
    "application/vnd.databricks.v1+cell": {
     "cellMetadata": {},
     "inputWidgets": {},
     "nuid": "1500e705-3a0d-4072-b85f-8d882ec2f613",
     "showTitle": false,
     "tableResultSettingsMap": {},
     "title": ""
    }
   },
   "source": []
  },
  {
   "cell_type": "markdown",
   "metadata": {
    "application/vnd.databricks.v1+cell": {
     "cellMetadata": {},
     "inputWidgets": {},
     "nuid": "18404eed-9d49-4772-9e68-0cd164129ce4",
     "showTitle": false,
     "tableResultSettingsMap": {},
     "title": ""
    }
   },
   "source": [
    "### Read customer file and process it\n",
    "1. Download the custs.txt file from [github url](https://github.com/azurede007/pycharmworkouts/blob/master/Data/custs.txt)\n",
    "2. Create volume called \"**customerfile**\" under the schema/database \"**customerdb**\" under the catalog \"**spark_workouts**\"\n",
    "3. Create a folder called **custdata** in the volume customerfile and copy the downloaded file\n",
    "4. Create a folder under the home called \"**PySparkSQL-Excercise**\"\n",
    "5. Create a notebook called \"**UC01-custdataprocess**\"\n",
    "6. Read the custs.txt uploaded file with schema, filter only the profession = pilot \n",
    "7. Write the output in the volume folder path customerfile/pilotdata "
   ]
  },
  {
   "cell_type": "code",
   "execution_count": 0,
   "metadata": {
    "application/vnd.databricks.v1+cell": {
     "cellMetadata": {
      "byteLimit": 2048000,
      "rowLimit": 10000
     },
     "inputWidgets": {},
     "nuid": "bfe7a80d-dd44-4786-8f5f-bca9cff8f01d",
     "showTitle": false,
     "tableResultSettingsMap": {},
     "title": ""
    }
   },
   "outputs": [],
   "source": [
    "custdf = spark.read.format(\"csv\").options(header=True,inferSchema=True).load(\"dbfs:/Volumes/spark_workouts/customerdb/customerfiles/custdata/custs.txt\")\n",
    "custdf.display()\n"
   ]
  },
  {
   "cell_type": "code",
   "execution_count": 0,
   "metadata": {
    "application/vnd.databricks.v1+cell": {
     "cellMetadata": {
      "byteLimit": 2048000,
      "rowLimit": 10000
     },
     "inputWidgets": {},
     "nuid": "45703d67-6648-4143-9c96-a45a1c1eb139",
     "showTitle": false,
     "tableResultSettingsMap": {},
     "title": ""
    }
   },
   "outputs": [],
   "source": [
    "pilotdf = custdf.filter(custdf.profession == 'Pilot')\n",
    "pilotdf.display()"
   ]
  },
  {
   "cell_type": "code",
   "execution_count": 0,
   "metadata": {
    "application/vnd.databricks.v1+cell": {
     "cellMetadata": {
      "byteLimit": 2048000,
      "rowLimit": 10000
     },
     "inputWidgets": {},
     "nuid": "8d2f7459-7f47-4987-bea4-a43550c761cd",
     "showTitle": false,
     "tableResultSettingsMap": {},
     "title": ""
    }
   },
   "outputs": [],
   "source": [
    "pilotdf.write.mode(\"overwrite\").format(\"csv\").options(header=True).save(\"dbfs:/Volumes/spark_workouts/customerdb/customerfiles/pilotdata\")\n",
    "\n",
    "print(\"PilotData Saved\")"
   ]
  },
  {
   "cell_type": "code",
   "execution_count": 0,
   "metadata": {
    "application/vnd.databricks.v1+cell": {
     "cellMetadata": {
      "byteLimit": 2048000,
      "rowLimit": 10000
     },
     "inputWidgets": {},
     "nuid": "6d474839-eda3-405e-b7ab-0d43ff63b680",
     "showTitle": false,
     "tableResultSettingsMap": {},
     "title": ""
    }
   },
   "outputs": [],
   "source": [
    "custdf = (spark.read.format(\"csv\")\n",
    "          .options(inferSchema=True)\n",
    "          .load(\"/Volumes/spark_workouts/customerdb/customerfiles/custdata/cust.txt\")\n",
    "          .toDF(\"custid\",\"fname\",\"lname\",\"age\",\"profession\"))\n",
    "\n",
    "custdf.printSchema()"
   ]
  }
 ],
 "metadata": {
  "application/vnd.databricks.v1+notebook": {
   "computePreferences": null,
   "dashboards": [],
   "environmentMetadata": {
    "base_environment": "",
    "environment_version": "3"
   },
   "inputWidgetPreferences": null,
   "language": "python",
   "notebookMetadata": {
    "pythonIndentUnit": 4
   },
   "notebookName": "UC-01-Custdataprocess",
   "widgets": {}
  },
  "language_info": {
   "name": "python"
  }
 },
 "nbformat": 4,
 "nbformat_minor": 0
}
