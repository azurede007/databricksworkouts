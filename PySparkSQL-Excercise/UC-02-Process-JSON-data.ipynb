{
 "cells": [
  {
   "cell_type": "markdown",
   "metadata": {
    "application/vnd.databricks.v1+cell": {
     "cellMetadata": {},
     "inputWidgets": {},
     "nuid": "8ab41c90-551b-4057-91a2-b19b694cf5cf",
     "showTitle": false,
     "tableResultSettingsMap": {},
     "title": ""
    }
   },
   "source": [
    "### Read the data and load into the dataframe and flattern the data in the given output format\n",
    "studid,studname,studsports <br>\n",
    "1001,\"Raghav\",\"{'sportsname':'cricket','year':2024,'sportcoach':'Kamalesh'}\" <br>\n",
    "1002,\"Madhav\",\"{'sportsname':'football','year':2025,'sportcoach':'Rajesh'}\"<br>\n",
    "1003,\"Kannan\",\"{'sportsname':'hockey','year':2025,'sportcoach':'Vimal'}\"<br>\n",
    "\n",
    "- Output<br>\n",
    "studid,studnmae,studentsports,sportsname,year,sportcoach"
   ]
  }
 ],
 "metadata": {
  "application/vnd.databricks.v1+notebook": {
   "computePreferences": null,
   "dashboards": [],
   "environmentMetadata": {
    "base_environment": "",
    "environment_version": "3"
   },
   "inputWidgetPreferences": null,
   "language": "python",
   "notebookMetadata": {
    "pythonIndentUnit": 4
   },
   "notebookName": "UC-02-Process-JSON-data",
   "widgets": {}
  },
  "language_info": {
   "name": "python"
  }
 },
 "nbformat": 4,
 "nbformat_minor": 0
}
