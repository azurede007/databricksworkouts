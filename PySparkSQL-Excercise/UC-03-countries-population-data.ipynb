{
 "cells": [
  {
   "cell_type": "markdown",
   "metadata": {
    "application/vnd.databricks.v1+cell": {
     "cellMetadata": {},
     "inputWidgets": {},
     "nuid": "7781278e-ac06-434b-8f05-77f9da56983c",
     "showTitle": false,
     "tableResultSettingsMap": {},
     "title": ""
    }
   },
   "source": [
    "### Countries Population UseCase\n",
    "[Source](https://github.com/azurede007/data-repo/blob/main/countries_population.csv)\n",
    "- COUNTRY_ID – Unique identifier for each country.\n",
    "- NAME – Official name of the country.\n",
    "- NATIONALITY – Name of the citizens of the country.\n",
    "- COUNTRY_CODE – Numeric or internal code representing the country.\n",
    "- ISO_ALPHA2 – Two-letter ISO standard code for the country.\n",
    "- CAPITAL – Capital city of the country.\n",
    "- POPULATION – Total number of people living in the country.\n",
    "- AREA_KM2 – Total land area of the country in square kilometers.\n",
    "- REGION_ID – Identifier for the region the country belongs to.\n",
    "- SUB_REGION_ID – Identifier for the sub-region within the region."
   ]
  },
  {
   "cell_type": "markdown",
   "metadata": {
    "application/vnd.databricks.v1+cell": {
     "cellMetadata": {},
     "inputWidgets": {},
     "nuid": "148bde72-be9d-4c89-b34a-519122847207",
     "showTitle": false,
     "tableResultSettingsMap": {},
     "title": ""
    }
   },
   "source": [
    "### UseCases\n",
    "\n",
    "- Top Capitals – Identify capitals with the largest populations.\n",
    "- Country Count per Region – Count how many countries belong to each region.\n",
    "- Population Ranking – List countries from highest to lowest population.\n",
    "- Region Population Summary – Sum population per region and sub-region."
   ]
  },
  {
   "cell_type": "code",
   "execution_count": 0,
   "metadata": {
    "application/vnd.databricks.v1+cell": {
     "cellMetadata": {},
     "inputWidgets": {},
     "nuid": "8ea813e2-73e0-4622-92dc-196e10cf66be",
     "showTitle": false,
     "tableResultSettingsMap": {},
     "title": ""
    }
   },
   "outputs": [],
   "source": []
  }
 ],
 "metadata": {
  "application/vnd.databricks.v1+notebook": {
   "computePreferences": null,
   "dashboards": [],
   "environmentMetadata": {
    "base_environment": "",
    "environment_version": "3"
   },
   "inputWidgetPreferences": null,
   "language": "python",
   "notebookMetadata": {
    "pythonIndentUnit": 4
   },
   "notebookName": "UC-03-countries-population-data",
   "widgets": {}
  },
  "language_info": {
   "name": "python"
  }
 },
 "nbformat": 4,
 "nbformat_minor": 0
}
