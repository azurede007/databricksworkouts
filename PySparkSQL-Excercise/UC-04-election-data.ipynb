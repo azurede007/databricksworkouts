{
 "cells": [
  {
   "cell_type": "markdown",
   "metadata": {
    "application/vnd.databricks.v1+cell": {
     "cellMetadata": {},
     "inputWidgets": {},
     "nuid": "35281b22-8ed3-45cb-af82-c9c426f3b568",
     "showTitle": false,
     "tableResultSettingsMap": {},
     "title": ""
    }
   },
   "source": [
    "### Election Data Usecase\n",
    "[Source](https://github.com/azurede007/data-repo/blob/main/election_data_2014.csv) <br/>\n",
    "File contains below fields\n",
    "- state: Name of the state where the constituency is located.\n",
    "- constituency:  Name of the electoral constituency.\n",
    "- candidate_name:  Name of the contesting candidate.\n",
    "- sex:  Gender of the candidate (M/F).\n",
    "- age:  Age of the candidate in years.\n",
    "- category:  Candidate’s reservation category (e.g., ST, SC, General).\n",
    "- partyname:  Name of the political party the candidate represents.\n",
    "- partysymbol:  Symbol associated with the candidate’s political party.\n",
    "- general:  Number of votes cast via general voting method.\n",
    "- postal:  Number of votes cast via postal ballots.\n",
    "- total:  Total votes received by the candidate (general + postal).\n",
    "- pct_of_total_votes:  Candidate’s votes as a percentage of total registered voters.\n",
    "- pct_of_polled_votes:  Candidate’s votes as a percentage of total votes actually cast.\n",
    "- totalvoters:  Total number of registered voters in the constituency."
   ]
  },
  {
   "cell_type": "markdown",
   "metadata": {
    "application/vnd.databricks.v1+cell": {
     "cellMetadata": {},
     "inputWidgets": {},
     "nuid": "62e53b7f-e57f-40bd-be47-e5dbc7efbe0a",
     "showTitle": false,
     "tableResultSettingsMap": {},
     "title": ""
    }
   },
   "source": [
    "### Basic Usecases\n",
    "- Read the election CSV file into a PySpark DataFrame\n",
    "- Infer or define a custom schema for the dataset\n",
    "- Display schema and preview data with printSchema() and show()\n",
    "- Select specific columns (select) and rename them (withColumnRenamed)\n",
    "- Filter rows based on conditions (e.g., candidates above a certain age)\n",
    "- Drop unnecessary columns using drop()\n",
    "- Handle missing values using na.fill() or na.drop()\n",
    "- Cast columns to correct data types (e.g., age → Integer)\n",
    "- Add a new column (e.g., total votes = general + postal)\n",
    "- Sort candidates by total votes in descending order\n",
    "- Count total number of candidates, parties, or constituencies\n",
    "- Group by state or partyname and count candidates\n",
    "- Show distinct party names, categories, or constituencies\n",
    "- Create a temporary view and query the data using Spark SQL"
   ]
  },
  {
   "cell_type": "markdown",
   "metadata": {
    "application/vnd.databricks.v1+cell": {
     "cellMetadata": {},
     "inputWidgets": {},
     "nuid": "a5f03689-57ac-491d-9a32-db86be4141c1",
     "showTitle": false,
     "tableResultSettingsMap": {},
     "title": ""
    }
   },
   "source": [
    "### Advanced UseCase\n",
    "- Add derived columns like vote_margin, turnout_percentage, and vote_share\n",
    "- Validate data consistency (e.g., check if total = general + postal)\n",
    "- Clean and standardize string columns (e.g., trim spaces in constituency)\n",
    "- Calculate total votes by partyname per state\n",
    "- Compute average age of candidates per party or constituency\n",
    "- Calculate voter turnout percentage per constituency\n",
    "- Find party-wise total votes and percentage share\n",
    "- Identify winner per constituency\n",
    "- Find top 3 candidates per constituency and calculate margin of victory\n",
    "- Rank parties by total votes per state\n",
    "- Create temp views and run SQL queries to analyze party performance\n",
    "- Build an end-to-end ETL pipeline (ingest → transform → aggregate → load)\n",
    "- Write aggregated results into Delta tables"
   ]
  },
  {
   "cell_type": "code",
   "execution_count": 0,
   "metadata": {
    "application/vnd.databricks.v1+cell": {
     "cellMetadata": {},
     "inputWidgets": {},
     "nuid": "be08c44d-cb09-4546-9ad0-fff86e008ed8",
     "showTitle": false,
     "tableResultSettingsMap": {},
     "title": ""
    }
   },
   "outputs": [],
   "source": []
  }
 ],
 "metadata": {
  "application/vnd.databricks.v1+notebook": {
   "computePreferences": null,
   "dashboards": [],
   "environmentMetadata": {
    "base_environment": "",
    "environment_version": "3"
   },
   "inputWidgetPreferences": null,
   "language": "python",
   "notebookMetadata": {
    "pythonIndentUnit": 4
   },
   "notebookName": "UC-04-election-data",
   "widgets": {}
  },
  "language_info": {
   "name": "python"
  }
 },
 "nbformat": 4,
 "nbformat_minor": 0
}
