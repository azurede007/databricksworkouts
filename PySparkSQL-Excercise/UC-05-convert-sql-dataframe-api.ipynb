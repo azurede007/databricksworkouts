{
 "cells": [
  {
   "cell_type": "markdown",
   "metadata": {
    "application/vnd.databricks.v1+cell": {
     "cellMetadata": {},
     "inputWidgets": {},
     "nuid": "1aa414b1-845c-4f0b-9082-cd60cb584a1e",
     "showTitle": false,
     "tableResultSettingsMap": {},
     "title": ""
    }
   },
   "source": [
    "### Convert the below SparkSQL queries into SparkSQL dataframe api"
   ]
  },
  {
   "cell_type": "code",
   "execution_count": 0,
   "metadata": {
    "application/vnd.databricks.v1+cell": {
     "cellMetadata": {},
     "inputWidgets": {},
     "nuid": "0f384d91-62c2-463a-85c8-18a56078ba89",
     "showTitle": false,
     "tableResultSettingsMap": {},
     "title": ""
    }
   },
   "outputs": [],
   "source": [
    "#=======================\n",
    "txns_df = spark.createDataFrame([\n",
    "    (\"101\", \"C001\", 500, \"Tamil Nadu\"),\n",
    "    (\"102\", \"C002\", 1500, \"Kerala\"),\n",
    "    (\"103\", \"C003\", 2000, \"Karnataka\"),\n",
    "    (\"104\", \"C004\", 700, \"Tamil Nadu\")\n",
    "], [\"txnid\", \"custid\", \"amount\", \"state\"])\n",
    "\n",
    "cust_df = spark.createDataFrame([\n",
    "    (\"C001\", \"Arjun\"),\n",
    "    (\"C003\", \"Divya\")\n",
    "], [\"custid\", \"fname\"])"
   ]
  },
  {
   "cell_type": "code",
   "execution_count": 0,
   "metadata": {
    "application/vnd.databricks.v1+cell": {
     "cellMetadata": {},
     "inputWidgets": {},
     "nuid": "e6927538-c879-4ada-9096-e1fe37f92113",
     "showTitle": false,
     "tableResultSettingsMap": {},
     "title": ""
    }
   },
   "outputs": [],
   "source": [
    "%sql\n",
    "CREATE OR REPLACE TEMP VIEW txns_view1 AS\n",
    "SELECT * FROM        \n",
    "(SELECT _c0 as txnid,_c1 as txndate,_c2 as custid,_c3 as txnamount,_c4 as prodname,_c5 as category,_c6 as city,_c7 as state,_c8 as paymenttype FROM txns_view);\n",
    "\n",
    "select * from txns_view1 limit 10;\n",
    "\n",
    "\n",
    "CREATE OR REPLACE TEMP VIEW final_view AS\n",
    "SELECT c.fname,c.lname,c.profession, t.txnamount,t.city,t.state FROM cust_view1 c INNER JOIN txns_view1 t ON c.custid = t.custid WHERE c.profession = 'Pilot' AND c.age > 30;\n",
    "\n",
    "CREATE OR REPLACE TABLE inceptez_catalog.inputdb.tblcustomertxns AS\n",
    "SELECT * FROM final_view;"
   ]
  }
 ],
 "metadata": {
  "application/vnd.databricks.v1+notebook": {
   "computePreferences": null,
   "dashboards": [],
   "environmentMetadata": {
    "base_environment": "",
    "environment_version": "4"
   },
   "inputWidgetPreferences": null,
   "language": "python",
   "notebookMetadata": {
    "pythonIndentUnit": 4
   },
   "notebookName": "UC-05-convert-sql-dataframe-api",
   "widgets": {}
  },
  "language_info": {
   "name": "python"
  }
 },
 "nbformat": 4,
 "nbformat_minor": 0
}
