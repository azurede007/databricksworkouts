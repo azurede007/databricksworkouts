{
 "cells": [
  {
   "cell_type": "markdown",
   "metadata": {
    "application/vnd.databricks.v1+cell": {
     "cellMetadata": {},
     "inputWidgets": {},
     "nuid": "524b34fd-04e9-4e28-ac50-60e220744272",
     "showTitle": false,
     "tableResultSettingsMap": {},
     "title": ""
    }
   },
   "source": [
    "###  OPTIMIZE COMMAND IN DATABRICKS (DELTA LAKE)\n",
    "\n",
    "#### PURPOSE:\n",
    "- The OPTIMIZE command in Databricks compacts small files into larger ones within a Delta table.\n",
    "- This improves query performance by reducing the number of files that Spark needs to read.\n",
    "\n",
    "#### WHY NEEDED:\n",
    "- Delta tables can accumulate many small files due to frequent updates, merges, and streaming writes.\n",
    "- OPTIMIZE combines these small files into fewer large files, which helps improve read performance.\n",
    "\n",
    "#### HOW IT WORKS:\n",
    "- It rewrites data files within each partition(if any) into optimized files.\n",
    "- Uses a bin-packing algorithm to combine smaller files into target-sized files (~1GB each).\n",
    "- Only affects physical layout of data — does NOT change data content.\n"
   ]
  },
  {
   "cell_type": "code",
   "execution_count": 0,
   "metadata": {
    "application/vnd.databricks.v1+cell": {
     "cellMetadata": {
      "byteLimit": 2048000,
      "implicitDf": true,
      "rowLimit": 10000
     },
     "inputWidgets": {},
     "nuid": "a8e8942c-9746-4374-a2c9-d54b8bfba4af",
     "showTitle": false,
     "tableResultSettingsMap": {},
     "title": ""
    }
   },
   "outputs": [],
   "source": [
    "%sql\n",
    "-- Step 1: Create a Delta table\n",
    "CREATE OR REPLACE TABLE inceptez_catalog.inputdb.tblsales\n",
    "(\n",
    "  sales_id INT,\n",
    "  product_id INT,\n",
    "  region STRING,\n",
    "  sales_amount DOUBLE,\n",
    "  sales_date DATE\n",
    ")\n",
    "USING DELTA;"
   ]
  },
  {
   "cell_type": "code",
   "execution_count": 0,
   "metadata": {
    "application/vnd.databricks.v1+cell": {
     "cellMetadata": {
      "byteLimit": 2048000,
      "implicitDf": true,
      "rowLimit": 10000
     },
     "inputWidgets": {},
     "nuid": "ed49efb7-5150-4544-85f1-d36bd7d6935e",
     "showTitle": false,
     "tableResultSettingsMap": {},
     "title": ""
    }
   },
   "outputs": [],
   "source": [
    "%sql\n",
    "-- Step 2: Insert sample data\n",
    "\n",
    "-- Let’s add multiple small batches to simulate many small files:\n",
    "\n",
    "INSERT INTO inceptez_catalog.inputdb.tblsales VALUES\n",
    "  (1, 101, 'North', 1000.50, '2025-10-16'),\n",
    "  (2, 102, 'South', 500.75, '2025-10-16'),\n",
    "  (3, 103, 'East', 700.20, '2025-10-16'),\n",
    "  (4, 104, 'West', 1200.00, '2025-10-16');\n",
    "\n",
    "INSERT INTO inceptez_catalog.inputdb.tblsales VALUES\n",
    "  (5, 101, 'North', 800.00, '2025-10-17'),\n",
    "  (6, 102, 'South', 450.00, '2025-10-17'),\n",
    "  (7, 103, 'East', 600.00, '2025-10-17'),\n",
    "  (8, 104, 'West', 1100.00, '2025-10-17');\n"
   ]
  },
  {
   "cell_type": "code",
   "execution_count": 0,
   "metadata": {
    "application/vnd.databricks.v1+cell": {
     "cellMetadata": {
      "byteLimit": 2048000,
      "implicitDf": true,
      "rowLimit": 10000
     },
     "inputWidgets": {},
     "nuid": "88dcabf2-56b3-4e23-ae99-7ce4df09d80c",
     "showTitle": false,
     "tableResultSettingsMap": {},
     "title": ""
    }
   },
   "outputs": [],
   "source": [
    "%sql\n",
    "select * from inceptez_catalog.inputdb.tblsales;\n",
    "--spark.sql(\"select * from inceptez_catalog.inputdb.tblsales\");\n",
    "--spark.Table(\"inceptez_catalog.inputdb.tblsales\")"
   ]
  },
  {
   "cell_type": "code",
   "execution_count": 0,
   "metadata": {
    "application/vnd.databricks.v1+cell": {
     "cellMetadata": {
      "byteLimit": 2048000,
      "implicitDf": true,
      "rowLimit": 10000
     },
     "inputWidgets": {},
     "nuid": "1c9609ea-5aea-460c-bfd8-e7bf568da27a",
     "showTitle": false,
     "tableResultSettingsMap": {},
     "title": ""
    }
   },
   "outputs": [],
   "source": [
    "%sql\n",
    "-- Step 3: Check fragmentation\n",
    "\n",
    "DESCRIBE DETAIL inceptez_catalog.inputdb.tblsales;"
   ]
  },
  {
   "cell_type": "code",
   "execution_count": 0,
   "metadata": {
    "application/vnd.databricks.v1+cell": {
     "cellMetadata": {
      "byteLimit": 2048000,
      "implicitDf": true,
      "rowLimit": 10000
     },
     "inputWidgets": {},
     "nuid": "6f376629-f49b-4da2-beac-100b3ccdc347",
     "showTitle": false,
     "tableResultSettingsMap": {},
     "title": ""
    }
   },
   "outputs": [],
   "source": [
    "%sql\n",
    "-- Step 4: Optimize the table\n",
    "-- This performs file compaction:\n",
    "-- Combines many small Parquet files into fewer large files (around 1 GB default).\n",
    "-- Improves read performance and reduces metadata overhead.\n",
    "\n",
    "\n",
    "OPTIMIZE inceptez_catalog.inputdb.tblsales;"
   ]
  },
  {
   "cell_type": "code",
   "execution_count": 0,
   "metadata": {
    "application/vnd.databricks.v1+cell": {
     "cellMetadata": {
      "byteLimit": 2048000,
      "implicitDf": true,
      "rowLimit": 10000
     },
     "inputWidgets": {},
     "nuid": "488b4cd7-9bdb-4909-8cc5-ecb09337e6f7",
     "showTitle": false,
     "tableResultSettingsMap": {},
     "title": ""
    }
   },
   "outputs": [],
   "source": [
    "%sql\n",
    "-- Step 5: Verify compaction\n",
    "\n",
    "-- After optimization, run:\n",
    "\n",
    "DESCRIBE DETAIL inceptez_catalog.inputdb.tblsales;"
   ]
  }
 ],
 "metadata": {
  "application/vnd.databricks.v1+notebook": {
   "computePreferences": null,
   "dashboards": [],
   "environmentMetadata": {
    "base_environment": "",
    "environment_version": "4"
   },
   "inputWidgetPreferences": null,
   "language": "python",
   "notebookMetadata": {
    "mostRecentlyExecutedCommandWithImplicitDF": {
     "commandId": 4981374392318818,
     "dataframes": [
      "_sqldf"
     ]
    },
    "pythonIndentUnit": 4
   },
   "notebookName": "Lab01-Optimize",
   "widgets": {}
  },
  "language_info": {
   "name": "python"
  }
 },
 "nbformat": 4,
 "nbformat_minor": 0
}
