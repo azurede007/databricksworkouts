{
 "cells": [
  {
   "cell_type": "markdown",
   "metadata": {
    "application/vnd.databricks.v1+cell": {
     "cellMetadata": {},
     "inputWidgets": {},
     "nuid": "ce26cc20-29f0-4884-9162-c4e972a95b60",
     "showTitle": false,
     "tableResultSettingsMap": {},
     "title": ""
    }
   },
   "source": [
    "### ZORDER IN DATABRICKS (DELTA LAKE)\n",
    "\n",
    "#### ZORDER:\n",
    "- ZORDER is an optional feature used with OPTIMIZE to colocate related data physically in the same set of files.\n",
    "- It improves query performance for range or equality filters on the specified columns.\n",
    "\n",
    "#### USAGE:\n",
    "- OPTIMIZE table_name [WHERE predicate] ZORDER BY (col1, col2, ...)\n",
    "- Reduces file scan for queries filtering on ZORDER columns.\n",
    "- Works best for columns used frequently in WHERE clauses.\n",
    "- Only reorganizes existing data; does not add or remove rows.\n",
    "\n",
    "#### EXAMPLE USE CASE:\n",
    "- Periodically optimize large Delta tables with frequent writes/updates.\n",
    "- Use ZORDER on high-selectivity columns to improve read performance.\n"
   ]
  },
  {
   "cell_type": "code",
   "execution_count": 0,
   "metadata": {
    "application/vnd.databricks.v1+cell": {
     "cellMetadata": {
      "byteLimit": 2048000,
      "implicitDf": true,
      "rowLimit": 10000
     },
     "inputWidgets": {},
     "nuid": "914654e0-18d3-495c-8665-4b7e73775db7",
     "showTitle": false,
     "tableResultSettingsMap": {},
     "title": ""
    }
   },
   "outputs": [],
   "source": [
    "%sql\n",
    "\n",
    "-- Step 1 – Create the Delta table\n",
    "\n",
    "CREATE TABLE inceptez_catalog.inputdb.customer_txn (\n",
    "    txn_id INT,\n",
    "    customer_id INT,\n",
    "    region STRING,\n",
    "    txn_amount DOUBLE,\n",
    "    txn_type STRING,\n",
    "    transaction_date DATE\n",
    ")\n",
    "USING DELTA;"
   ]
  },
  {
   "cell_type": "code",
   "execution_count": 0,
   "metadata": {
    "application/vnd.databricks.v1+cell": {
     "cellMetadata": {
      "byteLimit": 2048000,
      "implicitDf": true,
      "rowLimit": 10000
     },
     "inputWidgets": {},
     "nuid": "507f958c-f0f9-4c54-a35f-a3a1897e7c5c",
     "showTitle": false,
     "tableResultSettingsMap": {},
     "title": ""
    }
   },
   "outputs": [],
   "source": [
    "%sql\n",
    "--Step 2 – Insert multiple small batches\n",
    "\n",
    "--Each insert writes a few small Parquet files.\n",
    "\n",
    "-- Batch 1\n",
    "INSERT INTO inceptez_catalog.inputdb.customer_txn VALUES\n",
    " (1, 1001, 'North', 250.00, 'Online', '2025-10-01'),\n",
    " (2, 1002, 'South', 400.00, 'Offline', '2025-10-02'),\n",
    " (3, 1003, 'West', 600.00, 'Online', '2025-10-03');\n",
    "\n",
    "-- Batch 2\n",
    "INSERT INTO inceptez_catalog.inputdb.customer_txn VALUES\n",
    " (4, 1001, 'North', 300.00, 'Offline', '2025-10-01'),\n",
    " (5, 1004, 'East', 750.00, 'Online', '2025-10-02'),\n",
    " (6, 1005, 'South', 180.00, 'Online', '2025-10-03');\n",
    "\n",
    "-- Batch 3\n",
    "INSERT INTO inceptez_catalog.inputdb.customer_txn VALUES\n",
    " (7, 1001, 'North', 270.00, 'Online', '2025-10-01'),\n",
    " (8, 1003, 'West', 500.00, 'Offline', '2025-10-02'),\n",
    " (9, 1002, 'South', 900.00, 'Online', '2025-10-03');\n",
    "\n",
    "/*\n",
    "region=North\n",
    "    - part-0\n",
    "    - part-1\n",
    "    - part-2\n",
    "region=South\n",
    "    - part-0\n",
    "    - part-1\n",
    "    - part-2\n",
    "region=West\n",
    "    - part-0\n",
    "    - part-1\n",
    "region=East\n",
    "    - part-0\n",
    "\n",
    "select * from inceptez_catalog.inputdb.customer_txn where region='North';\n",
    "\n",
    "optimize inceptez_catalog.inputdb.customer_txn;\n",
    "region=North\n",
    "    - part-0\n",
    "    - part-1\n",
    "    - part-2\n",
    "    - part-3 - after optimize\n",
    "region=South\n",
    "    - part-0\n",
    "    - part-1\n",
    "    - part-2\n",
    "    - part-3 - after optimize\n",
    "region=West\n",
    "    - part-0\n",
    "    - part-1\n",
    "    - part-2 - after optimize\n",
    "region=East\n",
    "    - part-0\n",
    "    - part-1 - after optimize\n",
    "\n",
    "\n",
    "optimize inceptez_catalog.inputdb.customer_txn zorder by transaction_date;\n",
    "\n",
    "optimize inceptez_catalog.inputdb.customer_txn;\n",
    "region=North\n",
    "    - part-0\n",
    "    - part-1\n",
    "    - part-2\n",
    "    - part-3 - optimize & sort the data rows in transaction_date\n",
    "region=South\n",
    "    - part-0\n",
    "    - part-1\n",
    "    - part-2\n",
    "    - part-3 - optimize & sort the data rows in transaction_date\n",
    "region=West\n",
    "    - part-0\n",
    "    - part-1\n",
    "    - part-2 - optimize & sort the data rows in transaction_date\n",
    "region=East\n",
    "    - part-0\n",
    "    - part-1 - optimize & sort the data rows in transaction_date\n",
    "*/\n",
    "\n",
    "\n",
    "\n"
   ]
  },
  {
   "cell_type": "code",
   "execution_count": 0,
   "metadata": {
    "application/vnd.databricks.v1+cell": {
     "cellMetadata": {
      "byteLimit": 2048000,
      "implicitDf": true,
      "rowLimit": 10000
     },
     "inputWidgets": {},
     "nuid": "18067c31-c838-4233-9dc9-b6bcea6375ef",
     "showTitle": false,
     "tableResultSettingsMap": {},
     "title": ""
    }
   },
   "outputs": [],
   "source": [
    "%sql\n",
    "-- Step 3 – Inspect fragmentation\n",
    "\n",
    "DESCRIBE DETAIL inceptez_catalog.inputdb.customer_txn;"
   ]
  },
  {
   "cell_type": "code",
   "execution_count": 0,
   "metadata": {
    "application/vnd.databricks.v1+cell": {
     "cellMetadata": {
      "byteLimit": 2048000,
      "implicitDf": true,
      "rowLimit": 10000
     },
     "inputWidgets": {},
     "nuid": "4d7a091a-8641-4543-90eb-a0f9ce601d0c",
     "showTitle": false,
     "tableResultSettingsMap": {},
     "title": ""
    }
   },
   "outputs": [],
   "source": [
    "%sql\n",
    "-- Step 4 – Run OPTIMIZE ZORDER\n",
    "\n",
    "-- Now compact and physically order data.\n",
    "\n",
    "OPTIMIZE inceptez_catalog.inputdb.customer_txn ZORDER BY (transaction_date);"
   ]
  },
  {
   "cell_type": "code",
   "execution_count": 0,
   "metadata": {
    "application/vnd.databricks.v1+cell": {
     "cellMetadata": {
      "byteLimit": 2048000,
      "implicitDf": true,
      "rowLimit": 10000
     },
     "inputWidgets": {},
     "nuid": "6436972e-0dc6-4f53-a1b8-c0298f42490e",
     "showTitle": false,
     "tableResultSettingsMap": {},
     "title": ""
    }
   },
   "outputs": [],
   "source": [
    "%sql\n",
    "-- Step 3 – Inspect fragmentation\n",
    "\n",
    "DESCRIBE DETAIL inceptez_catalog.inputdb.customer_txn;"
   ]
  },
  {
   "cell_type": "code",
   "execution_count": 0,
   "metadata": {
    "application/vnd.databricks.v1+cell": {
     "cellMetadata": {},
     "inputWidgets": {},
     "nuid": "55ac55ce-e350-4c16-a042-fb43c5a784a3",
     "showTitle": false,
     "tableResultSettingsMap": {},
     "title": ""
    }
   },
   "outputs": [],
   "source": [
    "%sql\n",
    "SELECT * \n",
    "FROM inceptez_catalog.inputdb.customer_txn\n",
    "WHERE region = 'North'\n",
    "AND transaction_date BETWEEN '2025-10-01' AND '2025-10-03';"
   ]
  }
 ],
 "metadata": {
  "application/vnd.databricks.v1+notebook": {
   "computePreferences": null,
   "dashboards": [],
   "environmentMetadata": {
    "base_environment": "",
    "environment_version": "4"
   },
   "inputWidgetPreferences": null,
   "language": "python",
   "notebookMetadata": {
    "mostRecentlyExecutedCommandWithImplicitDF": {
     "commandId": 4981374392318825,
     "dataframes": [
      "_sqldf"
     ]
    },
    "pythonIndentUnit": 4
   },
   "notebookName": "Lab02-ZOrder",
   "widgets": {}
  },
  "language_info": {
   "name": "python"
  }
 },
 "nbformat": 4,
 "nbformat_minor": 0
}
