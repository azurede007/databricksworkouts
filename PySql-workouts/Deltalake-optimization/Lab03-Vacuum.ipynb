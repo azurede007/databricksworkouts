{
 "cells": [
  {
   "cell_type": "markdown",
   "metadata": {
    "application/vnd.databricks.v1+cell": {
     "cellMetadata": {},
     "inputWidgets": {},
     "nuid": "d3288769-7dcc-49a3-ac47-1d3ee492d8b5",
     "showTitle": false,
     "tableResultSettingsMap": {},
     "title": ""
    }
   },
   "source": [
    "###  VACUUM COMMAND IN DATABRICKS (DELTA LAKE)\n",
    "\n",
    "#### PURPOSE:\n",
    "- The VACUUM command in Databricks deletes obsolete files from a Delta table to free up storage.\n",
    "- Obsolete files are created during operations like UPDATE, DELETE, MERGE, or OPTIMIZE.\n",
    "\n",
    "#### WHY NEEDED:\n",
    "- Delta tables maintain a transaction log (.delta_log) that keeps old versions of files\n",
    "- for time-travel and ACID compliance. Over time, these files accumulate and occupy storage.\n",
    "- VACUUM safely removes files older than the retention period.\n",
    "\n",
    "#### COMMAND SYNTAX:\n",
    "     VACUUM table_name [RETAIN num HOURS]\n",
    "\n",
    "#### DEFAULT RETENTION:\n",
    "- By default, Delta enforces a 7-day retention period to prevent accidental data loss.\n",
    "- To override, you can specify a shorter period using RETAIN num HOURS.\n",
    "\n",
    "**NOTES AND BEST PRACTICES:**\n",
    "- Do not reduce retention below 1 hour without understanding consequences.\n",
    "- Always use VACUUM after OPTIMIZE to clean obsolete files if needed.\n",
    "- VACUUM only affects physical files, not the transaction log or metadata."
   ]
  },
  {
   "cell_type": "code",
   "execution_count": 0,
   "metadata": {
    "application/vnd.databricks.v1+cell": {
     "cellMetadata": {
      "byteLimit": 2048000,
      "implicitDf": true,
      "rowLimit": 10000
     },
     "inputWidgets": {},
     "nuid": "3b193541-5c27-4ad5-88eb-dc6a615369de",
     "showTitle": false,
     "tableResultSettingsMap": {},
     "title": ""
    }
   },
   "outputs": [],
   "source": [
    "%sql\n",
    "-- Step 1: Create a Delta table\n",
    "\n",
    "CREATE TABLE IF NOT EXISTS inceptez_catalog.inputdb.product_inventory (\n",
    "    product_id INT,\n",
    "    product_name STRING,\n",
    "    category STRING,\n",
    "    price DOUBLE,\n",
    "    quantity INT,\n",
    "    updated_date DATE\n",
    ")\n",
    "USING DELTA;"
   ]
  },
  {
   "cell_type": "code",
   "execution_count": 0,
   "metadata": {
    "application/vnd.databricks.v1+cell": {
     "cellMetadata": {
      "byteLimit": 2048000,
      "implicitDf": true,
      "rowLimit": 10000
     },
     "inputWidgets": {},
     "nuid": "7eea890a-df5d-4b51-9f08-0727e9bfb86f",
     "showTitle": false,
     "tableResultSettingsMap": {},
     "title": ""
    }
   },
   "outputs": [],
   "source": [
    "%sql\n",
    "-- Step 2: Insert initial data\n",
    "\n",
    "INSERT INTO inceptez_catalog.inputdb.product_inventory VALUES\n",
    " (1, 'Laptop', 'Electronics', 65000, 10, '2025-10-01'),\n",
    " (2, 'Headphones', 'Electronics', 2500, 50, '2025-10-01'),\n",
    " (3, 'Desk Chair', 'Furniture', 4500, 20, '2025-10-01');\n",
    "\n"
   ]
  },
  {
   "cell_type": "code",
   "execution_count": 0,
   "metadata": {
    "application/vnd.databricks.v1+cell": {
     "cellMetadata": {
      "byteLimit": 2048000,
      "implicitDf": true,
      "rowLimit": 10000
     },
     "inputWidgets": {},
     "nuid": "92bd3087-b450-40ca-9f26-5f4b90b4e97d",
     "showTitle": false,
     "tableResultSettingsMap": {},
     "title": ""
    }
   },
   "outputs": [],
   "source": [
    "%sql\n",
    "-- Step 3: Update some records (creates new Parquet file versions)\n",
    "\n",
    "UPDATE inceptez_catalog.inputdb.product_inventory\n",
    "SET price = price * 1.1,\n",
    "    updated_date = '2025-10-05'\n",
    "WHERE category = 'Electronics';"
   ]
  },
  {
   "cell_type": "code",
   "execution_count": 0,
   "metadata": {
    "application/vnd.databricks.v1+cell": {
     "cellMetadata": {
      "byteLimit": 2048000,
      "implicitDf": true,
      "rowLimit": 10000
     },
     "inputWidgets": {},
     "nuid": "7abfca25-b7c4-4f37-a5d1-d05b677a397f",
     "showTitle": false,
     "tableResultSettingsMap": {},
     "title": ""
    }
   },
   "outputs": [],
   "source": [
    "%sql\n",
    "-- Step 4: View Delta table history (shows create, insert, update operations)\n",
    "\n",
    "DESCRIBE HISTORY inceptez_catalog.inputdb.product_inventory;"
   ]
  },
  {
   "cell_type": "code",
   "execution_count": 0,
   "metadata": {
    "application/vnd.databricks.v1+cell": {
     "cellMetadata": {
      "byteLimit": 2048000,
      "implicitDf": true,
      "rowLimit": 10000
     },
     "inputWidgets": {},
     "nuid": "c64ded90-b693-4dd5-b41b-e8006e468ef7",
     "showTitle": false,
     "tableResultSettingsMap": {},
     "title": ""
    }
   },
   "outputs": [],
   "source": [
    "%sql\n",
    "-- Step 5: View current table details (file count, size, path)\n",
    "\n",
    "DESCRIBE DETAIL inceptez_catalog.inputdb.product_inventory;"
   ]
  },
  {
   "cell_type": "markdown",
   "metadata": {
    "application/vnd.databricks.v1+cell": {
     "cellMetadata": {},
     "inputWidgets": {},
     "nuid": "b0ea4621-41cc-49a6-9eaa-86be548d957c",
     "showTitle": false,
     "tableResultSettingsMap": {},
     "title": ""
    }
   },
   "source": []
  },
  {
   "cell_type": "code",
   "execution_count": 0,
   "metadata": {
    "application/vnd.databricks.v1+cell": {
     "cellMetadata": {
      "byteLimit": 2048000,
      "implicitDf": true,
      "rowLimit": 10000
     },
     "inputWidgets": {},
     "nuid": "15a152a4-a7fc-480c-88c3-f589cd3ecd4d",
     "showTitle": false,
     "tableResultSettingsMap": {},
     "title": ""
    }
   },
   "outputs": [],
   "source": [
    "%sql\n",
    "-- Disable retention duration check (for demo only)\n",
    "-- Default retention is 7 days for safety\n",
    "-- Run VACUUM to permanently delete obsolete files\n",
    "-- WARNING: Irreversible! Use only for demo or test\n",
    "\n",
    "SET spark.databricks.delta.retentionDurationCheck.enabled = false;\n",
    "VACUUM inceptez_catalog.inputdb.product_inventory RETAIN 0 HOURS;"
   ]
  }
 ],
 "metadata": {
  "application/vnd.databricks.v1+notebook": {
   "computePreferences": null,
   "dashboards": [],
   "environmentMetadata": {
    "base_environment": "",
    "environment_version": "4"
   },
   "inputWidgetPreferences": null,
   "language": "python",
   "notebookMetadata": {
    "mostRecentlyExecutedCommandWithImplicitDF": {
     "commandId": 4981374392318837,
     "dataframes": [
      "_sqldf"
     ]
    },
    "pythonIndentUnit": 4
   },
   "notebookName": "Lab03-Vacuum",
   "widgets": {}
  },
  "language_info": {
   "name": "python"
  }
 },
 "nbformat": 4,
 "nbformat_minor": 0
}
