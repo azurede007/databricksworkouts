{
 "cells": [
  {
   "cell_type": "markdown",
   "metadata": {
    "application/vnd.databricks.v1+cell": {
     "cellMetadata": {},
     "inputWidgets": {},
     "nuid": "a0b8d6ab-1a13-4654-99b6-a7092d0627ac",
     "showTitle": false,
     "tableResultSettingsMap": {},
     "title": ""
    }
   },
   "source": [
    "## Overview\n",
    "**Liquid Clustering**: Databricks' next-generation data clustering feature that automatically manages physical data organization for Delta tables.\n",
    "\n",
    "### What is Liquid Clustering?\n",
    "- Liquid Clustering is a **data layout optimization technique** for Delta tables.\n",
    "- It automatically manages clustering without requiring manual Z-order or partitioning.\n",
    "- Data is **physically organized** on disk to minimize scan cost for frequently queried columns.\n",
    "- It provides **better performance** for selective queries and incremental updates.\n",
    "\n",
    "### Key Points\n",
    "- Introduced in Databricks Runtime 13.3+\n",
    "- Works with Delta tables only\n",
    "- Replaces Manual partitioning and Z-Ordering\n",
    "- Physically reorders data? Yes, in background compaction and OPTIMIZE runs\n",
    "- Maintenance Databricks handles clustering maintenance automatically\n",
    "\n",
    "### Typical Use Cases\n",
    " - Large tables with frequent inserts, updates, and deletes.\n",
    " - Query filtering on specific columns like `customer_id`, `region`, `order_date`.\n",
    " - Scenarios where manual ZORDER tuning is difficult or costly.\n"
   ]
  },
  {
   "cell_type": "code",
   "execution_count": 0,
   "metadata": {
    "application/vnd.databricks.v1+cell": {
     "cellMetadata": {
      "byteLimit": 2048000,
      "implicitDf": true,
      "rowLimit": 10000
     },
     "inputWidgets": {},
     "nuid": "7081f97b-6af5-494f-90ec-ffe10c8cf742",
     "showTitle": false,
     "tableResultSettingsMap": {},
     "title": ""
    }
   },
   "outputs": [],
   "source": [
    "%sql\n",
    "-- Step 1: Create a Delta table using Liquid Clustering\n",
    "-- The CLUSTER BY clause enables liquid clustering automatically.\n",
    "\n",
    "CREATE TABLE IF NOT EXISTS inceptez_catalog.inputdb.sales_orders_liquid\n",
    "(\n",
    "  order_id INT,\n",
    "  customer_id INT,\n",
    "  region STRING,\n",
    "  product STRING,\n",
    "  quantity INT,\n",
    "  price DOUBLE,\n",
    "  order_date DATE\n",
    ")\n",
    "USING DELTA\n",
    "CLUSTER BY (customer_id, region);"
   ]
  },
  {
   "cell_type": "code",
   "execution_count": 0,
   "metadata": {
    "application/vnd.databricks.v1+cell": {
     "cellMetadata": {
      "byteLimit": 2048000,
      "implicitDf": true,
      "rowLimit": 10000
     },
     "inputWidgets": {},
     "nuid": "af1230e9-4c05-4c8f-8743-720bbce732b4",
     "showTitle": false,
     "tableResultSettingsMap": {},
     "title": ""
    }
   },
   "outputs": [],
   "source": [
    "%sql\n",
    "-- Step 2: Insert sample data (multiple small batches)\n",
    "-- Each insert simulates separate data ingestion.\n",
    "\n",
    "INSERT INTO inceptez_catalog.inputdb.sales_orders_liquid VALUES\n",
    " (1, 101, 'North', 'Laptop', 2, 65000, '2025-10-01'),\n",
    " (2, 102, 'South', 'Headphones', 5, 2500, '2025-10-01'),\n",
    " (3, 103, 'West', 'Desk Chair', 3, 4500, '2025-10-02');\n",
    "\n",
    "INSERT INTO inceptez_catalog.inputdb.sales_orders_liquid VALUES\n",
    " (4, 101, 'North', 'Keyboard', 1, 1200, '2025-10-03'),\n",
    " (5, 104, 'East', 'Monitor', 2, 9500, '2025-10-03'),\n",
    " (6, 105, 'South', 'Mouse', 4, 700, '2025-10-03');\n"
   ]
  },
  {
   "cell_type": "code",
   "execution_count": 0,
   "metadata": {
    "application/vnd.databricks.v1+cell": {
     "cellMetadata": {
      "byteLimit": 2048000,
      "implicitDf": true,
      "rowLimit": 10000
     },
     "inputWidgets": {},
     "nuid": "49edbda2-2dec-479c-b67d-50e031279d94",
     "showTitle": false,
     "tableResultSettingsMap": {},
     "title": ""
    }
   },
   "outputs": [],
   "source": [
    "%sql\n",
    "-- Step 3: Query data\n",
    "SELECT * FROM inceptez_catalog.inputdb.sales_orders_liquid;\n"
   ]
  },
  {
   "cell_type": "code",
   "execution_count": 0,
   "metadata": {
    "application/vnd.databricks.v1+cell": {
     "cellMetadata": {
      "byteLimit": 2048000,
      "implicitDf": true,
      "rowLimit": 10000
     },
     "inputWidgets": {},
     "nuid": "c336a1fb-ba74-47a0-986c-4d5d0df27c0b",
     "showTitle": false,
     "tableResultSettingsMap": {},
     "title": ""
    }
   },
   "outputs": [],
   "source": [
    "%sql\n",
    "-- Step 4: View table details\n",
    "DESCRIBE DETAIL inceptez_catalog.inputdb.sales_orders_liquid"
   ]
  },
  {
   "cell_type": "code",
   "execution_count": 0,
   "metadata": {
    "application/vnd.databricks.v1+cell": {
     "cellMetadata": {
      "byteLimit": 2048000,
      "implicitDf": true,
      "rowLimit": 10000
     },
     "inputWidgets": {},
     "nuid": "39385cd2-eb16-476f-bc6e-ee86f52a58ba",
     "showTitle": false,
     "tableResultSettingsMap": {},
     "title": ""
    }
   },
   "outputs": [],
   "source": [
    "%sql\n",
    "DESCRIBE HISTORY  inceptez_catalog.inputdb.sales_orders_liquid;\n"
   ]
  },
  {
   "cell_type": "code",
   "execution_count": 0,
   "metadata": {
    "application/vnd.databricks.v1+cell": {
     "cellMetadata": {
      "byteLimit": 2048000,
      "implicitDf": true,
      "rowLimit": 10000
     },
     "inputWidgets": {},
     "nuid": "0561794a-eaf3-4aff-8bbd-35dd87870b11",
     "showTitle": false,
     "tableResultSettingsMap": {},
     "title": ""
    }
   },
   "outputs": [],
   "source": [
    "%sql\n",
    "-- Step 5: Simulate updates (which trigger reclustering under the hood)\n",
    "UPDATE inceptez_catalog.inputdb.sales_orders_liquid\n",
    "SET price = price * 1.05\n",
    "WHERE region = 'North';"
   ]
  },
  {
   "cell_type": "code",
   "execution_count": 0,
   "metadata": {
    "application/vnd.databricks.v1+cell": {
     "cellMetadata": {
      "byteLimit": 2048000,
      "implicitDf": true,
      "rowLimit": 10000
     },
     "inputWidgets": {},
     "nuid": "dd71e6fe-b1d2-42a6-8134-0e7e7a93bfe4",
     "showTitle": false,
     "tableResultSettingsMap": {},
     "title": ""
    }
   },
   "outputs": [],
   "source": [
    "%sql\n",
    "-- Step 6: Verify table history (you will see multiple operations)\n",
    "DESCRIBE HISTORY inceptez_catalog.inputdb.sales_orders_liquid;"
   ]
  },
  {
   "cell_type": "code",
   "execution_count": 0,
   "metadata": {
    "application/vnd.databricks.v1+cell": {
     "cellMetadata": {
      "byteLimit": 2048000,
      "implicitDf": true,
      "rowLimit": 10000
     },
     "inputWidgets": {},
     "nuid": "1eb8f1d0-9b4a-408a-8dec-a1019389538c",
     "showTitle": false,
     "tableResultSettingsMap": {},
     "title": ""
    }
   },
   "outputs": [],
   "source": [
    "%sql\n",
    "UPDATE inceptez_catalog.inputdb.sales_orders_liquid\n",
    "SET price = price * 1.05\n",
    "WHERE region = 'South';\n"
   ]
  },
  {
   "cell_type": "code",
   "execution_count": 0,
   "metadata": {
    "application/vnd.databricks.v1+cell": {
     "cellMetadata": {
      "byteLimit": 2048000,
      "implicitDf": true,
      "rowLimit": 10000
     },
     "inputWidgets": {},
     "nuid": "43501e5a-21ee-4b13-87b4-dec093862bfb",
     "showTitle": false,
     "tableResultSettingsMap": {},
     "title": ""
    }
   },
   "outputs": [],
   "source": [
    "%sql\n",
    "DELETE FROM inceptez_catalog.inputdb.sales_orders_liquid\n",
    "WHERE region = 'East';"
   ]
  },
  {
   "cell_type": "code",
   "execution_count": 0,
   "metadata": {
    "application/vnd.databricks.v1+cell": {
     "cellMetadata": {
      "byteLimit": 2048000,
      "implicitDf": true,
      "rowLimit": 10000
     },
     "inputWidgets": {},
     "nuid": "bd946791-1229-40be-b635-fd8b5e8cc4bb",
     "showTitle": false,
     "tableResultSettingsMap": {},
     "title": ""
    }
   },
   "outputs": [],
   "source": [
    "%sql\n",
    "DESCRIBE HISTORY inceptez_catalog.inputdb.sales_orders_liquid;"
   ]
  }
 ],
 "metadata": {
  "application/vnd.databricks.v1+notebook": {
   "computePreferences": null,
   "dashboards": [],
   "environmentMetadata": {
    "base_environment": "",
    "environment_version": "4"
   },
   "inputWidgetPreferences": null,
   "language": "python",
   "notebookMetadata": {
    "mostRecentlyExecutedCommandWithImplicitDF": {
     "commandId": 4981374392318849,
     "dataframes": [
      "_sqldf"
     ]
    },
    "pythonIndentUnit": 4
   },
   "notebookName": "Lab04-Cluster-By",
   "widgets": {}
  },
  "language_info": {
   "name": "python"
  }
 },
 "nbformat": 4,
 "nbformat_minor": 0
}
