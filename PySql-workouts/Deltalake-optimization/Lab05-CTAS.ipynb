{
 "cells": [
  {
   "cell_type": "markdown",
   "metadata": {
    "application/vnd.databricks.v1+cell": {
     "cellMetadata": {},
     "inputWidgets": {},
     "nuid": "2b16fd69-498e-4421-a473-3f31a0e462a3",
     "showTitle": false,
     "tableResultSettingsMap": {},
     "title": ""
    }
   },
   "source": [
    "# Delta Table – CTAS (Create Table As Select) Example\n",
    "\n",
    "## Overview\n",
    "CTAS (Create Table As Select) is a **Databricks SQL command** used to:\n",
    "1. Create a new Delta table\n",
    "2. Populate it immediately with data from a **SELECT query**\n",
    "\n",
    "**Advantages of CTAS:**\n",
    "- Create & populate table in **one step**\n",
    "- Avoids separate `CREATE TABLE` + `INSERT INTO`\n",
    "- Supports **transformations during table creation**\n",
    "- Can specify **table properties, partitioning, clustering, and storage location**\n",
    "\n",
    "Syntax:\n",
    "\n",
    "```sql\n",
    "CREATE TABLE <table_name>\n",
    "USING <format>\n",
    "[LOCATION <path>]\n",
    "AS\n",
    "SELECT ...;\n",
    "```\n",
    "- **Advantages**:\n",
    "  1. Creates & populates table in **one step**.\n",
    "  2. Supports **transformations** (casting, filtering, computed columns) during creation.\n",
    "  3. Supports **Delta table properties**, partitioning, and clustering.\n",
    "  4. Reduces need for separate `CREATE TABLE` + `INSERT` operations.\n"
   ]
  },
  {
   "cell_type": "code",
   "execution_count": 0,
   "metadata": {
    "application/vnd.databricks.v1+cell": {
     "cellMetadata": {
      "byteLimit": 2048000,
      "rowLimit": 10000
     },
     "inputWidgets": {},
     "nuid": "9b1fd7f6-69da-4ebd-83ab-d915ec948747",
     "showTitle": false,
     "tableResultSettingsMap": {},
     "title": ""
    }
   },
   "outputs": [],
   "source": [
    "# Step 1: Prepare sample transaction data as DataFrame\n",
    "from pyspark.sql import SparkSession\n",
    "from pyspark.sql.types import StructType, StructField, StringType, DoubleType\n",
    "\n",
    "spark = SparkSession.builder.getOrCreate()\n",
    "\n",
    "data = [\n",
    "  (\"00000000\",\"06-26-2011\",\"4007024\",\"040.33\",\"Exercise & Fitness\",\"Cardio Machine Accessories\",\"Clarksville\",\"Tennessee\",\"credit\"),\n",
    "  (\"00000001\",\"05-26-2011\",\"4006742\",\"198.44\",\"Exercise & Fitness\",\"Weightlifting Gloves\",\"Long Beach\",\"California\",\"credit\"),\n",
    "  (\"00000002\",\"06-01-2011\",\"4009775\",\"005.58\",\"Exercise & Fitness\",\"Weightlifting Machine Accessories\",\"Anaheim\",\"California\",\"credit\"),\n",
    "  (\"00000003\",\"06-05-2011\",\"4002199\",\"198.19\",\"Gymnastics\",\"Gymnastics Rings\",\"Milwaukee\",\"Wisconsin\",\"credit\"),\n",
    "  (\"00000004\",\"12-17-2011\",\"4002613\",\"098.81\",\"Team Sports\",\"Field Hockey\",\"Nashville  \",\"Tennessee\",\"credit\"),\n",
    "  (\"00000005\",\"02-14-2011\",\"4007591\",\"193.63\",\"Outdoor Recreation\",\"Camping & Backpacking & Hiking\",\"Chicago\",\"Illinois\",\"credit\"),\n",
    "  (\"00000006\",\"10-28-2011\",\"4002190\",\"027.89\",\"Puzzles\",\"Jigsaw Puzzles\",\"Charleston\",\"South Carolina\",\"credit\"),\n",
    "  (\"00000007\",\"07-14-2011\",\"4002964\",\"096.01\",\"Outdoor Play Equipment\",\"Sandboxes\",\"Columbus\",\"Ohio\",\"credit\"),\n",
    "  (\"00000008\",\"01-17-2011\",\"4007361\",\"010.44\",\"Winter Sports\",\"Snowmobiling\",\"Des Moines\",\"Iowa\",\"credit\")\n",
    "]\n",
    "\n",
    "schema = StructType([\n",
    "    StructField(\"txnid\", StringType(), True),\n",
    "    StructField(\"txndate\", StringType(), True),\n",
    "    StructField(\"custid\", StringType(), True),\n",
    "    StructField(\"amount\", StringType(), True),\n",
    "    StructField(\"product\", StringType(), True),\n",
    "    StructField(\"category\", StringType(), True),\n",
    "    StructField(\"city\", StringType(), True),\n",
    "    StructField(\"state\", StringType(), True),\n",
    "    StructField(\"paytype\", StringType(), True)\n",
    "])\n",
    "\n",
    "df_txn = spark.createDataFrame(data, schema)\n",
    "\n",
    "display(df_txn)"
   ]
  },
  {
   "cell_type": "code",
   "execution_count": 0,
   "metadata": {
    "application/vnd.databricks.v1+cell": {
     "cellMetadata": {
      "byteLimit": 2048000,
      "rowLimit": 10000
     },
     "inputWidgets": {},
     "nuid": "9cb781df-4b38-4993-8e22-96a520d50151",
     "showTitle": false,
     "tableResultSettingsMap": {},
     "title": ""
    }
   },
   "outputs": [],
   "source": [
    "\n",
    "## Step 2: Write the DataFrame to a staging Delta table\n",
    "# We will create a **temporary table** to use for the CTAS example.\n",
    "\n",
    "df_txn.write.format(\"delta\").mode(\"overwrite\").saveAsTable(\"inceptez_catalog.inputdb.txn_staging\")\n",
    "print(\"Staging Table Created\")"
   ]
  },
  {
   "cell_type": "markdown",
   "metadata": {
    "application/vnd.databricks.v1+cell": {
     "cellMetadata": {},
     "inputWidgets": {},
     "nuid": "d0a901d5-25cd-4c6e-95af-89f23edcb5a7",
     "showTitle": false,
     "tableResultSettingsMap": {},
     "title": ""
    }
   },
   "source": [
    "## Step 3: Create a new table using CTAS\n",
    "\n",
    "- The new table `txn_ctas` is **created and populated** in a single command.\n",
    "- We can also apply transformations during creation (e.g., cast amount to double, convert date)."
   ]
  },
  {
   "cell_type": "code",
   "execution_count": 0,
   "metadata": {
    "application/vnd.databricks.v1+cell": {
     "cellMetadata": {
      "byteLimit": 2048000,
      "implicitDf": true,
      "rowLimit": 10000
     },
     "inputWidgets": {},
     "nuid": "a8cd94a9-0f17-4fef-8fcd-b0856ae38188",
     "showTitle": false,
     "tableResultSettingsMap": {},
     "title": ""
    }
   },
   "outputs": [],
   "source": [
    "%sql\n",
    "CREATE TABLE inceptez_catalog.inputdb.txn_ctas\n",
    "USING DELTA\n",
    "AS\n",
    "SELECT\n",
    "  txnid,\n",
    "  to_date(txndate,'MM-dd-yyyy') as txndate,\n",
    "  custid,\n",
    "  CAST(amount AS DOUBLE) as amount,\n",
    "  product,\n",
    "  category,\n",
    "  city,\n",
    "  state,\n",
    "  paytype\n",
    "FROM inceptez_catalog.inputdb.txn_staging;\n"
   ]
  },
  {
   "cell_type": "code",
   "execution_count": 0,
   "metadata": {
    "application/vnd.databricks.v1+cell": {
     "cellMetadata": {
      "byteLimit": 2048000,
      "implicitDf": true,
      "rowLimit": 10000
     },
     "inputWidgets": {},
     "nuid": "f1495c25-8c61-47a5-92b7-4c908239dfd9",
     "showTitle": false,
     "tableResultSettingsMap": {},
     "title": ""
    }
   },
   "outputs": [],
   "source": [
    "%sql\n",
    "--Query the new CTAS table\n",
    "select * from inceptez_catalog.inputdb.txn_ctas;\n",
    "describe formatted inceptez_catalog.inputdb.txn_ctas;"
   ]
  },
  {
   "cell_type": "code",
   "execution_count": 0,
   "metadata": {
    "application/vnd.databricks.v1+cell": {
     "cellMetadata": {
      "byteLimit": 2048000,
      "implicitDf": true,
      "rowLimit": 10000
     },
     "inputWidgets": {},
     "nuid": "58cb238b-055b-4bdf-b548-5ed31b782904",
     "showTitle": false,
     "tableResultSettingsMap": {},
     "title": ""
    }
   },
   "outputs": [],
   "source": [
    "%sql\n",
    "CREATE TABLE inceptez_catalog.inputdb.txn_ctas_exercise\n",
    "USING DELTA\n",
    "AS\n",
    "SELECT *\n",
    "FROM inceptez_catalog.inputdb.txn_ctas\n",
    "WHERE category = 'Exercise & Fitness';"
   ]
  },
  {
   "cell_type": "code",
   "execution_count": 0,
   "metadata": {
    "application/vnd.databricks.v1+cell": {
     "cellMetadata": {
      "byteLimit": 2048000,
      "implicitDf": true,
      "rowLimit": 10000
     },
     "inputWidgets": {},
     "nuid": "af203435-a0d2-4c7e-b485-0d7fe0495440",
     "showTitle": false,
     "tableResultSettingsMap": {},
     "title": ""
    }
   },
   "outputs": [],
   "source": [
    "%sql\n",
    "CREATE TABLE inceptez_catalog.inputdb.txn_ctas_opt\n",
    "USING DELTA\n",
    "PARTITIONED BY (state)\n",
    "TBLPROPERTIES (\n",
    "  'delta.enableChangeDataCapture' = 'true',\n",
    "  'delta.autoOptimize.optimizeWrite' = 'true',\n",
    "  'delta.autoOptimize.autoCompact' = 'true'\n",
    ")\n",
    "AS\n",
    "SELECT\n",
    "  txnid,\n",
    "  to_date(txndate,'MM-dd-yyyy') as txndate,\n",
    "  custid,\n",
    "  CAST(amount AS DOUBLE) as amount,\n",
    "  product,\n",
    "  category,\n",
    "  city,\n",
    "  state,\n",
    "  paytype\n",
    "FROM inceptez_catalog.inputdb.txn_staging;"
   ]
  }
 ],
 "metadata": {
  "application/vnd.databricks.v1+notebook": {
   "computePreferences": null,
   "dashboards": [],
   "environmentMetadata": {
    "base_environment": "",
    "environment_version": "4"
   },
   "inputWidgetPreferences": null,
   "language": "python",
   "notebookMetadata": {
    "mostRecentlyExecutedCommandWithImplicitDF": {
     "commandId": 4981374392318858,
     "dataframes": [
      "_sqldf"
     ]
    },
    "pythonIndentUnit": 4
   },
   "notebookName": "Lab05-CTAS",
   "widgets": {}
  },
  "language_info": {
   "name": "python"
  }
 },
 "nbformat": 4,
 "nbformat_minor": 0
}
