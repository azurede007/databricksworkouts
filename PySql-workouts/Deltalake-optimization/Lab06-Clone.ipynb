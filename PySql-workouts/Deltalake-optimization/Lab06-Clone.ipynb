{
 "cells": [
  {
   "cell_type": "markdown",
   "metadata": {
    "application/vnd.databricks.v1+cell": {
     "cellMetadata": {},
     "inputWidgets": {},
     "nuid": "f617e3f3-a27d-4631-99c3-ac395b8d23b7",
     "showTitle": false,
     "tableResultSettingsMap": {},
     "title": ""
    }
   },
   "source": [
    "# Delta Table – CLONE\n",
    "\n",
    "Delta Cloning allows to create a **copy of a Delta table** efficiently:\n",
    "- **Full clone**: independent copy of data and metadata  \n",
    "- **Shallow clone**: metadata-only copy referencing the same underlying data files  "
   ]
  },
  {
   "cell_type": "code",
   "execution_count": 0,
   "metadata": {
    "application/vnd.databricks.v1+cell": {
     "cellMetadata": {
      "byteLimit": 2048000,
      "rowLimit": 10000
     },
     "inputWidgets": {},
     "nuid": "98fe869d-3245-48fc-a91e-41923b4e73a7",
     "showTitle": false,
     "tableResultSettingsMap": {},
     "title": ""
    }
   },
   "outputs": [],
   "source": [
    "# Step 1: Prepare sample transaction data\n",
    "from pyspark.sql import SparkSession\n",
    "from pyspark.sql.types import StructType, StructField, StringType, DoubleType\n",
    "\n",
    "spark = SparkSession.builder.getOrCreate()\n",
    "\n",
    "data = [\n",
    "  (\"00000000\",\"06-26-2011\",\"4007024\",\"040.33\",\"Exercise & Fitness\",\"Cardio Machine Accessories\",\"Clarksville\",\"Tennessee\",\"credit\"),\n",
    "  (\"00000001\",\"05-26-2011\",\"4006742\",\"198.44\",\"Exercise & Fitness\",\"Weightlifting Gloves\",\"Long Beach\",\"California\",\"credit\"),\n",
    "  (\"00000002\",\"06-01-2011\",\"4009775\",\"005.58\",\"Exercise & Fitness\",\"Weightlifting Machine Accessories\",\"Anaheim\",\"California\",\"credit\"),\n",
    "  (\"00000003\",\"06-05-2011\",\"4002199\",\"198.19\",\"Gymnastics\",\"Gymnastics Rings\",\"Milwaukee\",\"Wisconsin\",\"credit\"),\n",
    "  (\"00000004\",\"12-17-2011\",\"4002613\",\"098.81\",\"Team Sports\",\"Field Hockey\",\"Nashville  \",\"Tennessee\",\"credit\"),\n",
    "  (\"00000005\",\"02-14-2011\",\"4007591\",\"193.63\",\"Outdoor Recreation\",\"Camping & Backpacking & Hiking\",\"Chicago\",\"Illinois\",\"credit\"),\n",
    "  (\"00000006\",\"10-28-2011\",\"4002190\",\"027.89\",\"Puzzles\",\"Jigsaw Puzzles\",\"Charleston\",\"South Carolina\",\"credit\"),\n",
    "  (\"00000007\",\"07-14-2011\",\"4002964\",\"096.01\",\"Outdoor Play Equipment\",\"Sandboxes\",\"Columbus\",\"Ohio\",\"credit\"),\n",
    "  (\"00000008\",\"01-17-2011\",\"4007361\",\"010.44\",\"Winter Sports\",\"Snowmobiling\",\"Des Moines\",\"Iowa\",\"credit\")\n",
    "]\n",
    "\n",
    "schema = StructType([\n",
    "    StructField(\"txnid\", StringType(), True),\n",
    "    StructField(\"txndate\", StringType(), True),\n",
    "    StructField(\"custid\", StringType(), True),\n",
    "    StructField(\"amount\", StringType(), True),\n",
    "    StructField(\"product\", StringType(), True),\n",
    "    StructField(\"category\", StringType(), True),\n",
    "    StructField(\"city\", StringType(), True),\n",
    "    StructField(\"state\", StringType(), True),\n",
    "    StructField(\"paytype\", StringType(), True)\n",
    "])\n",
    "\n",
    "df_txn = spark.createDataFrame(data, schema)\n",
    "display(df_txn)\n"
   ]
  },
  {
   "cell_type": "code",
   "execution_count": 0,
   "metadata": {
    "application/vnd.databricks.v1+cell": {
     "cellMetadata": {
      "byteLimit": 2048000,
      "rowLimit": 10000
     },
     "inputWidgets": {},
     "nuid": "42c4b44a-e173-4a55-bd5b-b0abafbb3125",
     "showTitle": false,
     "tableResultSettingsMap": {},
     "title": ""
    }
   },
   "outputs": [],
   "source": [
    "df_txn.write.format(\"delta\").mode(\"overwrite\").saveAsTable(\"inceptez_catalog.inputdb.txn_base\")"
   ]
  },
  {
   "cell_type": "code",
   "execution_count": 0,
   "metadata": {
    "application/vnd.databricks.v1+cell": {
     "cellMetadata": {
      "byteLimit": 2048000,
      "implicitDf": true,
      "rowLimit": 10000
     },
     "inputWidgets": {},
     "nuid": "b3d64389-2c73-4a4a-8d4b-76270e8eeb3a",
     "showTitle": false,
     "tableResultSettingsMap": {},
     "title": ""
    }
   },
   "outputs": [],
   "source": [
    "%sql\n",
    "-- Verify base table\n",
    "SELECT * FROM inceptez_catalog.inputdb.txn_base;"
   ]
  },
  {
   "cell_type": "markdown",
   "metadata": {
    "application/vnd.databricks.v1+cell": {
     "cellMetadata": {},
     "inputWidgets": {},
     "nuid": "363968ad-ffa7-480f-91a5-71caf4e34772",
     "showTitle": false,
     "tableResultSettingsMap": {},
     "title": ""
    }
   },
   "source": [
    "## Step 3: Full Clone\n",
    "\n",
    "**Full clone** creates an **independent copy**:\n",
    "- Data files are **copied**\n",
    "- Changes in the clone **do not affect the original table**\n",
    "- Uses more storage\n"
   ]
  },
  {
   "cell_type": "code",
   "execution_count": 0,
   "metadata": {
    "application/vnd.databricks.v1+cell": {
     "cellMetadata": {
      "byteLimit": 2048000,
      "implicitDf": true,
      "rowLimit": 10000
     },
     "inputWidgets": {},
     "nuid": "c6df860c-894b-46bb-a832-499cf9135806",
     "showTitle": false,
     "tableResultSettingsMap": {},
     "title": ""
    }
   },
   "outputs": [],
   "source": [
    "%sql\n",
    "CREATE TABLE inceptez_catalog.inputdb.txn_full_clone\n",
    "CLONE inceptez_catalog.inputdb.txn_base;"
   ]
  },
  {
   "cell_type": "code",
   "execution_count": 0,
   "metadata": {
    "application/vnd.databricks.v1+cell": {
     "cellMetadata": {
      "byteLimit": 2048000,
      "implicitDf": true,
      "rowLimit": 10000
     },
     "inputWidgets": {},
     "nuid": "74046e0b-bc55-42a6-bea9-9a43b9b3c3a5",
     "showTitle": false,
     "tableResultSettingsMap": {},
     "title": ""
    }
   },
   "outputs": [],
   "source": [
    "%sql\n",
    "select * from inceptez_catalog.inputdb.txn_full_clone;"
   ]
  },
  {
   "cell_type": "markdown",
   "metadata": {
    "application/vnd.databricks.v1+cell": {
     "cellMetadata": {},
     "inputWidgets": {},
     "nuid": "b1445b1e-7f5f-4b1c-9d19-a557d1fda0fa",
     "showTitle": false,
     "tableResultSettingsMap": {},
     "title": ""
    }
   },
   "source": [
    "## Step 4: Shallow Clone\n",
    "\n",
    "**Shallow clone** creates a **metadata-only copy**:\n",
    "- Shares the same underlying data files\n",
    "- Very fast, uses minimal extra storage\n",
    "- Changes to the data files in the original table will reflect in shallow clone (unless new files are added)\n"
   ]
  },
  {
   "cell_type": "code",
   "execution_count": 0,
   "metadata": {
    "application/vnd.databricks.v1+cell": {
     "cellMetadata": {
      "byteLimit": 2048000,
      "implicitDf": true,
      "rowLimit": 10000
     },
     "inputWidgets": {},
     "nuid": "e774a59a-1eab-44c7-9e59-a8ac228a0787",
     "showTitle": false,
     "tableResultSettingsMap": {},
     "title": ""
    }
   },
   "outputs": [],
   "source": [
    "%sql\n",
    "CREATE TABLE inceptez_catalog.inputdb.txn_shallow_clone\n",
    "SHALLOW CLONE inceptez_catalog.inputdb.txn_base;"
   ]
  },
  {
   "cell_type": "code",
   "execution_count": 0,
   "metadata": {
    "application/vnd.databricks.v1+cell": {
     "cellMetadata": {
      "byteLimit": 2048000,
      "implicitDf": true,
      "rowLimit": 10000
     },
     "inputWidgets": {},
     "nuid": "14a15247-d8f1-4381-b622-b8db1262ef1b",
     "showTitle": false,
     "tableResultSettingsMap": {},
     "title": ""
    }
   },
   "outputs": [],
   "source": [
    "%sql\n",
    "-- Verify shallow clone\n",
    "SELECT * FROM inceptez_catalog.inputdb.txn_shallow_clone;"
   ]
  },
  {
   "cell_type": "code",
   "execution_count": 0,
   "metadata": {
    "application/vnd.databricks.v1+cell": {
     "cellMetadata": {
      "byteLimit": 2048000,
      "rowLimit": 10000
     },
     "inputWidgets": {},
     "nuid": "af3ce5b0-26a2-4fb2-ad80-6422143acc5d",
     "showTitle": false,
     "tableResultSettingsMap": {},
     "title": ""
    }
   },
   "outputs": [],
   "source": [
    "df_txn.write.format(\"delta\").mode(\"append\").saveAsTable(\"inceptez_catalog.inputdb.txn_base\")\n",
    "print(\"Record inserted\");"
   ]
  },
  {
   "cell_type": "code",
   "execution_count": 0,
   "metadata": {
    "application/vnd.databricks.v1+cell": {
     "cellMetadata": {
      "byteLimit": 2048000,
      "implicitDf": true,
      "rowLimit": 10000
     },
     "inputWidgets": {},
     "nuid": "e6aef113-ab93-41bf-85e9-8617e1ea68b0",
     "showTitle": false,
     "tableResultSettingsMap": {},
     "title": ""
    }
   },
   "outputs": [],
   "source": [
    "%sql\n",
    "select * from inceptez_catalog.inputdb.txn_base;"
   ]
  },
  {
   "cell_type": "code",
   "execution_count": 0,
   "metadata": {
    "application/vnd.databricks.v1+cell": {
     "cellMetadata": {
      "byteLimit": 2048000,
      "implicitDf": true,
      "rowLimit": 10000
     },
     "inputWidgets": {},
     "nuid": "9dad209c-2139-4876-9aa9-0d77308add47",
     "showTitle": false,
     "tableResultSettingsMap": {},
     "title": ""
    }
   },
   "outputs": [],
   "source": [
    "%sql\n",
    "select * from inceptez_catalog.inputdb.txn_full_clone"
   ]
  },
  {
   "cell_type": "code",
   "execution_count": 0,
   "metadata": {
    "application/vnd.databricks.v1+cell": {
     "cellMetadata": {
      "byteLimit": 2048000,
      "implicitDf": true,
      "rowLimit": 10000
     },
     "inputWidgets": {},
     "nuid": "6d7c28a7-743c-4546-8b22-ea082eccda3e",
     "showTitle": false,
     "tableResultSettingsMap": {},
     "title": ""
    }
   },
   "outputs": [],
   "source": [
    "%sql\n",
    "--SELECT * FROM inceptez_catalog.inputdb.txn_shallow_clone;\n",
    "\n",
    "DESCRIBE HISTORY inceptez_catalog.inputdb.txn_base;"
   ]
  },
  {
   "cell_type": "code",
   "execution_count": 0,
   "metadata": {
    "application/vnd.databricks.v1+cell": {
     "cellMetadata": {
      "byteLimit": 2048000,
      "implicitDf": true,
      "rowLimit": 10000
     },
     "inputWidgets": {},
     "nuid": "8ad14248-031b-4f27-b16a-9eacba3a8bf7",
     "showTitle": false,
     "tableResultSettingsMap": {},
     "title": ""
    }
   },
   "outputs": [],
   "source": [
    "%sql\n",
    "CREATE OR REPLACE TABLE inceptez_catalog.inputdb.txn_shallow_clone\n",
    "SHALLOW CLONE inceptez_catalog.inputdb.txn_base;"
   ]
  },
  {
   "cell_type": "code",
   "execution_count": 0,
   "metadata": {
    "application/vnd.databricks.v1+cell": {
     "cellMetadata": {
      "byteLimit": 2048000,
      "implicitDf": true,
      "rowLimit": 10000
     },
     "inputWidgets": {},
     "nuid": "53185132-677d-4ce0-877e-bf56f68d33eb",
     "showTitle": false,
     "tableResultSettingsMap": {},
     "title": ""
    }
   },
   "outputs": [],
   "source": [
    "%sql\n",
    "DESCRIBE HISTORY inceptez_catalog.inputdb.txn_shallow_clone;"
   ]
  }
 ],
 "metadata": {
  "application/vnd.databricks.v1+notebook": {
   "computePreferences": null,
   "dashboards": [],
   "environmentMetadata": {
    "base_environment": "",
    "environment_version": "4"
   },
   "inputWidgetPreferences": null,
   "language": "python",
   "notebookMetadata": {
    "mostRecentlyExecutedCommandWithImplicitDF": {
     "commandId": 4981374392318875,
     "dataframes": [
      "_sqldf"
     ]
    },
    "pythonIndentUnit": 4
   },
   "notebookName": "Lab06-Clone",
   "widgets": {}
  },
  "language_info": {
   "name": "python"
  }
 },
 "nbformat": 4,
 "nbformat_minor": 0
}
