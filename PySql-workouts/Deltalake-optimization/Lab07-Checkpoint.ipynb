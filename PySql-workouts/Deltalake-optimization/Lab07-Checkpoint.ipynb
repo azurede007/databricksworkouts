{
 "cells": [
  {
   "cell_type": "markdown",
   "metadata": {
    "application/vnd.databricks.v1+cell": {
     "cellMetadata": {
      "byteLimit": 2048000,
      "rowLimit": 10000
     },
     "inputWidgets": {},
     "nuid": "6cdcc9c7-b6cd-441b-9a63-16579e9eae89",
     "showTitle": false,
     "tableResultSettingsMap": {},
     "title": ""
    }
   },
   "source": [
    "# Delta File – Checkpoint Example\n",
    "\n",
    "**Checkpoint in Delta Lake**\n",
    "\n",
    "### Overview\n",
    "- **Purpose**: Reduce query latency for Delta tables with large `_delta_log` directories.  \n",
    "- **How it works**:\n",
    "  1. Creates a **Parquet checkpoint** summarizing table state.\n",
    "  2. Each checkpoint corresponds to a **specific version**.\n",
    "  3. Speeds up future queries by reading fewer JSON logs.\n",
    "- **Applicable for** both streaming and batch tables.\n",
    "- **Best practice**: Periodically run checkpoint for frequently updated Delta datasets.\n"
   ]
  },
  {
   "cell_type": "code",
   "execution_count": 0,
   "metadata": {
    "application/vnd.databricks.v1+cell": {
     "cellMetadata": {
      "byteLimit": 2048000,
      "rowLimit": 10000
     },
     "inputWidgets": {},
     "nuid": "78e9e168-451a-49c4-a7bf-dc7a54f48d13",
     "showTitle": false,
     "tableResultSettingsMap": {
      "0": {
       "dataGridStateBlob": "{\"version\":1,\"tableState\":{\"columnPinning\":{\"left\":[\"#row_number#\"],\"right\":[]},\"columnSizing\":{},\"columnVisibility\":{}},\"settings\":{\"columns\":{}},\"syncTimestamp\":1761094459242}",
       "filterBlob": null,
       "queryPlanFiltersBlob": null,
       "tableResultIndex": 0
      }
     },
     "title": ""
    }
   },
   "outputs": [],
   "source": [
    "\n",
    "\n",
    "# Step 1: Prepare sample transaction data\n",
    "from pyspark.sql.types import StructType, StructField, StringType\n",
    "\n",
    "from pyspark.sql import Row\n",
    "\n",
    "data = [\n",
    "    Row(emp_id=1, emp_name=\"Venkat\", dept=\"HR\", salary=50000),\n",
    "    Row(emp_id=2, emp_name=\"Sathish\", dept=\"Finance\", salary=60000),\n",
    "    Row(emp_id=3, emp_name=\"Jay\", dept=\"IT\", salary=70000)\n",
    "]\n",
    "df_txn = spark.createDataFrame(data)\n",
    "display(df_txn)\n"
   ]
  },
  {
   "cell_type": "code",
   "execution_count": 0,
   "metadata": {
    "application/vnd.databricks.v1+cell": {
     "cellMetadata": {
      "byteLimit": 2048000,
      "rowLimit": 10000
     },
     "inputWidgets": {},
     "nuid": "89f7cfe6-0711-4d03-b706-1ecbe11b3ac2",
     "showTitle": false,
     "tableResultSettingsMap": {},
     "title": ""
    }
   },
   "outputs": [],
   "source": [
    "# Step 2: Write Data as Delta Files (not table)\n",
    "\n",
    "# Save as Delta format in the given path\n",
    "df_txn.write.format(\"delta\").mode(\"overwrite\").save(\"/Volumes/inceptez_catalog/inputdb/employee/dept_checkpoint\")\n",
    "\n",
    "# Verify the data written\n",
    "df_verify = spark.read.format(\"delta\").load(\"/Volumes/inceptez_catalog/inputdb/employee/dept_checkpoint\")\n",
    "display(df_verify)\n"
   ]
  },
  {
   "cell_type": "code",
   "execution_count": 0,
   "metadata": {
    "application/vnd.databricks.v1+cell": {
     "cellMetadata": {},
     "inputWidgets": {},
     "nuid": "a936382b-a943-465a-8c8e-64dcca29a8e5",
     "showTitle": false,
     "tableResultSettingsMap": {},
     "title": ""
    }
   },
   "outputs": [],
   "source": [
    "delta_path = \"/Volumes/inceptez_catalog/inputdb/employee/dept_checkpoint\"\n",
    "\n",
    "# Overwrite existing data\n",
    "df.write.format(\"delta\").mode(\"overwrite\").save(delta_path)\n",
    "\n",
    "print(\" Data written to Delta path:\", delta_path)\n"
   ]
  },
  {
   "cell_type": "code",
   "execution_count": 0,
   "metadata": {
    "application/vnd.databricks.v1+cell": {
     "cellMetadata": {
      "byteLimit": 2048000,
      "implicitDf": true,
      "rowLimit": 10000
     },
     "inputWidgets": {},
     "nuid": "03c04952-ac16-47ce-893f-cf7d2200f780",
     "showTitle": false,
     "tableResultSettingsMap": {},
     "title": ""
    }
   },
   "outputs": [],
   "source": [
    "%sql\n",
    "-- Step 4: Update record directly using Delta path (no table)\n",
    "UPDATE delta.`/Volumes/inceptez_catalog/inputdb/employee/dept_checkpoint`\n",
    "SET salary = 55000\n",
    "WHERE emp_name = 'Sathish';\n"
   ]
  },
  {
   "cell_type": "code",
   "execution_count": 0,
   "metadata": {
    "application/vnd.databricks.v1+cell": {
     "cellMetadata": {
      "byteLimit": 2048000,
      "implicitDf": true,
      "rowLimit": 10000
     },
     "inputWidgets": {},
     "nuid": "9e23f1b0-1c13-47d3-8bae-f70b065deb71",
     "showTitle": false,
     "tableResultSettingsMap": {},
     "title": ""
    }
   },
   "outputs": [],
   "source": [
    "%sql\n",
    "-- Step 4: Update record directly using Delta path (no table)\n",
    "UPDATE delta.`/Volumes/inceptez_catalog/inputdb/employee/dept_checkpoint`\n",
    "SET salary = 82000\n",
    "WHERE emp_name = 'Venkat';\n"
   ]
  },
  {
   "cell_type": "code",
   "execution_count": 0,
   "metadata": {
    "application/vnd.databricks.v1+cell": {
     "cellMetadata": {
      "byteLimit": 2048000,
      "implicitDf": true,
      "rowLimit": 10000
     },
     "inputWidgets": {},
     "nuid": "bd4c68df-32ea-4428-891e-594403fdc57f",
     "showTitle": false,
     "tableResultSettingsMap": {},
     "title": ""
    }
   },
   "outputs": [],
   "source": [
    "%sql\n",
    "-- Step 5: Delete record directly using Delta path (no table)\n",
    "DELETE FROM delta.`/Volumes/inceptez_catalog/inputdb/employee/dept_checkpoint`\n",
    "WHERE emp_name = 'Jay';\n"
   ]
  },
  {
   "cell_type": "code",
   "execution_count": 0,
   "metadata": {
    "application/vnd.databricks.v1+cell": {
     "cellMetadata": {
      "byteLimit": 2048000,
      "implicitDf": true,
      "rowLimit": 10000
     },
     "inputWidgets": {},
     "nuid": "e1a2dbc2-6dfe-494b-88f4-a22da60339b5",
     "showTitle": false,
     "tableResultSettingsMap": {},
     "title": ""
    }
   },
   "outputs": [],
   "source": [
    "%sql\n",
    "-- Step 6: Verify Data After Update/Delete\n",
    "SELECT * FROM delta.`/Volumes/inceptez_catalog/inputdb/employee/dept_checkpoint`;\n"
   ]
  },
  {
   "cell_type": "code",
   "execution_count": 0,
   "metadata": {
    "application/vnd.databricks.v1+cell": {
     "cellMetadata": {
      "byteLimit": 2048000,
      "implicitDf": true,
      "rowLimit": 10000
     },
     "inputWidgets": {},
     "nuid": "d55bb711-fe80-4da3-a432-23977e53970c",
     "showTitle": false,
     "tableResultSettingsMap": {},
     "title": ""
    }
   },
   "outputs": [],
   "source": [
    "%sql\n",
    "DESC HISTORY delta.`/Volumes/inceptez_catalog/inputdb/employee/dept_checkpoint`;"
   ]
  },
  {
   "cell_type": "code",
   "execution_count": 0,
   "metadata": {
    "application/vnd.databricks.v1+cell": {
     "cellMetadata": {
      "byteLimit": 2048000,
      "rowLimit": 10000
     },
     "inputWidgets": {},
     "nuid": "1e06c2d3-c6b3-42db-9559-a780b8695ace",
     "showTitle": false,
     "tableResultSettingsMap": {},
     "title": ""
    }
   },
   "outputs": [],
   "source": [
    "from delta.tables import DeltaTable\n",
    "\n",
    "# Load delta table directly from path\n",
    "delta_tbl = DeltaTable.forPath(spark, \"/Volumes/inceptez_catalog/inputdb/employee/dept_checkpoint\")\n",
    "\n",
    "# Create checkpoint\n",
    "delta_tbl.checkpoint()\n",
    "\n",
    "print(\"✅ Checkpoint created successfully.\")\n"
   ]
  }
 ],
 "metadata": {
  "application/vnd.databricks.v1+notebook": {
   "computePreferences": null,
   "dashboards": [],
   "environmentMetadata": {
    "base_environment": "",
    "environment_version": "4"
   },
   "inputWidgetPreferences": null,
   "language": "python",
   "notebookMetadata": {
    "mostRecentlyExecutedCommandWithImplicitDF": {
     "commandId": 8811688159113472,
     "dataframes": [
      "_sqldf"
     ]
    },
    "pythonIndentUnit": 4
   },
   "notebookName": "Lab07-Checkpoint",
   "widgets": {}
  },
  "language_info": {
   "name": "python"
  }
 },
 "nbformat": 4,
 "nbformat_minor": 0
}
