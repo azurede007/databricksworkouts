{
 "cells": [
  {
   "cell_type": "markdown",
   "metadata": {
    "application/vnd.databricks.v1+cell": {
     "cellMetadata": {},
     "inputWidgets": {},
     "nuid": "0ae32d61-bcde-40bb-a127-039eaaabd3eb",
     "showTitle": false,
     "tableResultSettingsMap": {},
     "title": ""
    }
   },
   "source": [
    "# Databricks Deletion Vectors\n",
    "\n",
    "### **What are Deletion Vectors?**\n",
    "A **Deletion Vector (DV)** in Delta Lake is a mechanism that enables **faster and more efficient row-level deletes and updates** without rewriting entire data files.\n",
    "\n",
    "Traditionally, when a record was deleted or updated in a Delta table, the affected Parquet file had to be rewritten.  \n",
    "With **Deletion Vectors**, Delta Lake now marks deleted rows **logically**, storing their positions in a separate **deletion vector file (.dv)** — rather than physically removing them immediately.\n",
    "\n",
    "This allows:\n",
    "- **Faster DELETE, UPDATE, and MERGE operations**\n",
    "- **Reduced data rewriting**\n",
    "- **Better concurrency and scalability**\n",
    "\n",
    "Deletion vectors were introduced with **Delta Lake 2.3+** and are **enabled by default** in **Databricks Runtime 13.0+**.\n",
    "\n",
    "---\n",
    "\n",
    "### **How Deletion Vectors Work**\n",
    "1. When a DELETE or UPDATE happens, Delta records the row positions that were removed or changed in a **deletion vector bitmap**.  \n",
    "2. The underlying data file remains unchanged, but during reads, those rows are **logically filtered out**.  \n",
    "3. Periodic **OPTIMIZE** or **VACUUM** operations can later rewrite files to physically remove the deleted rows.\n",
    "\n",
    "---\n",
    "\n",
    "### **Key Features**\n",
    "| **Feature** | **Description** |\n",
    "|--------------|----------------|\n",
    "| **Logical Deletes** | Marks deleted rows using a bitmap instead of rewriting files. |\n",
    "| **Faster Updates** | Reduces I/O during MERGE and UPDATE operations. |\n",
    "| **Automatic Management** | Databricks manages DV creation and cleanup automatically. |\n",
    "| **Compatibility** | Works with Delta tables using column mapping mode `name` or `id`. |\n",
    "| **Compaction** | `OPTIMIZE` operation can compact and physically remove DVs. |\n",
    "\n",
    "---\n",
    "\n",
    "### **When Deletion Vectors Are Created**\n",
    "- During `DELETE`, `UPDATE`, or `MERGE` operations.\n",
    "- When **Liquid Clustering** or **OPTIMIZE** is used, DVs may also appear for data reorganization.\n",
    "\n",
    "---\n",
    "\n",
    "### **Important Configuration**\n",
    "You can control deletion vectors using the following properties:\n",
    "```sql\n",
    "-- Enable or disable deletion vectors\n",
    "SET spark.databricks.delta.properties.defaults.enableDeletionVectors = true;\n"
   ]
  },
  {
   "cell_type": "code",
   "execution_count": 0,
   "metadata": {
    "application/vnd.databricks.v1+cell": {
     "cellMetadata": {
      "byteLimit": 2048000,
      "rowLimit": 10000
     },
     "inputWidgets": {},
     "nuid": "e86f3850-96f5-4eb8-a55d-c3184800a6a6",
     "showTitle": false,
     "tableResultSettingsMap": {},
     "title": ""
    }
   },
   "outputs": [],
   "source": [
    "\n",
    "# Step 1: Create a Delta table with sample data\n",
    "\n",
    "data = [\n",
    "    (1, \"Kamath\", 5000),\n",
    "    (2, \"Raghu\", 6000),\n",
    "    (3, \"Avantika\", 7000),\n",
    "    (4, \"Bhavana\", 8000)\n",
    "]\n",
    "\n",
    "columns = [\"emp_id\", \"name\", \"salary\"]\n",
    "\n",
    "df = spark.createDataFrame(data, columns)\n",
    "df.write.format(\"delta\").mode(\"overwrite\").option(\"mergeSchema\", \"true\").saveAsTable(\"inceptez_catalog.inputdb.employee_dv_demo1\")\n",
    "\n",
    "display(spark.table(\"inceptez_catalog.inputdb.employee_dv_demo1\"))\n"
   ]
  },
  {
   "cell_type": "markdown",
   "metadata": {
    "application/vnd.databricks.v1+cell": {
     "cellMetadata": {},
     "inputWidgets": {},
     "nuid": "07a730cf-c1c6-4fe7-aa37-93288a1573d3",
     "showTitle": false,
     "tableResultSettingsMap": {},
     "title": ""
    }
   },
   "source": [
    "### Step 1: Delete record from the Table"
   ]
  },
  {
   "cell_type": "code",
   "execution_count": 0,
   "metadata": {
    "application/vnd.databricks.v1+cell": {
     "cellMetadata": {
      "byteLimit": 2048000,
      "implicitDf": true,
      "rowLimit": 10000
     },
     "inputWidgets": {},
     "nuid": "187867b1-4ce8-4db8-8668-7ca219c23151",
     "showTitle": false,
     "tableResultSettingsMap": {},
     "title": ""
    }
   },
   "outputs": [],
   "source": [
    "%sql\n",
    "DESCRIBE EXTENDED inceptez_catalog.inputdb.employee_dv_demo1;"
   ]
  },
  {
   "cell_type": "code",
   "execution_count": 0,
   "metadata": {
    "application/vnd.databricks.v1+cell": {
     "cellMetadata": {
      "byteLimit": 2048000,
      "implicitDf": true,
      "rowLimit": 10000
     },
     "inputWidgets": {},
     "nuid": "50ca6f05-e036-451b-b398-b62aebe4bf10",
     "showTitle": false,
     "tableResultSettingsMap": {},
     "title": ""
    }
   },
   "outputs": [],
   "source": [
    "%sql\n",
    "DELETE FROM inceptez_catalog.inputdb.employee_dv_demo WHERE emp_id = 4;"
   ]
  },
  {
   "cell_type": "code",
   "execution_count": 0,
   "metadata": {
    "application/vnd.databricks.v1+cell": {
     "cellMetadata": {
      "byteLimit": 2048000,
      "implicitDf": true,
      "rowLimit": 10000
     },
     "inputWidgets": {},
     "nuid": "7d236326-f07b-46cf-8bb4-1f56f748b452",
     "showTitle": false,
     "tableResultSettingsMap": {},
     "title": ""
    }
   },
   "outputs": [],
   "source": [
    "%sql\n",
    "DESCRIBE EXTENDED inceptez_catalog.inputdb.employee_dv_demo;"
   ]
  },
  {
   "cell_type": "code",
   "execution_count": 0,
   "metadata": {
    "application/vnd.databricks.v1+cell": {
     "cellMetadata": {
      "byteLimit": 2048000,
      "implicitDf": true,
      "rowLimit": 10000
     },
     "inputWidgets": {},
     "nuid": "1228e6e7-b075-473a-b869-5e2eaf9cb169",
     "showTitle": false,
     "tableResultSettingsMap": {},
     "title": ""
    }
   },
   "outputs": [],
   "source": [
    "%sql\n",
    "DESC HISTORY inceptez_catalog.inputdb.employee_dv_demo;"
   ]
  },
  {
   "cell_type": "markdown",
   "metadata": {
    "application/vnd.databricks.v1+cell": {
     "cellMetadata": {},
     "inputWidgets": {},
     "nuid": "64ef5762-54b9-421d-b444-2dafbb1830b2",
     "showTitle": false,
     "tableResultSettingsMap": {},
     "title": ""
    }
   },
   "source": [
    "### Step 2: Disable Deletion Vector Feature for the Table\n"
   ]
  },
  {
   "cell_type": "code",
   "execution_count": 0,
   "metadata": {
    "application/vnd.databricks.v1+cell": {
     "cellMetadata": {
      "byteLimit": 2048000,
      "rowLimit": 10000
     },
     "inputWidgets": {},
     "nuid": "347857eb-b4d4-4dc0-b58a-322307e22dac",
     "showTitle": false,
     "tableResultSettingsMap": {},
     "title": ""
    }
   },
   "outputs": [],
   "source": [
    "spark.sql(\"\"\"\n",
    "ALTER TABLE inceptez_catalog.inputdb.employee_dv_demo\n",
    "SET TBLPROPERTIES ('delta.enableDeletionVectors' = false)\n",
    "\"\"\")\n",
    "\n",
    "# Confirm the table property\n",
    "display(spark.sql(\"DESCRIBE EXTENDED inceptez_catalog.inputdb.employee_dv_demo\"))\n"
   ]
  },
  {
   "cell_type": "markdown",
   "metadata": {
    "application/vnd.databricks.v1+cell": {
     "cellMetadata": {},
     "inputWidgets": {},
     "nuid": "8fcb55c9-1e0c-4725-b66b-16a161d598ea",
     "showTitle": false,
     "tableResultSettingsMap": {},
     "title": ""
    }
   },
   "source": [
    "### Step 3: Perform a DELETE Operation\n"
   ]
  },
  {
   "cell_type": "code",
   "execution_count": 0,
   "metadata": {
    "application/vnd.databricks.v1+cell": {
     "cellMetadata": {
      "byteLimit": 2048000,
      "rowLimit": 10000
     },
     "inputWidgets": {},
     "nuid": "47e08d62-408d-44b5-9ece-a600b2d6ff78",
     "showTitle": false,
     "tableResultSettingsMap": {},
     "title": ""
    }
   },
   "outputs": [],
   "source": [
    "# Delete a record (will create deletion vector instead of rewriting files)\n",
    "spark.sql(\"DELETE FROM inceptez_catalog.inputdb.employee_dv_demo WHERE emp_id = 4\")\n",
    "\n"
   ]
  },
  {
   "cell_type": "code",
   "execution_count": 0,
   "metadata": {
    "application/vnd.databricks.v1+cell": {
     "cellMetadata": {
      "byteLimit": 2048000,
      "implicitDf": true,
      "rowLimit": 10000
     },
     "inputWidgets": {},
     "nuid": "33cd26f6-d259-459d-8efb-e6be15c9f76f",
     "showTitle": false,
     "tableResultSettingsMap": {},
     "title": ""
    }
   },
   "outputs": [],
   "source": [
    "%sql\n",
    "DESC HISTORY inceptez_catalog.inputdb.employee_dv_demo;"
   ]
  },
  {
   "cell_type": "code",
   "execution_count": 0,
   "metadata": {
    "application/vnd.databricks.v1+cell": {
     "cellMetadata": {
      "byteLimit": 2048000,
      "implicitDf": true,
      "rowLimit": 10000
     },
     "inputWidgets": {},
     "nuid": "4853e349-80c1-4ea9-9617-bed3ff21f582",
     "showTitle": false,
     "tableResultSettingsMap": {},
     "title": ""
    }
   },
   "outputs": [],
   "source": [
    "%sql\n",
    "update inceptez_catalog.inputdb.employee_dv_demo set name = 'Vishal' where emp_id=2;"
   ]
  },
  {
   "cell_type": "code",
   "execution_count": 0,
   "metadata": {
    "application/vnd.databricks.v1+cell": {
     "cellMetadata": {
      "byteLimit": 2048000,
      "implicitDf": true,
      "rowLimit": 10000
     },
     "inputWidgets": {},
     "nuid": "3310f9bc-2df8-4086-b2ef-e349e3b3e7a0",
     "showTitle": false,
     "tableResultSettingsMap": {},
     "title": ""
    }
   },
   "outputs": [],
   "source": [
    "%sql\n",
    "DESC HISTORY inceptez_catalog.inputdb.employee_dv_demo;"
   ]
  },
  {
   "cell_type": "code",
   "execution_count": 0,
   "metadata": {
    "application/vnd.databricks.v1+cell": {
     "cellMetadata": {
      "byteLimit": 2048000,
      "implicitDf": true,
      "rowLimit": 10000
     },
     "inputWidgets": {},
     "nuid": "633ef625-e401-4d54-a1ef-01da394b6bab",
     "showTitle": false,
     "tableResultSettingsMap": {},
     "title": ""
    }
   },
   "outputs": [],
   "source": [
    "%sql\n",
    "ALTER TABLE inceptez_catalog.inputdb.employee_dv_demo\n",
    "SET TBLPROPERTIES ('delta.enableDeletionVectors' = true);"
   ]
  },
  {
   "cell_type": "code",
   "execution_count": 0,
   "metadata": {
    "application/vnd.databricks.v1+cell": {
     "cellMetadata": {
      "byteLimit": 2048000,
      "implicitDf": true,
      "rowLimit": 10000
     },
     "inputWidgets": {},
     "nuid": "6618f441-e009-42db-a383-b97ed3f21218",
     "showTitle": false,
     "tableResultSettingsMap": {},
     "title": ""
    }
   },
   "outputs": [],
   "source": [
    "%sql\n",
    "update inceptez_catalog.inputdb.employee_dv_demo set name = 'Vimal' where emp_id=2;"
   ]
  },
  {
   "cell_type": "code",
   "execution_count": 0,
   "metadata": {
    "application/vnd.databricks.v1+cell": {
     "cellMetadata": {
      "byteLimit": 2048000,
      "implicitDf": true,
      "rowLimit": 10000
     },
     "inputWidgets": {},
     "nuid": "5f1b524e-978a-48b8-b3f3-f0c39a5f80a8",
     "showTitle": false,
     "tableResultSettingsMap": {},
     "title": ""
    }
   },
   "outputs": [],
   "source": [
    "%sql\n",
    "DESC HISTORY inceptez_catalog.inputdb.employee_dv_demo;"
   ]
  }
 ],
 "metadata": {
  "application/vnd.databricks.v1+notebook": {
   "computePreferences": {
    "hardware": {
     "accelerator": null,
     "gpuPoolId": null,
     "memory": null
    }
   },
   "dashboards": [],
   "environmentMetadata": {
    "base_environment": "",
    "environment_version": "4"
   },
   "inputWidgetPreferences": null,
   "language": "python",
   "notebookMetadata": {
    "mostRecentlyExecutedCommandWithImplicitDF": {
     "commandId": 8715151863007374,
     "dataframes": [
      "_sqldf"
     ]
    },
    "pythonIndentUnit": 4
   },
   "notebookName": "Lab08-DeletionVector",
   "widgets": {}
  },
  "language_info": {
   "name": "python"
  }
 },
 "nbformat": 4,
 "nbformat_minor": 0
}
