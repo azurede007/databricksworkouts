{
 "cells": [
  {
   "cell_type": "code",
   "execution_count": 0,
   "metadata": {
    "application/vnd.databricks.v1+cell": {
     "cellMetadata": {},
     "inputWidgets": {},
     "nuid": "509048e8-00da-4590-b3a3-bb658a47ff9e",
     "showTitle": false,
     "tableResultSettingsMap": {},
     "title": ""
    }
   },
   "outputs": [],
   "source": [
    "#job level parameter\n",
    "profname = dbutils.widgets.get(\"prof\")\n",
    "input_path = \"/Volumes/inceptez_catalog/inputdb/customerdata/custs\"\n",
    "df = (\n",
    "    spark.read.format(\"csv\")\n",
    "    .option(\"inferSchema\", \"true\")\n",
    "    .load(input_path)\n",
    "    .toDF(\"custid\",\"fname\",\"lname\",\"age\",\"profession\")\n",
    "    )\n",
    "\n",
    "\n",
    "from pyspark.sql.functions import max\n",
    "\n",
    "df1 = df.filter(df.profession == profname)\n",
    "df1.write.mode(\"overwrite\").saveAsTable(\"inceptez_catalog.inputdb.tblprofession\")\n",
    "print(\"Data written to table\")\n",
    "\n",
    "maxage = df1.select(max(\"age\")).collect()[0][0]\n",
    "print(maxage)\n",
    "\n",
    "#task level parameter\n",
    "dbutils.jobs.taskValues.set(\"task_maxage\",maxage)"
   ]
  }
 ],
 "metadata": {
  "application/vnd.databricks.v1+notebook": {
   "computePreferences": null,
   "dashboards": [],
   "environmentMetadata": {
    "base_environment": "",
    "environment_version": "4"
   },
   "inputWidgetPreferences": null,
   "language": "python",
   "notebookMetadata": {
    "pythonIndentUnit": 4
   },
   "notebookName": "Job04-task01-load-data",
   "widgets": {}
  },
  "language_info": {
   "name": "python"
  }
 },
 "nbformat": 4,
 "nbformat_minor": 0
}
