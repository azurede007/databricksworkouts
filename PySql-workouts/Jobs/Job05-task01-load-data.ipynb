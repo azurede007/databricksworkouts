{
 "cells": [
  {
   "cell_type": "code",
   "execution_count": 0,
   "metadata": {
    "application/vnd.databricks.v1+cell": {
     "cellMetadata": {},
     "inputWidgets": {},
     "nuid": "1cc4a8e7-b6e5-4a24-962a-e5aa12020eb5",
     "showTitle": false,
     "tableResultSettingsMap": {},
     "title": ""
    }
   },
   "outputs": [],
   "source": [
    "threshold_amount = dbutils.widgets.get(\"threshold\")\n",
    "txns_df = spark.read.format(\"csv\") \\\n",
    "    .option(\"header\", \"true\") \\\n",
    "    .option(\"inferSchema\", \"true\") \\\n",
    "    .load(\"dbfs:/Volumes/inceptez_catalog/inputdb/customerdata/txns\") \\\n",
    "\t.toDF(\"txnid\",\"txndate\",\"custid\",\"amount\",\"prodcategory\",\"prodname\",\"city\",\"state\",\"paymenttype\").limit(1000)"
   ]
  },
  {
   "cell_type": "code",
   "execution_count": 0,
   "metadata": {
    "application/vnd.databricks.v1+cell": {
     "cellMetadata": {},
     "inputWidgets": {},
     "nuid": "cb8c314e-b7e4-4e21-ad31-1d700b720c60",
     "showTitle": false,
     "tableResultSettingsMap": {},
     "title": ""
    }
   },
   "outputs": [],
   "source": [
    "# Calculate average sales amount\n",
    "from pyspark.sql.functions import avg, round\n",
    "\n",
    "avg_sales_df = txns_df.select(round(avg(\"amount\"), 2).alias(\"avg_sales_amount\"))\n",
    "avg_sales_value = avg_sales_df.collect()[0][\"avg_sales_amount\"]\n",
    "\n",
    "print(f\"Average Sales Amount: ₹{avg_sales_value}\")"
   ]
  },
  {
   "cell_type": "code",
   "execution_count": 0,
   "metadata": {
    "application/vnd.databricks.v1+cell": {
     "cellMetadata": {},
     "inputWidgets": {},
     "nuid": "b8eeff1c-2d99-484c-b938-d6a8f3eb1025",
     "showTitle": false,
     "tableResultSettingsMap": {},
     "title": ""
    }
   },
   "outputs": [],
   "source": [
    "# Store the average sales value as a task value\n",
    "dbutils.jobs.taskValues.set(\"avg_sales_amount\", avg_sales_value)\n",
    "dbutils.jobs.taskValues.set(\"threshold_amount\", threshold_amount)\n",
    "\n",
    "print(\" Task Value 'avg_sales_amount' set successfully.\")"
   ]
  },
  {
   "cell_type": "code",
   "execution_count": 0,
   "metadata": {
    "application/vnd.databricks.v1+cell": {
     "cellMetadata": {},
     "inputWidgets": {},
     "nuid": "60004f15-5eda-42ab-9e0d-837062a6b74e",
     "showTitle": false,
     "tableResultSettingsMap": {},
     "title": ""
    }
   },
   "outputs": [],
   "source": [
    "#write the data into the table\n",
    "txns_df.write.format(\"delta\").mode(\"overwrite\").saveAsTable(\"inceptez_catalog.outputdb.tbltnxscurated\")\n",
    "print(\"Data written to table\")"
   ]
  }
 ],
 "metadata": {
  "application/vnd.databricks.v1+notebook": {
   "computePreferences": null,
   "dashboards": [],
   "environmentMetadata": {
    "base_environment": "",
    "environment_version": "4"
   },
   "inputWidgetPreferences": null,
   "language": "python",
   "notebookMetadata": {
    "pythonIndentUnit": 4
   },
   "notebookName": "Job05-task01-load-data",
   "widgets": {}
  },
  "language_info": {
   "name": "python"
  }
 },
 "nbformat": 4,
 "nbformat_minor": 0
}
