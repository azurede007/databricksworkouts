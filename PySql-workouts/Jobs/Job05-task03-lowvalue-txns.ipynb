{
 "cells": [
  {
   "cell_type": "code",
   "execution_count": 0,
   "metadata": {
    "application/vnd.databricks.v1+cell": {
     "cellMetadata": {},
     "inputWidgets": {},
     "nuid": "caec7808-ea1a-401b-878e-7de4ff7fb01e",
     "showTitle": false,
     "tableResultSettingsMap": {},
     "title": ""
    }
   },
   "outputs": [],
   "source": [
    "# Get the average value from task parameter\n",
    "avg_sales = dbutils.jobs.taskValues.get(\"01_task_load_data\",\"avg_sales_amount\")"
   ]
  },
  {
   "cell_type": "code",
   "execution_count": 0,
   "metadata": {
    "application/vnd.databricks.v1+cell": {
     "cellMetadata": {},
     "inputWidgets": {},
     "nuid": "7a9a694b-6f93-4162-9de2-7753b1b9d43c",
     "showTitle": false,
     "tableResultSettingsMap": {},
     "title": ""
    }
   },
   "outputs": [],
   "source": [
    "from pyspark.sql.functions import lit\n",
    "\n",
    "df = spark.table(\"inceptez_catalog.outputdb.tbltnxscurated\")\n",
    "df1 = df.filter(df.amount < avg_sales)\n",
    "df2 = df1.withColumn(\"txntype\",lit(\"Low\"))\n",
    "df2.write.mode(\"append\").saveAsTable(\"inceptez_catalog.outputdb.tbltnxsvaluetype\")\n",
    "print(\"Data Written into the table\")"
   ]
  }
 ],
 "metadata": {
  "application/vnd.databricks.v1+notebook": {
   "computePreferences": null,
   "dashboards": [],
   "environmentMetadata": {
    "base_environment": "",
    "environment_version": "4"
   },
   "inputWidgetPreferences": null,
   "language": "python",
   "notebookMetadata": {
    "pythonIndentUnit": 4
   },
   "notebookName": "Job05-task03-lowvalue-txns",
   "widgets": {}
  },
  "language_info": {
   "name": "python"
  }
 },
 "nbformat": 4,
 "nbformat_minor": 0
}
