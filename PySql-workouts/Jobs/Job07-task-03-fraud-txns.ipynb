{
 "cells": [
  {
   "cell_type": "markdown",
   "metadata": {
    "application/vnd.databricks.v1+cell": {
     "cellMetadata": {},
     "inputWidgets": {},
     "nuid": "557e44f1-d0b8-4462-8332-3af8fab29ede",
     "showTitle": false,
     "tableResultSettingsMap": {},
     "title": ""
    }
   },
   "source": [
    "### Task 3:\n",
    "\n",
    "- Retrieves the transaction data from the previous step.\n",
    "- Detects high-value suspicious transactions (> ₹50,000).\n",
    "- Saves results in Delta format."
   ]
  },
  {
   "cell_type": "code",
   "execution_count": 0,
   "metadata": {
    "application/vnd.databricks.v1+cell": {
     "cellMetadata": {},
     "inputWidgets": {},
     "nuid": "0b9f2a45-085b-4a5e-8526-6b21bda00bba",
     "showTitle": false,
     "tableResultSettingsMap": {},
     "title": ""
    }
   },
   "outputs": [],
   "source": [
    "\n",
    "df = spark.table(\"inceptez_catalog.outputdb.bank_txns_stg\")\n",
    "df1 = df.filter(df.amount > 50000)\n",
    "df1.write.mode(\"overwrite\").saveAsTable(\"inceptez_catalog.inputdb.bank_txns_curated\")\n",
    "print(\"Data written to table inceptez_catalog.inputdb.bank_txns_curated\")"
   ]
  }
 ],
 "metadata": {
  "application/vnd.databricks.v1+notebook": {
   "computePreferences": null,
   "dashboards": [],
   "environmentMetadata": {
    "base_environment": "",
    "environment_version": "4"
   },
   "inputWidgetPreferences": null,
   "language": "python",
   "notebookMetadata": {
    "pythonIndentUnit": 4
   },
   "notebookName": "Job07-task-03-fraud-txns",
   "widgets": {}
  },
  "language_info": {
   "name": "python"
  }
 },
 "nbformat": 4,
 "nbformat_minor": 0
}
