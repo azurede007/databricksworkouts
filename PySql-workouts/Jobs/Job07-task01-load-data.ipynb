{
 "cells": [
  {
   "cell_type": "markdown",
   "metadata": {
    "application/vnd.databricks.v1+cell": {
     "cellMetadata": {},
     "inputWidgets": {},
     "nuid": "52762d35-1184-4321-9a08-ff14c620f70b",
     "showTitle": false,
     "tableResultSettingsMap": {},
     "title": ""
    }
   },
   "source": [
    "### Task1 1: Load & Filter Banking Transactions\n",
    "\n",
    "- Reads raw banking transactions data.\n",
    "- Filters records by region and branch passed as parameters.\n",
    "- Stores record count for next task using dbutils.jobs.taskValues.set().\n",
    "- Create a list with \"UPI\" and \"Cash\" and set it as taskvalue"
   ]
  },
  {
   "cell_type": "code",
   "execution_count": 0,
   "metadata": {
    "application/vnd.databricks.v1+cell": {
     "cellMetadata": {
      "byteLimit": 2048000,
      "rowLimit": 10000
     },
     "collapsed": true,
     "inputWidgets": {},
     "nuid": "74354979-781c-41a1-b124-069922a5f247",
     "showTitle": false,
     "tableResultSettingsMap": {},
     "title": ""
    }
   },
   "outputs": [],
   "source": [
    "df = spark.table(\"inceptez_catalog.inputdb.bank_txns\")\n",
    "display(df)"
   ]
  },
  {
   "cell_type": "code",
   "execution_count": 0,
   "metadata": {
    "application/vnd.databricks.v1+cell": {
     "cellMetadata": {
      "byteLimit": 2048000,
      "rowLimit": 10000
     },
     "inputWidgets": {},
     "nuid": "59737ad1-3b88-48fd-9705-948de4469c96",
     "showTitle": false,
     "tableResultSettingsMap": {},
     "title": ""
    }
   },
   "outputs": [],
   "source": [
    "dbutils.widgets.text(\"region\", \"East\")\n",
    "dbutils.widgets.text(\"branch\", \"Branch-A\")"
   ]
  },
  {
   "cell_type": "code",
   "execution_count": 0,
   "metadata": {
    "application/vnd.databricks.v1+cell": {
     "cellMetadata": {
      "byteLimit": 2048000,
      "rowLimit": 10000
     },
     "inputWidgets": {},
     "nuid": "2a70e005-42ac-49aa-974d-4d4d8931a7c6",
     "showTitle": false,
     "tableResultSettingsMap": {},
     "title": ""
    }
   },
   "outputs": [],
   "source": [
    "region = dbutils.widgets.get(\"region\")\n",
    "branch = dbutils.widgets.get(\"branch\")\n",
    "df1 = df.filter(df.region == region).filter(df.branch == branch)\n",
    "display(df1)\n",
    "df1.write.mode(\"overwrite\").saveAsTable(\"inceptez_catalog.outputdb.bank_txns_stg\")"
   ]
  },
  {
   "cell_type": "code",
   "execution_count": 0,
   "metadata": {
    "application/vnd.databricks.v1+cell": {
     "cellMetadata": {},
     "inputWidgets": {},
     "nuid": "2c5e8c60-dfb6-42cd-8d65-42dc24402736",
     "showTitle": false,
     "tableResultSettingsMap": {},
     "title": ""
    }
   },
   "outputs": [],
   "source": [
    "rowcount = df1.count()\n",
    "print(\"Total number of transactions for region {} and branch {} is {}\".format(region, branch, rowcount))\n",
    "dbutils.jobs.taskValues.set(\"rowcount\", rowcount)\n",
    "paytype = [\"UPI\",\"Cash\"]\n",
    "dbutils.jobs.taskValues.set(\"paytype\", paytype)\n",
    "\n"
   ]
  }
 ],
 "metadata": {
  "application/vnd.databricks.v1+notebook": {
   "computePreferences": null,
   "dashboards": [],
   "environmentMetadata": {
    "base_environment": "",
    "environment_version": "4"
   },
   "inputWidgetPreferences": null,
   "language": "python",
   "notebookMetadata": {
    "pythonIndentUnit": 4
   },
   "notebookName": "Job07-task01-load-data",
   "widgets": {
    "branch": {
     "currentValue": "Branch-A",
     "nuid": "da532386-992c-4193-b8ff-84f290ee8d72",
     "typedWidgetInfo": {
      "autoCreated": false,
      "defaultValue": "Branch-A",
      "label": null,
      "name": "branch",
      "options": {
       "widgetDisplayType": "Text",
       "validationRegex": null
      },
      "parameterDataType": "String"
     },
     "widgetInfo": {
      "widgetType": "text",
      "defaultValue": "Branch-A",
      "label": null,
      "name": "branch",
      "options": {
       "widgetType": "text",
       "autoCreated": null,
       "validationRegex": null
      }
     }
    },
    "region": {
     "currentValue": "South",
     "nuid": "f859260b-b69c-4eb2-9749-a7fc7f2fcd2f",
     "typedWidgetInfo": {
      "autoCreated": false,
      "defaultValue": "East",
      "label": null,
      "name": "region",
      "options": {
       "widgetDisplayType": "Text",
       "validationRegex": null
      },
      "parameterDataType": "String"
     },
     "widgetInfo": {
      "widgetType": "text",
      "defaultValue": "East",
      "label": null,
      "name": "region",
      "options": {
       "widgetType": "text",
       "autoCreated": null,
       "validationRegex": null
      }
     }
    }
   }
  },
  "language_info": {
   "name": "python"
  }
 },
 "nbformat": 4,
 "nbformat_minor": 0
}
