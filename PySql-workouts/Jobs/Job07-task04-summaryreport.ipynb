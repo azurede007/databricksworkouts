{
 "cells": [
  {
   "cell_type": "markdown",
   "metadata": {
    "application/vnd.databricks.v1+cell": {
     "cellMetadata": {},
     "inputWidgets": {},
     "nuid": "cc346bea-98ad-4556-8085-c9e658a79680",
     "showTitle": false,
     "tableResultSettingsMap": {},
     "title": ""
    }
   },
   "source": [
    "### Task 4\n",
    "\n",
    "- Load data from the previous task table\n",
    "- Filter based on the pay type\n",
    "- Write a query to summarize the final table data\n",
    "- Save the result in summary table"
   ]
  },
  {
   "cell_type": "code",
   "execution_count": 0,
   "metadata": {
    "application/vnd.databricks.v1+cell": {
     "cellMetadata": {},
     "inputWidgets": {},
     "nuid": "0aef91c3-679d-4013-8451-f9f00d598663",
     "showTitle": false,
     "tableResultSettingsMap": {},
     "title": ""
    }
   },
   "outputs": [],
   "source": [
    "\n",
    "df = spark.table(\"inceptez_catalog.inputdb.bank_txns_curated\")\n",
    "paytype = dbutils.widgets.get(\"ptype\")\n",
    "df1 = df.filter(df.payment_type == paytype)\n",
    "df1.createOrReplaceTempView(\"bank_txns_curated\")\n",
    "df2 = spark.sql(\"\"\"\n",
    "                SELECT \n",
    "                region,\n",
    "                branch,\n",
    "                COUNT(DISTINCT cust_id) AS unique_customers,\n",
    "                SUM(amount) AS total_spend,\n",
    "                AVG(amount) AS avg_spend,\n",
    "                MAX(amount) AS max_spend\n",
    "                From bank_txns_curated\n",
    "                Group by region, branch\n",
    "                \"\"\")\n",
    "df2.write.mode(\"append\").saveAsTable(\"inceptez_catalog.inputdb.bank_txns_summary\")\n"
   ]
  }
 ],
 "metadata": {
  "application/vnd.databricks.v1+notebook": {
   "computePreferences": null,
   "dashboards": [],
   "environmentMetadata": {
    "base_environment": "",
    "environment_version": "4"
   },
   "inputWidgetPreferences": null,
   "language": "python",
   "notebookMetadata": {
    "pythonIndentUnit": 4
   },
   "notebookName": "Job07-task04-summaryreport",
   "widgets": {}
  },
  "language_info": {
   "name": "python"
  }
 },
 "nbformat": 4,
 "nbformat_minor": 0
}
