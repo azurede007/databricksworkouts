{
 "cells": [
  {
   "cell_type": "markdown",
   "metadata": {
    "application/vnd.databricks.v1+cell": {
     "cellMetadata": {},
     "inputWidgets": {},
     "nuid": "181e3c02-b3c4-45ff-b406-f46018a57fe6",
     "showTitle": false,
     "tableResultSettingsMap": {},
     "title": ""
    }
   },
   "source": [
    "# Notebook 1: Load Loan Data\n",
    "\n",
    "- Loads loan applications from a mock dataset (or Delta).\n",
    "- Filters data for a region parameter.\n",
    "- Passes filtered record count to next task.\n"
   ]
  },
  {
   "cell_type": "code",
   "execution_count": 0,
   "metadata": {
    "application/vnd.databricks.v1+cell": {
     "cellMetadata": {
      "byteLimit": 2048000,
      "rowLimit": 10000
     },
     "collapsed": true,
     "inputWidgets": {},
     "nuid": "590a03f8-2d4c-4a09-a170-3f0f0bcb7e04",
     "showTitle": false,
     "tableResultSettingsMap": {},
     "title": ""
    }
   },
   "outputs": [],
   "source": [
    "df = spark.read.format(\"csv\").option(\"header\",\"true\").option(\"inferschema\",\"true\").load(\"dbfs:/Volumes/inceptez_catalog/inputdb/bankdata/loan_txns.csv\")\n",
    "display(df)\n"
   ]
  },
  {
   "cell_type": "code",
   "execution_count": 0,
   "metadata": {
    "application/vnd.databricks.v1+cell": {
     "cellMetadata": {
      "byteLimit": 2048000,
      "rowLimit": 10000
     },
     "inputWidgets": {},
     "nuid": "1cd0f14e-38dc-4379-b867-09af89a5e07b",
     "showTitle": false,
     "tableResultSettingsMap": {},
     "title": ""
    }
   },
   "outputs": [],
   "source": [
    "#Add test box to the notebook\n",
    "dbutils.widgets.text(\"region\", \"West\")  "
   ]
  },
  {
   "cell_type": "code",
   "execution_count": 0,
   "metadata": {
    "application/vnd.databricks.v1+cell": {
     "cellMetadata": {
      "byteLimit": 2048000,
      "rowLimit": 10000
     },
     "inputWidgets": {},
     "nuid": "66e59509-f4fa-47e5-bb76-ff7ec468f747",
     "showTitle": false,
     "tableResultSettingsMap": {},
     "title": ""
    }
   },
   "outputs": [],
   "source": [
    "region = dbutils.widgets.get(\"region\")\n",
    "filtered_df = df.filter(df.region == region)\n",
    "filtered_df.write.format(\"delta\").mode(\"overwrite\").saveAsTable(\"inceptez_catalog.outputdb.tbl_loandata\")\n",
    "count = filtered_df.count()\n",
    "print(f\"Loaded {count} loans for region: {region}\")\n"
   ]
  }
 ],
 "metadata": {
  "application/vnd.databricks.v1+notebook": {
   "computePreferences": null,
   "dashboards": [],
   "environmentMetadata": {
    "base_environment": "",
    "environment_version": "4"
   },
   "inputWidgetPreferences": null,
   "language": "python",
   "notebookMetadata": {
    "pythonIndentUnit": 4
   },
   "notebookName": "01_load_loan_data",
   "widgets": {
    "region": {
     "currentValue": "West",
     "nuid": "5aa4a3b2-b7fe-4246-a798-46bf3ce6eaf2",
     "typedWidgetInfo": {
      "autoCreated": false,
      "defaultValue": "West",
      "label": null,
      "name": "region",
      "options": {
       "widgetDisplayType": "Text",
       "validationRegex": null
      },
      "parameterDataType": "String"
     },
     "widgetInfo": {
      "widgetType": "text",
      "defaultValue": "West",
      "label": null,
      "name": "region",
      "options": {
       "widgetType": "text",
       "autoCreated": false,
       "validationRegex": null
      }
     }
    }
   }
  },
  "language_info": {
   "name": "python"
  }
 },
 "nbformat": 4,
 "nbformat_minor": 0
}
