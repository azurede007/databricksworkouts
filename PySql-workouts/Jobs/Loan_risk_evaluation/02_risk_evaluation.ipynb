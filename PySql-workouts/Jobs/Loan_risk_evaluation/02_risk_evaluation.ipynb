{
 "cells": [
  {
   "cell_type": "markdown",
   "metadata": {
    "application/vnd.databricks.v1+cell": {
     "cellMetadata": {},
     "inputWidgets": {},
     "nuid": "37f411e4-bc4c-4e61-91b1-9763d460fd25",
     "showTitle": false,
     "tableResultSettingsMap": {},
     "title": ""
    }
   },
   "source": [
    "# Notebook 2: Risk Evaluation\n",
    "\n",
    "- Calculates a simple risk score formula.\n",
    "- Stores average risk score for IF/ELSE branching.\n"
   ]
  },
  {
   "cell_type": "code",
   "execution_count": 0,
   "metadata": {
    "application/vnd.databricks.v1+cell": {
     "cellMetadata": {},
     "inputWidgets": {},
     "nuid": "d2a3e45b-c347-4481-be8c-cf87462fc677",
     "showTitle": false,
     "tableResultSettingsMap": {},
     "title": ""
    }
   },
   "outputs": [],
   "source": [
    "\n",
    "loan_df = spark.table(\"inceptez_catalog.outputdb.tbl_loandata\")\n",
    "\n",
    "# Simple risk scoring: higher loan_amount & lower credit_score => higher risk\n",
    "from pyspark.sql.functions import col, expr\n",
    "\n",
    "risk_df = loan_df.withColumn(\n",
    "    \"risk_score\", \n",
    "    expr(\"((loan_amount / income) * 0.3) + (700 - credit_score) * 0.2\")\n",
    ")\n",
    "\n",
    "display(risk_df)\n",
    "\n",
    "avg_risk = risk_df.agg({\"risk_score\": \"avg\"}).collect()[0][0]\n",
    "dbutils.jobs.taskValues.set(\"avg_risk_score\", float(avg_risk))\n",
    "\n",
    "print(f\"Average Risk Score: {avg_risk}\")\n"
   ]
  }
 ],
 "metadata": {
  "application/vnd.databricks.v1+notebook": {
   "computePreferences": null,
   "dashboards": [],
   "environmentMetadata": {
    "base_environment": "",
    "environment_version": "4"
   },
   "inputWidgetPreferences": null,
   "language": "python",
   "notebookMetadata": {
    "pythonIndentUnit": 4
   },
   "notebookName": "02_risk_evaluation",
   "widgets": {}
  },
  "language_info": {
   "name": "python"
  }
 },
 "nbformat": 4,
 "nbformat_minor": 0
}
