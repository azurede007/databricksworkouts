{
 "cells": [
  {
   "cell_type": "markdown",
   "metadata": {
    "application/vnd.databricks.v1+cell": {
     "cellMetadata": {},
     "inputWidgets": {},
     "nuid": "de42f542-c174-4ba8-b5fb-0567560d9032",
     "showTitle": false,
     "tableResultSettingsMap": {},
     "title": ""
    }
   },
   "source": [
    "# Notebook 5: Summary Report\n",
    "### Documentation\n",
    "- Reads the `risk_flag` from whichever branch ran.\n",
    "- Combines results and prepares final summary.\n"
   ]
  },
  {
   "cell_type": "code",
   "execution_count": 0,
   "metadata": {
    "application/vnd.databricks.v1+cell": {
     "cellMetadata": {},
     "inputWidgets": {},
     "nuid": "9d79e42d-907a-44ae-8599-fe76600bad8f",
     "showTitle": false,
     "tableResultSettingsMap": {},
     "title": ""
    }
   },
   "outputs": [],
   "source": [
    "from pyspark.sql import functions as f\n",
    "risk_flag = dbutils.jobs.taskValues.get(taskKey=\"04_task_high_risk\", key=\"risk_flag\", default=\"NA\")\n",
    "if risk_flag == \"NA\":\n",
    "    risk_flag = dbutils.jobs.taskValues.get(taskKey=\"04_task_low_risk\", key=\"risk_flag\")\n",
    "\n",
    "loan_df = spark.table(\"inceptez_catalog.outputdb.tbl_loandata\")\n",
    "final_df = loan_df.withColumn(\"risk_category\", f.lit(risk_flag))\n",
    "final_df.write.mode(\"append\").saveAsTable(\"inceptez_catalog.outputdb.tbl_loandata_risk\")\n",
    "print(f\"📄 Final Risk Evaluation Result: {risk_flag}\")\n"
   ]
  }
 ],
 "metadata": {
  "application/vnd.databricks.v1+notebook": {
   "computePreferences": null,
   "dashboards": [],
   "environmentMetadata": {
    "base_environment": "",
    "environment_version": "4"
   },
   "inputWidgetPreferences": null,
   "language": "python",
   "notebookMetadata": {
    "pythonIndentUnit": 4
   },
   "notebookName": "05_summary_report",
   "widgets": {}
  },
  "language_info": {
   "name": "python"
  }
 },
 "nbformat": 4,
 "nbformat_minor": 0
}
