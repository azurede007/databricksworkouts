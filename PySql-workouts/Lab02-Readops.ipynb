{
 "cells": [
  {
   "cell_type": "markdown",
   "metadata": {
    "application/vnd.databricks.v1+cell": {
     "cellMetadata": {},
     "inputWidgets": {},
     "nuid": "4a070bc4-17e0-4059-97ef-0e29d09c8cf3",
     "showTitle": false,
     "tableResultSettingsMap": {},
     "title": ""
    }
   },
   "source": [
    "### Options for handling double quotes\n",
    "\n",
    "id,name,remarks<br>\n",
    "1,\"Ramesh, K.P\",\"Good performer\"<br>\n",
    "2,\"Manoj\",\"Needs \"special\" attention\"<br>"
   ]
  },
  {
   "cell_type": "code",
   "execution_count": 0,
   "metadata": {
    "application/vnd.databricks.v1+cell": {
     "cellMetadata": {
      "byteLimit": 2048000,
      "rowLimit": 10000
     },
     "inputWidgets": {},
     "nuid": "d9247037-6fb9-4ad9-85c8-5358c1401c9b",
     "showTitle": false,
     "tableResultSettingsMap": {},
     "title": ""
    }
   },
   "outputs": [],
   "source": [
    "df = spark.read.options(header=True, inferSchema=True).csv('/Volumes/inceptez_catalog/inputdb/empdata/emp_perf.csv')\n",
    "\n",
    "df.display()"
   ]
  },
  {
   "cell_type": "code",
   "execution_count": 0,
   "metadata": {
    "application/vnd.databricks.v1+cell": {
     "cellMetadata": {
      "byteLimit": 2048000,
      "rowLimit": 10000
     },
     "inputWidgets": {},
     "nuid": "34433ee2-c50b-43a7-a8a6-7363bd59df41",
     "showTitle": false,
     "tableResultSettingsMap": {},
     "title": ""
    }
   },
   "outputs": [],
   "source": [
    "df = (\n",
    "    spark.read\n",
    "    .option(\"header\", \"True\")              # first line as header\n",
    "    .option(\"inferSchema\", \"True\")         # infer column types\n",
    "    .option(\"escape\", \"\\\"\")                # allow quotes inside quoted fields\n",
    "    .option(\"quote\", \"\\\"\")                 # fields enclosed in double quotes\n",
    "    .format(\"csv\")\n",
    "    .load(\"dbfs:/Volumes/inceptez_catalog/inputdb/empdata/emp_perf.csv\")\n",
    ")\n",
    "df.display()"
   ]
  },
  {
   "cell_type": "markdown",
   "metadata": {
    "application/vnd.databricks.v1+cell": {
     "cellMetadata": {},
     "inputWidgets": {},
     "nuid": "2878e608-057e-4b0d-a33d-3ad862025f23",
     "showTitle": false,
     "tableResultSettingsMap": {},
     "title": ""
    }
   },
   "source": [
    "### Multiple line read\n",
    "id,name,remarks<br>\n",
    "1,\"Ramesh, K.P\",\"Good performer\"<br>\n",
    "2,\"Manoj\",\"This person<br>\n",
    "has feedback written<br>\n",
    "across multiple lines\"<br>\n",
    "3,\"Test User\",\"Normal one line remark\"<br>"
   ]
  },
  {
   "cell_type": "code",
   "execution_count": 0,
   "metadata": {
    "application/vnd.databricks.v1+cell": {
     "cellMetadata": {
      "byteLimit": 2048000,
      "rowLimit": 10000
     },
     "inputWidgets": {},
     "nuid": "17cedb6b-6873-4821-a4ec-4936c23887b9",
     "showTitle": false,
     "tableResultSettingsMap": {},
     "title": ""
    }
   },
   "outputs": [],
   "source": [
    "df = (\n",
    "    spark.read\n",
    "    .option(\"header\", \"True\")              # first line as header\n",
    "    .option(\"inferSchema\", \"True\")         # infer column types\n",
    "    .option(\"escape\", \"\\\"\")                # allow quotes inside quoted fields\n",
    "    .option(\"quote\", \"\\\"\")                 # fields enclosed in double quotes\n",
    "    .format(\"csv\")\n",
    "    .load(\"dbfs:/Volumes/inceptez_catalog/inputdb/empdata/emp_perf_multiline.csv\")\n",
    ")\n",
    "df.display()"
   ]
  },
  {
   "cell_type": "code",
   "execution_count": 0,
   "metadata": {
    "application/vnd.databricks.v1+cell": {
     "cellMetadata": {
      "byteLimit": 2048000,
      "rowLimit": 10000
     },
     "inputWidgets": {},
     "nuid": "40a6b5de-34d7-433b-bb9d-c9f6a0192e2a",
     "showTitle": false,
     "tableResultSettingsMap": {},
     "title": ""
    }
   },
   "outputs": [],
   "source": [
    "df = (\n",
    "    spark.read.format(\"csv\")\n",
    "    .option(\"header\", \"true\")\n",
    "\t.option(\"inferSchema\", \"true\")\n",
    "    .option(\"quote\", \"\\\"\")\n",
    "    .option(\"escape\", \"\\\"\")\n",
    "    .option(\"multiLine\", \"true\")           # support multiline values\n",
    "    .load(\"dbfs:/Volumes/inceptez_catalog/inputdb/empdata/emp_perf_multiline.csv\")\n",
    ")\n",
    "df.display()"
   ]
  },
  {
   "cell_type": "markdown",
   "metadata": {
    "application/vnd.databricks.v1+cell": {
     "cellMetadata": {},
     "inputWidgets": {},
     "nuid": "7a395acd-7233-49e8-806d-800d56de7195",
     "showTitle": false,
     "tableResultSettingsMap": {},
     "title": ""
    }
   },
   "source": [
    "### Read modes in csv\n",
    "\n",
    "id,name,remarks<br>\n",
    "1,\"Ramesh, K.P.\",\"Good performer\"<br>\n",
    "2,\"Manoj\",\"Needs \"special\" attention\"<br>\n",
    "3,\"Test \"\"double quotes\"\" inside field\"<br>\n",
    "4,\"Incomplete row<br>\n",
    "5,\"Extra\",\"Column\",\"Here\"<br>"
   ]
  },
  {
   "cell_type": "markdown",
   "metadata": {
    "application/vnd.databricks.v1+cell": {
     "cellMetadata": {},
     "inputWidgets": {},
     "nuid": "63c96d50-7254-47d0-9b35-76c8c44bb49d",
     "showTitle": false,
     "tableResultSettingsMap": {},
     "title": ""
    }
   },
   "source": [
    "### There are 3 typical read modes and the default read mode is permissive.\n",
    "##### 1. permissive — All fields are set to null and corrupted records are placed in a string column called _corrupt_record\n",
    "##### \t2. dropMalformed — Drops all rows containing corrupt records.\n",
    "##### 3. failFast — Fails when corrupt records are encountered."
   ]
  },
  {
   "cell_type": "code",
   "execution_count": 0,
   "metadata": {
    "application/vnd.databricks.v1+cell": {
     "cellMetadata": {
      "byteLimit": 2048000,
      "rowLimit": 10000
     },
     "inputWidgets": {},
     "nuid": "2f391d9e-0e3f-4154-983d-c3106b070ca8",
     "showTitle": false,
     "tableResultSettingsMap": {
      "0": {
       "dataGridStateBlob": "{\"version\":1,\"tableState\":{\"columnPinning\":{\"left\":[\"#row_number#\"],\"right\":[]},\"columnSizing\":{},\"columnVisibility\":{}},\"settings\":{\"columns\":{}},\"syncTimestamp\":1758684073416}",
       "filterBlob": null,
       "queryPlanFiltersBlob": null,
       "tableResultIndex": 0
      }
     },
     "title": ""
    }
   },
   "outputs": [],
   "source": [
    "df_permissive = (\n",
    "    spark.read.format(\"csv\")\n",
    "    .option(\"header\", \"true\")\n",
    "    .option(\"inferSchema\", \"true\")\n",
    "    .option(\"quote\", \"\\\"\")\n",
    "    .option(\"escape\", \"\\\"\")\n",
    "    .option(\"multiLine\", \"true\")\n",
    "    .option(\"mode\", \"PERMISSIVE\")\n",
    "    .load(\"dbfs:/Volumes/inceptez_catalog/inputdb/empdata/emp_perf_modes.csv\")\n",
    ")\n",
    "df_permissive.display()"
   ]
  },
  {
   "cell_type": "code",
   "execution_count": 0,
   "metadata": {
    "application/vnd.databricks.v1+cell": {
     "cellMetadata": {
      "byteLimit": 2048000,
      "rowLimit": 10000
     },
     "inputWidgets": {},
     "nuid": "d9a73d09-c166-4fb7-a6fd-77e75c53b005",
     "showTitle": false,
     "tableResultSettingsMap": {},
     "title": ""
    }
   },
   "outputs": [],
   "source": [
    "df_dropmal = (\n",
    "    spark.read.format(\"csv\")\n",
    "    .option(\"header\", \"true\")\n",
    "    .option(\"inferSchema\", \"true\")\n",
    "    .option(\"quote\", \"\\\"\")\n",
    "    .option(\"escape\", \"\\\"\")\n",
    "    .option(\"multiLine\", \"true\")\n",
    "    .option(\"mode\", \"dropMalformed\")\n",
    "    .load(\"dbfs:/Volumes/inceptez_catalog/inputdb/empdata/emp_perf_modes.csv\")\n",
    ")\n",
    "df_dropmal.display()"
   ]
  },
  {
   "cell_type": "code",
   "execution_count": 0,
   "metadata": {
    "application/vnd.databricks.v1+cell": {
     "cellMetadata": {
      "byteLimit": 2048000,
      "rowLimit": 10000
     },
     "inputWidgets": {},
     "nuid": "66c3fea1-1eea-457c-b170-6070ce1029d1",
     "showTitle": false,
     "tableResultSettingsMap": {},
     "title": ""
    }
   },
   "outputs": [],
   "source": [
    "df_dropmal = (\n",
    "    spark.read.format(\"csv\")\n",
    "    .option(\"header\", \"true\")\n",
    "    .option(\"inferSchema\", \"true\")\n",
    "    .option(\"quote\", \"\\\"\")\n",
    "    .option(\"escape\", \"\\\"\")\n",
    "    .option(\"multiLine\", \"true\")\n",
    "    .option(\"mode\", \"failFast\")\n",
    "    .load(\"dbfs:/Volumes/inceptez_catalog/inputdb/empdata/emp_perf_modes.csv\")\n",
    ")\n",
    "df_dropmal.display()"
   ]
  }
 ],
 "metadata": {
  "application/vnd.databricks.v1+notebook": {
   "computePreferences": null,
   "dashboards": [],
   "environmentMetadata": {
    "base_environment": "",
    "environment_version": "3"
   },
   "inputWidgetPreferences": null,
   "language": "python",
   "notebookMetadata": {
    "pythonIndentUnit": 4
   },
   "notebookName": "Lab02-Readops",
   "widgets": {}
  },
  "language_info": {
   "name": "python"
  }
 },
 "nbformat": 4,
 "nbformat_minor": 0
}
