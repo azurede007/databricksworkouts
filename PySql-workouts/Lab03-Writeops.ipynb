{
 "cells": [
  {
   "cell_type": "markdown",
   "metadata": {
    "application/vnd.databricks.v1+cell": {
     "cellMetadata": {},
     "inputWidgets": {},
     "nuid": "4de366d1-b620-4eb3-8014-943802d1b67a",
     "showTitle": false,
     "tableResultSettingsMap": {},
     "title": ""
    }
   },
   "source": [
    "### Writing csv file"
   ]
  },
  {
   "cell_type": "code",
   "execution_count": 0,
   "metadata": {
    "application/vnd.databricks.v1+cell": {
     "cellMetadata": {
      "byteLimit": 2048000,
      "rowLimit": 10000
     },
     "collapsed": true,
     "inputWidgets": {},
     "nuid": "519de680-d699-42ec-bc41-2815b5b20c0f",
     "showTitle": false,
     "tableResultSettingsMap": {},
     "title": ""
    }
   },
   "outputs": [],
   "source": [
    "input_path = \"/Volumes/inceptez_catalog/inputdb/customerdata/countries_population.csv\"\n",
    "df = spark.read.csv(input_path,header=True)\n",
    "df.display()"
   ]
  },
  {
   "cell_type": "code",
   "execution_count": 0,
   "metadata": {
    "application/vnd.databricks.v1+cell": {
     "cellMetadata": {
      "byteLimit": 2048000,
      "rowLimit": 10000
     },
     "inputWidgets": {},
     "nuid": "059b8ec6-31ff-46f7-a19d-069340242a79",
     "showTitle": false,
     "tableResultSettingsMap": {},
     "title": ""
    }
   },
   "outputs": [],
   "source": [
    "output_path=\"/Volumes/inceptez_catalog/outputdb/customerdata/countrydata\"\n",
    "df.write.mode(\"overwrite\").csv(output_path)\n",
    "print(\"Successfully written\")"
   ]
  },
  {
   "cell_type": "markdown",
   "metadata": {
    "application/vnd.databricks.v1+cell": {
     "cellMetadata": {},
     "inputWidgets": {},
     "nuid": "7abb6500-0b7e-4339-b814-3e356c78d7ce",
     "showTitle": false,
     "tableResultSettingsMap": {},
     "title": ""
    }
   },
   "source": [
    "### Modes in Writing\n",
    "1. **Append** - Adds the new data to the existing data. It does not overwrite anything.\n",
    "2. **Overwrite** - Replaces the existing data entirely at the destination.\n",
    "3. **ErrorIfexist**(default) - Throws an error if data already exists at the destination.\n",
    "4. **Ignore** - Skips the write operation if data already exists at the destination."
   ]
  },
  {
   "cell_type": "code",
   "execution_count": 0,
   "metadata": {
    "application/vnd.databricks.v1+cell": {
     "cellMetadata": {},
     "inputWidgets": {},
     "nuid": "cd416668-9b27-4016-9ae1-2195db0dac42",
     "showTitle": false,
     "tableResultSettingsMap": {},
     "title": ""
    }
   },
   "outputs": [],
   "source": [
    "df.write.mode(\"append\").options(header=True).csv(output_path)\n",
    "df.write.mode(\"overwrite\").options(header=True).csv(output_path)\n",
    "df.write.mode(\"errorIfexist\").options(header=True).csv(output_path)\n",
    "df.write.mode(\"ignore\").options(header=True).csv(output_path)"
   ]
  }
 ],
 "metadata": {
  "application/vnd.databricks.v1+notebook": {
   "computePreferences": null,
   "dashboards": [],
   "environmentMetadata": {
    "base_environment": "",
    "environment_version": "3"
   },
   "inputWidgetPreferences": null,
   "language": "python",
   "notebookMetadata": {
    "pythonIndentUnit": 4
   },
   "notebookName": "Lab03-Writeops",
   "widgets": {}
  },
  "language_info": {
   "name": "python"
  }
 },
 "nbformat": 4,
 "nbformat_minor": 0
}
