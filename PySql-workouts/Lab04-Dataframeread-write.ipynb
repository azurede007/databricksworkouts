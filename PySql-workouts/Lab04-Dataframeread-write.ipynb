{
 "cells": [
  {
   "cell_type": "markdown",
   "metadata": {
    "application/vnd.databricks.v1+cell": {
     "cellMetadata": {},
     "inputWidgets": {},
     "nuid": "8015260b-e60a-4a03-8f2c-8a4584079cde",
     "showTitle": false,
     "tableResultSettingsMap": {},
     "title": ""
    }
   },
   "source": [
    "### Dataframereader and Dataframewriter\n",
    "\n",
    "- DataFrameReader and DataFrameWriter are the underlying APIs behind spark.read and spark.write"
   ]
  },
  {
   "cell_type": "code",
   "execution_count": 0,
   "metadata": {
    "application/vnd.databricks.v1+cell": {
     "cellMetadata": {},
     "inputWidgets": {},
     "nuid": "eb409bef-ba75-4fb5-8d75-1cd0db1638a4",
     "showTitle": false,
     "tableResultSettingsMap": {},
     "title": ""
    }
   },
   "outputs": [],
   "source": [
    "#spark.read is a shortcut / accessor for creating a DataFrameReader\n",
    "#Using spark.read and reader produces the same outut\n",
    "\n",
    "input_path = \"dbfs:/Volumes/inceptez_catalog/inputdb/customerdata/custs\"\n",
    "df1 = spark.read.csv(input_path, header=True, inferSchema=True)\n",
    "\n",
    "reader = DataFrameReader(spark)\n",
    "df2 = reader.csv(input_path, header=True, inferSchema=True)\n",
    "df2 = reader.format(\"csv\").options(headers=True,inferSchema=True).load(input_path)\n"
   ]
  },
  {
   "cell_type": "code",
   "execution_count": 0,
   "metadata": {
    "application/vnd.databricks.v1+cell": {
     "cellMetadata": {},
     "inputWidgets": {},
     "nuid": "f151c272-91df-4ea9-86c2-1fcc9eb45577",
     "showTitle": false,
     "tableResultSettingsMap": {},
     "title": ""
    }
   },
   "outputs": [],
   "source": [
    "df2.write.mode(\"append\").options(header=True).csv(output_path)\n",
    "\n",
    "# explict object creation of dataframewriter class\n",
    "writer = DataFrameWriter(df2)\n",
    "writer.write.mode(\"append\").options(header=True).csv(output_path)\n"
   ]
  }
 ],
 "metadata": {
  "application/vnd.databricks.v1+notebook": {
   "computePreferences": null,
   "dashboards": [],
   "environmentMetadata": {
    "base_environment": "",
    "environment_version": "3"
   },
   "inputWidgetPreferences": null,
   "language": "python",
   "notebookMetadata": {
    "pythonIndentUnit": 4
   },
   "notebookName": "Lab04-Dataframeread-write",
   "widgets": {}
  },
  "language_info": {
   "name": "python"
  }
 },
 "nbformat": 4,
 "nbformat_minor": 0
}
