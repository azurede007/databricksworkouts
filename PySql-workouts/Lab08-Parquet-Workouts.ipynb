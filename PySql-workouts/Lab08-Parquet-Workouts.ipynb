{
 "cells": [
  {
   "cell_type": "markdown",
   "metadata": {
    "application/vnd.databricks.v1+cell": {
     "cellMetadata": {},
     "inputWidgets": {},
     "nuid": "290bf9c9-d0e4-4e6f-81c3-3a19e857b4be",
     "showTitle": false,
     "tableResultSettingsMap": {},
     "title": ""
    }
   },
   "source": [
    "### Binary File Format - Working with Parquet"
   ]
  },
  {
   "cell_type": "code",
   "execution_count": 0,
   "metadata": {
    "application/vnd.databricks.v1+cell": {
     "cellMetadata": {
      "byteLimit": 2048000,
      "rowLimit": 10000
     },
     "inputWidgets": {},
     "nuid": "0849afee-fc34-4fe1-9c10-32369f209038",
     "showTitle": false,
     "tableResultSettingsMap": {},
     "title": ""
    }
   },
   "outputs": [],
   "source": [
    "input_path = \"/Volumes/inceptez_catalog/inputdb/customerdata/custs\"\n",
    "\n",
    "### Read CSV\n",
    "df = (\n",
    "    spark.read.format(\"csv\")\n",
    "    .option(\"header\", \"true\")\n",
    "    .option(\"inferSchema\", \"true\")\n",
    "    .load(input_path)\n",
    "    .toDF(\"custid\",\"fname\",\"lname\",\"age\",\"profession\")\n",
    ")\n",
    "\n",
    "df.printSchema()\n",
    "df.display()"
   ]
  },
  {
   "cell_type": "code",
   "execution_count": 0,
   "metadata": {
    "application/vnd.databricks.v1+cell": {
     "cellMetadata": {
      "byteLimit": 2048000,
      "rowLimit": 10000
     },
     "inputWidgets": {},
     "nuid": "61709529-1a74-4f68-8ee9-b356a36eac85",
     "showTitle": false,
     "tableResultSettingsMap": {},
     "title": ""
    }
   },
   "outputs": [],
   "source": [
    "### Writing to Parquet\n",
    "output_path=\"/Volumes/inceptez_catalog/outputdb/customerdata/cust_parquet\"\n",
    "#df.write.mode(\"overwrite\").parquet(output_path)\n",
    "#or\n",
    "df.write.format(\"parquet\").save(output_path)\n",
    "print(\"Parquet file written\")\n"
   ]
  },
  {
   "cell_type": "code",
   "execution_count": 0,
   "metadata": {
    "application/vnd.databricks.v1+cell": {
     "cellMetadata": {
      "byteLimit": 2048000,
      "rowLimit": 10000
     },
     "inputWidgets": {},
     "nuid": "42a83e1b-53b6-4d66-a309-1ace27d932b3",
     "showTitle": false,
     "tableResultSettingsMap": {},
     "title": ""
    }
   },
   "outputs": [],
   "source": [
    "### Reading back from parquet\n",
    "\n",
    "#df_parquet = spark.read.parquet(output_path)\n",
    "\n",
    "df_parquet = spark.read.format(\"parquet\").load(output_path)\n",
    "\n",
    "df_parquet.display()\n",
    "df_parquet.printSchema()\n",
    "\n",
    "\n",
    "#Schema is preserved (unlike CSV where Spark infers)."
   ]
  },
  {
   "cell_type": "code",
   "execution_count": 0,
   "metadata": {
    "application/vnd.databricks.v1+cell": {
     "cellMetadata": {
      "byteLimit": 2048000,
      "rowLimit": 10000
     },
     "inputWidgets": {},
     "nuid": "f0fa1e12-c449-4be4-b069-644178eed88d",
     "showTitle": false,
     "tableResultSettingsMap": {},
     "title": ""
    }
   },
   "outputs": [],
   "source": [
    "### Column pruning\n",
    "\n",
    "df_parquet.select(\"custid\", \"fname\").display()\n",
    "\n",
    "#Spark only reads these two columns from disk (efficient).\n",
    "\n",
    "### Predicate Pushdown\n",
    "\n",
    "df_parquet.filter(\"age > 30\").display()\n",
    "\n",
    "#Spark only scans the necessary rows from Parquet files."
   ]
  }
 ],
 "metadata": {
  "application/vnd.databricks.v1+notebook": {
   "computePreferences": null,
   "dashboards": [],
   "environmentMetadata": {
    "base_environment": "",
    "environment_version": "3"
   },
   "inputWidgetPreferences": null,
   "language": "python",
   "notebookMetadata": {
    "pythonIndentUnit": 4
   },
   "notebookName": "Lab08-Parquet-Workouts",
   "widgets": {}
  },
  "language_info": {
   "name": "python"
  }
 },
 "nbformat": 4,
 "nbformat_minor": 0
}
