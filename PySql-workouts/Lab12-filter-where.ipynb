{
 "cells": [
  {
   "cell_type": "markdown",
   "metadata": {
    "application/vnd.databricks.v1+cell": {
     "cellMetadata": {},
     "inputWidgets": {},
     "nuid": "f05989cc-39d6-462b-81ae-d09eefb49da1",
     "showTitle": false,
     "tableResultSettingsMap": {},
     "title": ""
    }
   },
   "source": [
    "### Read the CSV file into a Spark DataFrame"
   ]
  },
  {
   "cell_type": "code",
   "execution_count": 0,
   "metadata": {
    "application/vnd.databricks.v1+cell": {
     "cellMetadata": {
      "byteLimit": 2048000,
      "rowLimit": 10000
     },
     "inputWidgets": {},
     "nuid": "5bb33578-55ed-4cf5-ac0f-2a7cf62c3d9c",
     "showTitle": false,
     "tableResultSettingsMap": {},
     "title": ""
    }
   },
   "outputs": [],
   "source": [
    "from pyspark.sql.functions import col\n",
    "\n",
    "# Read CSV with header and infer schema\n",
    "txns_df = spark.read.format(\"csv\") \\\n",
    "    .option(\"header\", \"true\") \\\n",
    "    .option(\"inferSchema\", \"true\") \\\n",
    "    .load(\"dbfs:/Volumes/inceptez_catalog/inputdb/customerdata/txns\") \\\n",
    "\t.toDF(\"txnid\",\"txndate\",\"custid\",\"amount\",\"prodcategory\",\"prodname\",\"city\",\"state\",\"paymenttype\")\n",
    "\n",
    "txns_df.display()"
   ]
  },
  {
   "cell_type": "markdown",
   "metadata": {
    "application/vnd.databricks.v1+cell": {
     "cellMetadata": {},
     "inputWidgets": {},
     "nuid": "68883b1d-a3cd-4134-bb47-9f309f024da8",
     "showTitle": false,
     "tableResultSettingsMap": {},
     "title": ""
    }
   },
   "source": [
    "### select – Choose specific columns"
   ]
  },
  {
   "cell_type": "code",
   "execution_count": 0,
   "metadata": {
    "application/vnd.databricks.v1+cell": {
     "cellMetadata": {
      "byteLimit": 2048000,
      "rowLimit": 10000
     },
     "inputWidgets": {},
     "nuid": "9e1bb4b7-d9ed-4ddb-89ac-033d4ac2a654",
     "showTitle": false,
     "tableResultSettingsMap": {},
     "title": ""
    }
   },
   "outputs": [],
   "source": [
    "# Select only txnid, custid, amount, city\n",
    "txns_df.select(\"txnid\", \"custid\", \"amount\", \"city\").display()\n",
    "\n",
    "# Or using expressions\n",
    "txns_df.select(col(\"txnid\"), col(\"amount\"), col(\"prodcategory\")).show(5)"
   ]
  },
  {
   "cell_type": "markdown",
   "metadata": {
    "application/vnd.databricks.v1+cell": {
     "cellMetadata": {},
     "inputWidgets": {},
     "nuid": "ad8c4770-f415-4037-b41b-1bbc85a11940",
     "showTitle": false,
     "tableResultSettingsMap": {},
     "title": ""
    }
   },
   "source": [
    "### Using filter() - functional-like style"
   ]
  },
  {
   "cell_type": "code",
   "execution_count": 0,
   "metadata": {
    "application/vnd.databricks.v1+cell": {
     "cellMetadata": {
      "byteLimit": 2048000,
      "rowLimit": 10000
     },
     "inputWidgets": {},
     "nuid": "89686887-0f7e-42a3-8c89-676e1f2c1ef8",
     "showTitle": false,
     "tableResultSettingsMap": {},
     "title": ""
    }
   },
   "outputs": [],
   "source": [
    "### Using col() from pyspark.sql.functions\n",
    "high_txns = txns_df.filter(col(\"amount\") > 150)\n",
    "high_txns.display()"
   ]
  },
  {
   "cell_type": "code",
   "execution_count": 0,
   "metadata": {
    "application/vnd.databricks.v1+cell": {
     "cellMetadata": {},
     "inputWidgets": {},
     "nuid": "81eeb308-c984-4d1f-9bfd-7954f8148e45",
     "showTitle": false,
     "tableResultSettingsMap": {},
     "title": ""
    }
   },
   "outputs": [],
   "source": [
    "# Amount > 150\n",
    "txns_df.filter(txns_df[\"amount\"] > 150).display()\n",
    "\n",
    "#Using DataFrame attribute access (df.colname)\n",
    "# Amount > 150\n",
    "txns_df.filter(txns_df.amount > 150).display()\n",
    "\n",
    "# Multiple conditions\n",
    "txns_df.filter((txns_df.amount > 150) & (txns_df.state == \"California\")).display()\n",
    "\n",
    "# & - and operator\n",
    "# | - or operator\n",
    "# ~ - not operator\n",
    "# != - not equal operator\n",
    "# == - equal operator\n",
    "# < - less than operator \n",
    "# > - greater than operator\n",
    "# <= - less than or equal to operator\n",
    "# >= - greater than or equal to operator"
   ]
  },
  {
   "cell_type": "markdown",
   "metadata": {
    "application/vnd.databricks.v1+cell": {
     "cellMetadata": {},
     "inputWidgets": {},
     "nuid": "ee94bf1a-3b22-4b51-98fe-08820682fa22",
     "showTitle": false,
     "tableResultSettingsMap": {},
     "title": ""
    }
   },
   "source": [
    "### Using SQL expression strings"
   ]
  },
  {
   "cell_type": "code",
   "execution_count": 0,
   "metadata": {
    "application/vnd.databricks.v1+cell": {
     "cellMetadata": {
      "byteLimit": 2048000,
      "rowLimit": 10000
     },
     "inputWidgets": {},
     "nuid": "9eed1b92-97b0-410f-99e2-5398be856158",
     "showTitle": false,
     "tableResultSettingsMap": {},
     "title": ""
    }
   },
   "outputs": [],
   "source": [
    "# Amount > 150\n",
    "txns_df.filter(\"amount > 150\").display()\n",
    "\n",
    "# Multiple conditions\n",
    "txns_df.filter(\"amount > 150 AND state='California'\").display()"
   ]
  },
  {
   "cell_type": "markdown",
   "metadata": {
    "application/vnd.databricks.v1+cell": {
     "cellMetadata": {},
     "inputWidgets": {},
     "nuid": "2c0dd06c-2107-4902-9a45-27ddfd6a2186",
     "showTitle": false,
     "tableResultSettingsMap": {},
     "title": ""
    }
   },
   "source": [
    "### Using where() - SQL-like style"
   ]
  },
  {
   "cell_type": "code",
   "execution_count": 0,
   "metadata": {
    "application/vnd.databricks.v1+cell": {
     "cellMetadata": {
      "byteLimit": 2048000,
      "rowLimit": 10000
     },
     "inputWidgets": {},
     "nuid": "37f8db23-9510-4b89-98ad-50b8b80d59d0",
     "showTitle": false,
     "tableResultSettingsMap": {},
     "title": ""
    }
   },
   "outputs": [],
   "source": [
    "# Using SQL-like where\n",
    "high_txns2 = txns_df.where(col(\"amount\") > 150)\n",
    "high_txns2.display()\n",
    "\n",
    "# Multiple conditions\n",
    "high_txns_ca2 = txns_df.where((col(\"amount\") > 150) & (col(\"state\") == \"California\"))\n",
    "high_txns_ca2.display()\n",
    "\n",
    "\n",
    "### Using SQL expression string\n",
    "\n",
    "#Both filter and where can take a string expression, just like in SQL:\n",
    "\n",
    "# Using string expression with filter\n",
    "txns_df.filter(\"amount > 150 AND state='California'\").display()\n",
    "\n",
    "# Using string expression with where\n",
    "txns_df.where(\"amount > 150 AND state='California'\").display()"
   ]
  }
 ],
 "metadata": {
  "application/vnd.databricks.v1+notebook": {
   "computePreferences": null,
   "dashboards": [],
   "environmentMetadata": {
    "base_environment": "",
    "environment_version": "3"
   },
   "inputWidgetPreferences": null,
   "language": "python",
   "notebookMetadata": {
    "pythonIndentUnit": 4
   },
   "notebookName": "Lab12-filter-where",
   "widgets": {}
  },
  "language_info": {
   "name": "python"
  }
 },
 "nbformat": 4,
 "nbformat_minor": 0
}
