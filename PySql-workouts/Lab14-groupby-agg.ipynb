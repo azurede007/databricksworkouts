{
 "cells": [
  {
   "cell_type": "code",
   "execution_count": 0,
   "metadata": {
    "application/vnd.databricks.v1+cell": {
     "cellMetadata": {
      "byteLimit": 2048000,
      "rowLimit": 10000
     },
     "inputWidgets": {},
     "nuid": "49a6d692-3ccc-48b6-8b6d-28a199b49b4f",
     "showTitle": false,
     "tableResultSettingsMap": {},
     "title": ""
    }
   },
   "outputs": [],
   "source": [
    "# Read CSV with header and infer schema\n",
    "txns_df = spark.read.format(\"csv\") \\\n",
    "    .option(\"header\", \"true\") \\\n",
    "    .option(\"inferSchema\", \"true\") \\\n",
    "    .load(\"dbfs:/Volumes/inceptez_catalog/inputdb/customerdata/txns\") \\\n",
    "\t.toDF(\"txnid\",\"txndate\",\"custid\",\"amount\",\"prodcategory\",\"prodname\",\"city\",\"state\",\"paymenttype\")\n",
    "\n",
    "txns_df.display()"
   ]
  },
  {
   "cell_type": "markdown",
   "metadata": {
    "application/vnd.databricks.v1+cell": {
     "cellMetadata": {},
     "inputWidgets": {},
     "nuid": "fb5317ab-f712-4c73-aefd-fb8412e7ddac",
     "showTitle": false,
     "tableResultSettingsMap": {},
     "title": ""
    }
   },
   "source": [
    "### groupBy() - Groups the DataFrame by one or more columns."
   ]
  },
  {
   "cell_type": "code",
   "execution_count": 0,
   "metadata": {
    "application/vnd.databricks.v1+cell": {
     "cellMetadata": {
      "byteLimit": 2048000,
      "rowLimit": 10000
     },
     "inputWidgets": {},
     "nuid": "d85fd643-30e1-4fce-aa54-fade90176ff5",
     "showTitle": false,
     "tableResultSettingsMap": {},
     "title": ""
    }
   },
   "outputs": [],
   "source": [
    "# Total transaction amount per state\n",
    "# select state, round(sum(amount),2) as total from txns_df group by state order by total desc\n",
    "# select state, sum(amount) from txns_df group by state\n",
    "\n",
    "from pyspark.sql.functions import round\n",
    "txns_df.groupBy(\"state\").sum(\"amount\") \\\n",
    "    .selectExpr(\"state\",\"round(`sum(amount)`,2) as total\") \\\n",
    "    .orderBy(\"total\", ascending=False) \\\n",
    "    .display()"
   ]
  },
  {
   "cell_type": "markdown",
   "metadata": {
    "application/vnd.databricks.v1+cell": {
     "cellMetadata": {},
     "inputWidgets": {},
     "nuid": "32c5ee2e-bd32-4047-a839-856f85fc2463",
     "showTitle": false,
     "tableResultSettingsMap": {},
     "title": ""
    }
   },
   "source": [
    "### agg() - Perform one or more aggregate functions on grouped DataFrame."
   ]
  },
  {
   "cell_type": "code",
   "execution_count": 0,
   "metadata": {
    "application/vnd.databricks.v1+cell": {
     "cellMetadata": {
      "byteLimit": 2048000,
      "rowLimit": 10000
     },
     "inputWidgets": {},
     "nuid": "9dbd50d1-66fd-4aae-9ef7-924bfee46872",
     "showTitle": false,
     "tableResultSettingsMap": {
      "0": {
       "dataGridStateBlob": "{\"version\":1,\"tableState\":{\"columnPinning\":{\"left\":[\"#row_number#\"],\"right\":[]},\"columnSizing\":{},\"columnVisibility\":{}},\"settings\":{\"columns\":{}},\"syncTimestamp\":1759806298478}",
       "filterBlob": null,
       "queryPlanFiltersBlob": null,
       "tableResultIndex": 0
      }
     },
     "title": ""
    }
   },
   "outputs": [],
   "source": [
    "# select state,round(sum(amount),2) as total_amount,round(avg(amount),2) as avg_amount,count(txnid) as txn_count from txns_df group by state limit 5\n",
    "from pyspark.sql.functions import avg,sum,count,round\n",
    "# Total and average amount per state\n",
    "txns_df.groupBy(\"state\").agg(\n",
    "    round(sum(\"amount\"),2).alias(\"total_amount\"),\n",
    "    round(avg(\"amount\"),2).alias(\"avg_amount\"),\n",
    "    count(\"txnid\").alias(\"txn_count\")\n",
    ").limit(5).display()\n"
   ]
  },
  {
   "cell_type": "code",
   "execution_count": 0,
   "metadata": {
    "application/vnd.databricks.v1+cell": {
     "cellMetadata": {
      "byteLimit": 2048000,
      "rowLimit": 10000
     },
     "inputWidgets": {},
     "nuid": "c80c0683-5056-4960-8f71-054565fb231a",
     "showTitle": false,
     "tableResultSettingsMap": {},
     "title": ""
    }
   },
   "outputs": [],
   "source": [
    "txns_df.groupBy(\"state\",\"city\").agg(\n",
    "    round(sum(\"amount\"),2).alias(\"total_amount\"),\n",
    "    round(avg(\"amount\"),2).alias(\"avg_amount\"),\n",
    "    count(\"txnid\").alias(\"txn_count\")\n",
    ").orderBy(\"state\",\"city\").limit(50).display()"
   ]
  },
  {
   "cell_type": "code",
   "execution_count": 0,
   "metadata": {
    "application/vnd.databricks.v1+cell": {
     "cellMetadata": {
      "byteLimit": 2048000,
      "rowLimit": 10000
     },
     "inputWidgets": {},
     "nuid": "f6ae5d2d-fe9a-4fa2-9843-2c2f9afa90a3",
     "showTitle": false,
     "tableResultSettingsMap": {},
     "title": ""
    }
   },
   "outputs": [],
   "source": [
    "#select state, min(amount) as min_salesamt, max(amount) as max_salesamt, count(txnid) as txn_count from txns_df group by state order by state limit 50\n",
    "from pyspark.sql.functions import min,max\n",
    "\n",
    "txns_df.groupBy(\"state\").agg(\n",
    "    round(min(\"amount\"),2).alias(\"min_salesamt\"),\n",
    "    round(max(\"amount\"),2).alias(\"max_salesamt\")\n",
    ").orderBy(\"state\").limit(50).display()"
   ]
  },
  {
   "cell_type": "markdown",
   "metadata": {
    "application/vnd.databricks.v1+cell": {
     "cellMetadata": {},
     "inputWidgets": {},
     "nuid": "d881c674-ff97-4896-9d80-ff6b3823f2c3",
     "showTitle": false,
     "tableResultSettingsMap": {},
     "title": ""
    }
   },
   "source": [
    "### alias() - Assign a temporary name to a column or expression (useful in select or agg)."
   ]
  },
  {
   "cell_type": "code",
   "execution_count": 0,
   "metadata": {
    "application/vnd.databricks.v1+cell": {
     "cellMetadata": {
      "byteLimit": 2048000,
      "rowLimit": 10000
     },
     "inputWidgets": {},
     "nuid": "0fc5044b-0b4c-4e40-9938-2fc5e16c5b59",
     "showTitle": false,
     "tableResultSettingsMap": {},
     "title": ""
    }
   },
   "outputs": [],
   "source": [
    "from pyspark.sql.functions import sum,col\n",
    "\n",
    "# Alias in aggregation\n",
    "txns_df.groupBy(\"state\").agg(\n",
    "    sum(\"amount\").alias(\"total_amount\")\n",
    ").limit(5).display()\n",
    "\n",
    "# Alias in select\n",
    "txns_df.select(col(\"amount\").alias(\"txn_amount\"), \"state\").limit(5).display()\n",
    "\n",
    "# Alias can also be chained with expressions\n",
    "\n",
    "from pyspark.sql.functions import round\n",
    "\n",
    "# Round total amount and give alias\n",
    "txns_df.groupBy(\"state\").agg(\n",
    "    round(sum(\"amount\"),2).alias(\"total_amount_rounded\")\n",
    ").limit(5).display()\n"
   ]
  },
  {
   "cell_type": "markdown",
   "metadata": {
    "application/vnd.databricks.v1+cell": {
     "cellMetadata": {},
     "inputWidgets": {},
     "nuid": "285c0205-67bd-4c29-9699-155bbf6b2fe0",
     "showTitle": false,
     "tableResultSettingsMap": {},
     "title": ""
    }
   },
   "source": [
    "### Combining groupBy, agg, and alias"
   ]
  },
  {
   "cell_type": "code",
   "execution_count": 0,
   "metadata": {
    "application/vnd.databricks.v1+cell": {
     "cellMetadata": {
      "byteLimit": 2048000,
      "rowLimit": 10000
     },
     "inputWidgets": {},
     "nuid": "7c9d1eb6-9f85-46a8-b0ea-e63ecfa6f632",
     "showTitle": false,
     "tableResultSettingsMap": {},
     "title": ""
    }
   },
   "outputs": [],
   "source": [
    "txns_df.groupBy(\"city\").agg(\n",
    "    sum(\"amount\").alias(\"total_amount\"),\n",
    "    avg(\"amount\").alias(\"avg_amount\"),\n",
    "    max(\"amount\").alias(\"max_amount\"),\n",
    "    min(\"amount\").alias(\"min_amount\"),\n",
    "    count(\"txnid\").alias(\"txn_count\")\n",
    ").orderBy(col(\"total_amount\").desc()).limit(5).display()"
   ]
  }
 ],
 "metadata": {
  "application/vnd.databricks.v1+notebook": {
   "computePreferences": null,
   "dashboards": [],
   "environmentMetadata": {
    "base_environment": "",
    "environment_version": "3"
   },
   "inputWidgetPreferences": null,
   "language": "python",
   "notebookMetadata": {
    "pythonIndentUnit": 4
   },
   "notebookName": "Lab14-groupby-agg",
   "widgets": {}
  },
  "language_info": {
   "name": "python"
  }
 },
 "nbformat": 4,
 "nbformat_minor": 0
}
