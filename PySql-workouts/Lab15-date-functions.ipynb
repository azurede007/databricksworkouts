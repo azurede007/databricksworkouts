{
 "cells": [
  {
   "cell_type": "markdown",
   "metadata": {
    "application/vnd.databricks.v1+cell": {
     "cellMetadata": {},
     "inputWidgets": {},
     "nuid": "ecd2eb5b-f76e-466d-adf0-2d63900a8f71",
     "showTitle": false,
     "tableResultSettingsMap": {},
     "title": ""
    }
   },
   "source": [
    "### Data functions in PySpark-SQL"
   ]
  },
  {
   "cell_type": "code",
   "execution_count": 0,
   "metadata": {
    "application/vnd.databricks.v1+cell": {
     "cellMetadata": {
      "byteLimit": 2048000,
      "rowLimit": 10000
     },
     "inputWidgets": {},
     "nuid": "6f6eb0a7-b9f1-4064-b1e4-42406ea986ac",
     "showTitle": false,
     "tableResultSettingsMap": {},
     "title": ""
    }
   },
   "outputs": [],
   "source": [
    "txns_df = spark.read.format(\"csv\") \\\n",
    "    .load(\"dbfs:/Volumes/inceptez_catalog/inputdb/customerdata/txns\") \\\n",
    "    .toDF(\"txnid\",\"txndate\",\"custid\",\"amount\",\"prodcategory\",\"prodname\",\"city\",\"state\",\"paymenttype\")\n"
   ]
  },
  {
   "cell_type": "code",
   "execution_count": 0,
   "metadata": {
    "application/vnd.databricks.v1+cell": {
     "cellMetadata": {
      "byteLimit": 2048000,
      "rowLimit": 10000
     },
     "inputWidgets": {},
     "nuid": "b5f1d1db-dd41-4620-b875-6e46beaf5175",
     "showTitle": false,
     "tableResultSettingsMap": {},
     "title": ""
    }
   },
   "outputs": [],
   "source": [
    "txns_df.printSchema()\n",
    "txns_df.display()"
   ]
  },
  {
   "cell_type": "markdown",
   "metadata": {
    "application/vnd.databricks.v1+cell": {
     "cellMetadata": {},
     "inputWidgets": {},
     "nuid": "34d93807-a864-46ba-b5aa-10bbd76f2b58",
     "showTitle": false,
     "tableResultSettingsMap": {},
     "title": ""
    }
   },
   "source": [
    "- **to_date** function is use to convert from string to date type"
   ]
  },
  {
   "cell_type": "code",
   "execution_count": 0,
   "metadata": {
    "application/vnd.databricks.v1+cell": {
     "cellMetadata": {
      "byteLimit": 2048000,
      "rowLimit": 10000
     },
     "inputWidgets": {},
     "nuid": "7c3ef376-c150-4ef8-9a39-164bb15c049f",
     "showTitle": false,
     "tableResultSettingsMap": {},
     "title": ""
    }
   },
   "outputs": [],
   "source": [
    "from pyspark.sql.functions import to_date\n",
    "\n",
    "txns_df = txns_df.withColumn(\"txndate\", to_date(\"txndate\", \"MM-dd-yyyy\"))\n",
    "txns_df.printSchema()\n",
    "txns_df.display()"
   ]
  },
  {
   "cell_type": "code",
   "execution_count": 0,
   "metadata": {
    "application/vnd.databricks.v1+cell": {
     "cellMetadata": {
      "byteLimit": 2048000,
      "rowLimit": 10000
     },
     "inputWidgets": {},
     "nuid": "c96282ac-3fff-461f-8b8c-b46531810a6c",
     "showTitle": false,
     "tableResultSettingsMap": {},
     "title": ""
    }
   },
   "outputs": [],
   "source": [
    "#Extracting Parts of Date\n",
    "from pyspark.sql.functions import year, month, dayofmonth, dayofweek, dayofyear, weekofyear, quarter\n",
    "\n",
    "txns_df_parts = txns_df.select(\n",
    "    \"txnid\", \"txndate\",\n",
    "    year(\"txndate\").alias(\"year\"),\n",
    "    month(\"txndate\").alias(\"month\"),\n",
    "    dayofmonth(\"txndate\").alias(\"day\"),\n",
    "    dayofweek(\"txndate\").alias(\"weekday\"),\n",
    "    dayofyear(\"txndate\").alias(\"day_of_year\"),\n",
    "    weekofyear(\"txndate\").alias(\"week\"),\n",
    "    quarter(\"txndate\").alias(\"quarter\")\n",
    ")\n",
    "display(txns_df_parts)\n"
   ]
  },
  {
   "cell_type": "code",
   "execution_count": 0,
   "metadata": {
    "application/vnd.databricks.v1+cell": {
     "cellMetadata": {
      "byteLimit": 2048000,
      "rowLimit": 10000
     },
     "inputWidgets": {},
     "nuid": "a8d9ca4b-210c-408c-b385-03a6f7cec4be",
     "showTitle": false,
     "tableResultSettingsMap": {
      "0": {
       "dataGridStateBlob": "{\"version\":1,\"tableState\":{\"columnPinning\":{\"left\":[\"#row_number#\"],\"right\":[]},\"columnSizing\":{\"now\":243},\"columnVisibility\":{}},\"settings\":{\"columns\":{}},\"syncTimestamp\":1759889237542}",
       "filterBlob": null,
       "queryPlanFiltersBlob": null,
       "tableResultIndex": 0
      }
     },
     "title": ""
    }
   },
   "outputs": [],
   "source": [
    "# Current Date & Timestamp Functions\n",
    "\n",
    "from pyspark.sql.functions import current_date, current_timestamp, date_format, date_trunc, trunc\n",
    "\n",
    "df_current = txns_df.select(\n",
    "    current_date().alias(\"today\"),\n",
    "    current_timestamp().alias(\"now\"),\n",
    "    date_format(\"txndate\", \"dd-MM-yyyy\").alias(\"formatted\"),\n",
    "    date_trunc(\"month\", \"txndate\").alias(\"month_start\"),\n",
    "    trunc(\"txndate\", \"year\").alias(\"year_start\"),\n",
    "    trunc(\"txndate\", \"month\").alias(\"month_start_dt\")\n",
    "\n",
    ")\n",
    "df_current.display()"
   ]
  },
  {
   "cell_type": "code",
   "execution_count": 0,
   "metadata": {
    "application/vnd.databricks.v1+cell": {
     "cellMetadata": {
      "byteLimit": 2048000,
      "rowLimit": 10000
     },
     "inputWidgets": {},
     "nuid": "75ebb147-4040-4532-a1fb-2dd5d57246ef",
     "showTitle": false,
     "tableResultSettingsMap": {},
     "title": ""
    }
   },
   "outputs": [],
   "source": [
    "# Date Arithmetic Functions\n",
    "from pyspark.sql.functions import date_add, date_sub, add_months, months_between, datediff, next_day, last_day\n",
    "\n",
    "df_arith = txns_df.select(\n",
    "    \"txnid\", \"txndate\",\n",
    "    date_add(\"txndate\", 10).alias(\"plus_10_days\"),\n",
    "    date_sub(\"txndate\", 5).alias(\"minus_5_days\"),\n",
    "    add_months(\"txndate\", 2).alias(\"plus_2_months\"),\n",
    "    months_between(current_date(), \"txndate\").alias(\"months_since_txn\"),\n",
    "    datediff(current_date(), \"txndate\").alias(\"days_since_txn\"),\n",
    "    next_day(\"txndate\", \"Sunday\").alias(\"next_sunday\"),\n",
    "    last_day(\"txndate\").alias(\"last_day_month\")\n",
    ")\n",
    "display(df_arith)"
   ]
  }
 ],
 "metadata": {
  "application/vnd.databricks.v1+notebook": {
   "computePreferences": null,
   "dashboards": [],
   "environmentMetadata": {
    "base_environment": "",
    "environment_version": "3"
   },
   "inputWidgetPreferences": null,
   "language": "python",
   "notebookMetadata": {
    "pythonIndentUnit": 4
   },
   "notebookName": "Lab15-date-functions",
   "widgets": {}
  },
  "language_info": {
   "name": "python"
  }
 },
 "nbformat": 4,
 "nbformat_minor": 0
}
