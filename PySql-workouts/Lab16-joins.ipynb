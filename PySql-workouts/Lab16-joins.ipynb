{
 "cells": [
  {
   "cell_type": "markdown",
   "metadata": {
    "application/vnd.databricks.v1+cell": {
     "cellMetadata": {
      "byteLimit": 2048000,
      "rowLimit": 10000
     },
     "inputWidgets": {},
     "nuid": "dfa15aa8-edc3-4016-acc5-c2a3fc6f3dc1",
     "showTitle": false,
     "tableResultSettingsMap": {},
     "title": ""
    }
   },
   "source": [
    "### Joins in Spark-SQL\n",
    "- inner \n",
    "- left outer\n",
    "- right outer\n",
    "- full outer\n",
    "- left semi\n",
    "- left anti\n",
    "- cross join\n"
   ]
  },
  {
   "cell_type": "code",
   "execution_count": 0,
   "metadata": {
    "application/vnd.databricks.v1+cell": {
     "cellMetadata": {
      "byteLimit": 2048000,
      "rowLimit": 10000
     },
     "inputWidgets": {},
     "nuid": "b20a6b3c-d85a-4a15-ad63-958515269fc4",
     "showTitle": false,
     "tableResultSettingsMap": {},
     "title": ""
    }
   },
   "outputs": [],
   "source": [
    "# Load transaction data\n",
    "txns_df = spark.createDataFrame([\n",
    "    (\"101\", \"C001\", 500, \"Tamil Nadu\"),\n",
    "    (\"102\", \"C002\", 1500, \"Kerala\"),\n",
    "    (\"103\", \"C003\", 2000, \"Karnataka\"),\n",
    "    (\"104\", \"C004\", 700, \"Tamil Nadu\")\n",
    "], [\"txnid\", \"custid\", \"amount\", \"state\"])\n",
    "\n",
    "# Load customer data\n",
    "cust_df = spark.createDataFrame([\n",
    "    (\"C001\", \"Arjun\"),\n",
    "    (\"C003\", \"Divya\"),\n",
    "    (\"C005\", \"Ravi\")\n",
    "], [\"custid\", \"fname\"])\n",
    "\n",
    "txns_df.printSchema()\n",
    "cust_df.printSchema()\n"
   ]
  },
  {
   "cell_type": "code",
   "execution_count": 0,
   "metadata": {
    "application/vnd.databricks.v1+cell": {
     "cellMetadata": {
      "byteLimit": 2048000,
      "rowLimit": 10000
     },
     "inputWidgets": {},
     "nuid": "b9f8ca0d-fbbc-4336-9bae-91ec16cf468b",
     "showTitle": false,
     "tableResultSettingsMap": {},
     "title": ""
    }
   },
   "outputs": [],
   "source": [
    "txns_df.display()\n",
    "cust_df.display()\n"
   ]
  },
  {
   "cell_type": "markdown",
   "metadata": {
    "application/vnd.databricks.v1+cell": {
     "cellMetadata": {
      "byteLimit": 2048000,
      "rowLimit": 10000
     },
     "inputWidgets": {},
     "nuid": "f74127b9-e131-4fbf-957d-859486d34bca",
     "showTitle": false,
     "tableResultSettingsMap": {},
     "title": ""
    }
   },
   "source": [
    "### Basic Join Syntax\n",
    "- df1.join(df2, on=\"key_column\", how=\"join_type\")\n",
    "- on → column(s) to join on (string or list of column names)\n",
    "- how → type of join: \"inner\", \"left\", \"right\", \"full\", \"left_semi\", \"left_anti\", \"cross\""
   ]
  },
  {
   "cell_type": "code",
   "execution_count": 0,
   "metadata": {
    "application/vnd.databricks.v1+cell": {
     "cellMetadata": {
      "byteLimit": 2048000,
      "rowLimit": 10000
     },
     "inputWidgets": {},
     "nuid": "63c6366e-9bf4-4b77-82f4-cef2276a5532",
     "showTitle": false,
     "tableResultSettingsMap": {},
     "title": ""
    }
   },
   "outputs": [],
   "source": [
    "### Inner Join - Returns rows with matching keys in both DataFrames.\n",
    "\n",
    "txns_df.join(cust_df, on=\"custid\", how=\"inner\").display()"
   ]
  },
  {
   "cell_type": "markdown",
   "metadata": {
    "application/vnd.databricks.v1+cell": {
     "cellMetadata": {
      "byteLimit": 2048000,
      "rowLimit": 10000
     },
     "inputWidgets": {},
     "nuid": "c2100f8a-e68b-4f3d-a15d-e4c92700a111",
     "showTitle": false,
     "tableResultSettingsMap": {},
     "title": ""
    }
   },
   "source": [
    "### Left Outer Join (Left Join)\n",
    "- Returns all rows from the left DataFrame, and matched rows from the right DataFrame.\n",
    "- If no match, right columns are null."
   ]
  },
  {
   "cell_type": "code",
   "execution_count": 0,
   "metadata": {
    "application/vnd.databricks.v1+cell": {
     "cellMetadata": {
      "byteLimit": 2048000,
      "rowLimit": 10000
     },
     "inputWidgets": {},
     "nuid": "33839b77-c021-40b4-b446-0686fb5b9f24",
     "showTitle": false,
     "tableResultSettingsMap": {},
     "title": ""
    }
   },
   "outputs": [],
   "source": [
    "txns_df.join(cust_df, on=\"custid\", how=\"left\").display()"
   ]
  },
  {
   "cell_type": "markdown",
   "metadata": {
    "application/vnd.databricks.v1+cell": {
     "cellMetadata": {
      "byteLimit": 2048000,
      "rowLimit": 10000
     },
     "inputWidgets": {},
     "nuid": "4063c30a-7ec0-4afe-b814-68201cb00f55",
     "showTitle": false,
     "tableResultSettingsMap": {},
     "title": ""
    }
   },
   "source": [
    "### Right Outer Join (Right Join)\n",
    "- Returns all rows from the right DataFrame, and matched rows from the left DataFrame.\n",
    "- If no match, left columns are null."
   ]
  },
  {
   "cell_type": "code",
   "execution_count": 0,
   "metadata": {
    "application/vnd.databricks.v1+cell": {
     "cellMetadata": {
      "byteLimit": 2048000,
      "rowLimit": 10000
     },
     "inputWidgets": {},
     "nuid": "1e5379b1-ac75-432a-9bdc-e6a89ac6b879",
     "showTitle": false,
     "tableResultSettingsMap": {},
     "title": ""
    }
   },
   "outputs": [],
   "source": [
    "txns_df.join(cust_df, on=\"custid\", how=\"right\").display()"
   ]
  },
  {
   "cell_type": "markdown",
   "metadata": {
    "application/vnd.databricks.v1+cell": {
     "cellMetadata": {},
     "inputWidgets": {},
     "nuid": "710994d1-f156-4323-a206-2cb99214820a",
     "showTitle": false,
     "tableResultSettingsMap": {},
     "title": ""
    }
   },
   "source": [
    "### Full Outer Join (Full Join)\n",
    "- Returns all rows from both DataFrames, with null where no match."
   ]
  },
  {
   "cell_type": "code",
   "execution_count": 0,
   "metadata": {
    "application/vnd.databricks.v1+cell": {
     "cellMetadata": {
      "byteLimit": 2048000,
      "rowLimit": 10000
     },
     "inputWidgets": {},
     "nuid": "2b50bfd6-aff1-4157-b186-a1c00a740e67",
     "showTitle": false,
     "tableResultSettingsMap": {},
     "title": ""
    }
   },
   "outputs": [],
   "source": [
    "txns_df.join(cust_df, on=\"custid\", how=\"full\").display()"
   ]
  },
  {
   "cell_type": "markdown",
   "metadata": {
    "application/vnd.databricks.v1+cell": {
     "cellMetadata": {},
     "inputWidgets": {},
     "nuid": "63dc3e7f-d151-4944-a6bc-e1db7b0828cc",
     "showTitle": false,
     "tableResultSettingsMap": {},
     "title": ""
    }
   },
   "source": [
    "### Left Semi Join\n",
    "- Returns only rows from left DataFrame that have a match in right DataFrame.\n",
    "- Columns come only from left DataFrame."
   ]
  },
  {
   "cell_type": "code",
   "execution_count": 0,
   "metadata": {
    "application/vnd.databricks.v1+cell": {
     "cellMetadata": {
      "byteLimit": 2048000,
      "rowLimit": 10000
     },
     "inputWidgets": {},
     "nuid": "80ff962e-8d39-4c36-8a1f-bb90b994da4e",
     "showTitle": false,
     "tableResultSettingsMap": {},
     "title": ""
    }
   },
   "outputs": [],
   "source": [
    "txns_df.join(cust_df, on=\"custid\", how=\"left_semi\").display()"
   ]
  },
  {
   "cell_type": "markdown",
   "metadata": {
    "application/vnd.databricks.v1+cell": {
     "cellMetadata": {},
     "inputWidgets": {},
     "nuid": "1b3e3c63-de0b-47c1-ac31-2f9d3cb4079c",
     "showTitle": false,
     "tableResultSettingsMap": {},
     "title": ""
    }
   },
   "source": [
    "### Left Anti Join\n",
    "- Returns only rows from left DataFrame that do NOT have a match in right DataFrame."
   ]
  },
  {
   "cell_type": "code",
   "execution_count": 0,
   "metadata": {
    "application/vnd.databricks.v1+cell": {
     "cellMetadata": {
      "byteLimit": 2048000,
      "rowLimit": 10000
     },
     "inputWidgets": {},
     "nuid": "87c446ce-0d8c-47e5-81d6-4630243054bb",
     "showTitle": false,
     "tableResultSettingsMap": {},
     "title": ""
    }
   },
   "outputs": [],
   "source": [
    "txns_df.join(cust_df, on=\"custid\", how=\"left_anti\").display()"
   ]
  },
  {
   "cell_type": "markdown",
   "metadata": {
    "application/vnd.databricks.v1+cell": {
     "cellMetadata": {},
     "inputWidgets": {},
     "nuid": "32962848-d6d8-4e52-8c48-020506243fa3",
     "showTitle": false,
     "tableResultSettingsMap": {},
     "title": ""
    }
   },
   "source": [
    "### Cross Join (Cartesian Product)\n",
    "- Returns all combinations of rows from left and right DataFrames.\n",
    "- Can be very large if both DataFrames are big."
   ]
  },
  {
   "cell_type": "code",
   "execution_count": 0,
   "metadata": {
    "application/vnd.databricks.v1+cell": {
     "cellMetadata": {
      "byteLimit": 2048000,
      "rowLimit": 10000
     },
     "inputWidgets": {},
     "nuid": "9875f8ec-36f2-4825-8ded-5c6829e4f6a9",
     "showTitle": false,
     "tableResultSettingsMap": {},
     "title": ""
    }
   },
   "outputs": [],
   "source": [
    "txns_df.crossJoin(cust_df).display()"
   ]
  },
  {
   "cell_type": "code",
   "execution_count": 0,
   "metadata": {
    "application/vnd.databricks.v1+cell": {
     "cellMetadata": {
      "byteLimit": 2048000,
      "rowLimit": 10000
     },
     "inputWidgets": {},
     "nuid": "eea62b03-5598-400b-ac5a-e514d251e020",
     "showTitle": false,
     "tableResultSettingsMap": {},
     "title": ""
    }
   },
   "outputs": [],
   "source": [
    "# Load transaction data\n",
    "txns_df = spark.createDataFrame([\n",
    "    (\"101\", \"C001\", 500, \"Tamil Nadu\"),\n",
    "    (\"102\", \"C002\", 1500, \"Kerala\"),\n",
    "    (\"103\", \"C003\", 2000, \"Karnataka\"),\n",
    "    (\"104\", \"C004\", 700, \"Tamil Nadu\")\n",
    "], [\"txnid\", \"cust_id\", \"amount\", \"state\"])\n",
    "\n",
    "# Load customer data\n",
    "cust_df = spark.createDataFrame([\n",
    "    (\"C001\", \"Arjun\"),\n",
    "    (\"C003\", \"Divya\"),\n",
    "    (\"C005\", \"Ravi\")\n",
    "], [\"custid\", \"fname\"])\n"
   ]
  },
  {
   "cell_type": "code",
   "execution_count": 0,
   "metadata": {
    "application/vnd.databricks.v1+cell": {
     "cellMetadata": {
      "byteLimit": 2048000,
      "rowLimit": 10000
     },
     "inputWidgets": {},
     "nuid": "d87e516d-24b0-4828-a2f8-356ba7ee8aa0",
     "showTitle": false,
     "tableResultSettingsMap": {},
     "title": ""
    }
   },
   "outputs": [],
   "source": [
    "txns_df.join(cust_df, txns_df.cust_id == cust_df.custid, \"inner\").display()"
   ]
  },
  {
   "cell_type": "markdown",
   "metadata": {
    "application/vnd.databricks.v1+cell": {
     "cellMetadata": {},
     "inputWidgets": {},
     "nuid": "8ec1b109-66de-496c-a836-a6c2a6333032",
     "showTitle": false,
     "tableResultSettingsMap": {},
     "title": ""
    }
   },
   "source": [
    "### Join using multiple columns"
   ]
  },
  {
   "cell_type": "code",
   "execution_count": 0,
   "metadata": {
    "application/vnd.databricks.v1+cell": {
     "cellMetadata": {
      "byteLimit": 2048000,
      "rowLimit": 10000
     },
     "inputWidgets": {},
     "nuid": "93f165c7-ab3b-4825-aa28-868c422e2470",
     "showTitle": false,
     "tableResultSettingsMap": {},
     "title": ""
    }
   },
   "outputs": [],
   "source": [
    "joined_df = txns_df.join(\n",
    "    cust_df,\n",
    "    (txns_df.cust_id == cust_df.custid) & (txns_df.state == cust_df.fname),\n",
    "    how=\"inner\"\n",
    ").display()"
   ]
  },
  {
   "cell_type": "markdown",
   "metadata": {
    "application/vnd.databricks.v1+cell": {
     "cellMetadata": {},
     "inputWidgets": {},
     "nuid": "66948695-4ff1-4a73-a334-3393a16a880f",
     "showTitle": false,
     "tableResultSettingsMap": {},
     "title": ""
    }
   },
   "source": [
    "### Join with multiple tables"
   ]
  },
  {
   "cell_type": "code",
   "execution_count": 0,
   "metadata": {
    "application/vnd.databricks.v1+cell": {
     "cellMetadata": {
      "byteLimit": 2048000,
      "rowLimit": 10000
     },
     "inputWidgets": {},
     "nuid": "23823451-ce82-40cc-923a-3d2eba1ee13e",
     "showTitle": false,
     "tableResultSettingsMap": {},
     "title": ""
    }
   },
   "outputs": [],
   "source": [
    "txns_df = spark.createDataFrame([\n",
    "    (\"101\", \"C001\", 500, \"Tamil Nadu\",\"PT1\"),\n",
    "    (\"102\", \"C002\", 1500, \"Kerala\",\"PT2\"),\n",
    "    (\"103\", \"C003\", 2000, \"Karnataka\",\"PT3\"),\n",
    "    (\"104\", \"C004\", 700, \"Tamil Nadu\",\"PT3\")\n",
    "], [\"txnid\", \"cust_id\", \"amount\", \"state\",\"paymenttype\"])\n",
    "\n",
    "# Load customer data\n",
    "cust_df = spark.createDataFrame([\n",
    "    (\"C001\", \"Arjun\"),\n",
    "    (\"C003\", \"Divya\"),\n",
    "    (\"C005\", \"Ravi\")\n",
    "], [\"custid\", \"fname\"])\n",
    "\n",
    "ptype_df = spark.createDataFrame([\n",
    "    (\"PT1\",\"Cash\"),(\"PT2\",\"Debit\"),\n",
    "    (\"PT3\",\"Credit\")\n",
    "    ],\n",
    "[\"paymenttype\",\"paymentdesc\"])\n",
    "\n",
    "#select * from txns_df inner join cust_df on txns_df.cust_id = cust_df.custid left outer ptype_df on txns_df.paymenttype = ptype_df.paymenttype \n",
    "\n",
    "txns_df.join(cust_df, txns_df.cust_id == cust_df.custid, \"inner\") \\\n",
    "    .join(ptype_df,txns_df.paymenttype==ptype_df.paymenttype,\"left\") \\\n",
    "    .display()\n"
   ]
  },
  {
   "cell_type": "code",
   "execution_count": 0,
   "metadata": {
    "application/vnd.databricks.v1+cell": {
     "cellMetadata": {
      "byteLimit": 2048000,
      "rowLimit": 10000
     },
     "inputWidgets": {},
     "nuid": "c4ae2180-6a3f-4107-a65f-e7ff8bdfc554",
     "showTitle": false,
     "tableResultSettingsMap": {},
     "title": ""
    }
   },
   "outputs": [],
   "source": [
    "txns_df.display()\n",
    "cust_df.display()\n",
    "ptype_df.display()\n"
   ]
  }
 ],
 "metadata": {
  "application/vnd.databricks.v1+notebook": {
   "computePreferences": null,
   "dashboards": [],
   "environmentMetadata": {
    "base_environment": "",
    "environment_version": "3"
   },
   "inputWidgetPreferences": null,
   "language": "python",
   "notebookMetadata": {
    "pythonIndentUnit": 4
   },
   "notebookName": "Lab16-joins",
   "widgets": {}
  },
  "language_info": {
   "name": "python"
  }
 },
 "nbformat": 4,
 "nbformat_minor": 0
}
