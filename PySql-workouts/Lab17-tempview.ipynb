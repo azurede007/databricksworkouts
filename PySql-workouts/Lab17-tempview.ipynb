{
 "cells": [
  {
   "cell_type": "markdown",
   "metadata": {
    "application/vnd.databricks.v1+cell": {
     "cellMetadata": {},
     "inputWidgets": {},
     "nuid": "9eacdb21-a493-44d1-9043-4f5c9b612e25",
     "showTitle": false,
     "tableResultSettingsMap": {},
     "title": ""
    }
   },
   "source": [
    "### Using Tempview"
   ]
  },
  {
   "cell_type": "code",
   "execution_count": 0,
   "metadata": {
    "application/vnd.databricks.v1+cell": {
     "cellMetadata": {
      "byteLimit": 2048000,
      "rowLimit": 10000
     },
     "inputWidgets": {},
     "nuid": "a8923376-2c36-4369-97e0-5fa518cd4426",
     "showTitle": false,
     "tableResultSettingsMap": {},
     "title": ""
    }
   },
   "outputs": [],
   "source": [
    "# Read CSV with header and infer schema\n",
    "txns_df = spark.read.format(\"csv\") \\\n",
    "    .option(\"header\", \"true\") \\\n",
    "    .option(\"inferSchema\", \"true\") \\\n",
    "    .load(\"dbfs:/Volumes/inceptez_catalog/inputdb/customerdata/txns\") \\\n",
    "\t.toDF(\"txnid\",\"txndate\",\"custid\",\"amount\",\"prodcategory\",\"prodname\",\"city\",\"state\",\"paymenttype\")\n",
    " "
   ]
  },
  {
   "cell_type": "markdown",
   "metadata": {
    "application/vnd.databricks.v1+cell": {
     "cellMetadata": {},
     "inputWidgets": {},
     "nuid": "cb5dea7b-af2f-4c2f-9a82-8e594827aa92",
     "showTitle": false,
     "tableResultSettingsMap": {},
     "title": ""
    }
   },
   "source": [
    "### Local Temporary View \n",
    "- createTempView\n",
    "- createOrReplaceTempView"
   ]
  },
  {
   "cell_type": "code",
   "execution_count": 0,
   "metadata": {
    "application/vnd.databricks.v1+cell": {
     "cellMetadata": {
      "byteLimit": 2048000,
      "rowLimit": 10000
     },
     "inputWidgets": {},
     "nuid": "b2c282d3-329b-45e7-81ce-505229edf51f",
     "showTitle": false,
     "tableResultSettingsMap": {},
     "title": ""
    }
   },
   "outputs": [],
   "source": [
    "txns_df.createOrReplaceTempView(\"tbl_txns\")\n",
    "txns_df.createOrReplaceGlobalTempView(\"tbl_txns_global\")\n",
    "\n",
    "spark.sql(\"select * from global_temp.tbl_txns_global\").display()\n"
   ]
  },
  {
   "cell_type": "code",
   "execution_count": 0,
   "metadata": {
    "application/vnd.databricks.v1+cell": {
     "cellMetadata": {
      "byteLimit": 2048000,
      "rowLimit": 10000
     },
     "inputWidgets": {},
     "nuid": "b8e9c5e6-e063-40ba-b415-13e7e9e0f14d",
     "showTitle": false,
     "tableResultSettingsMap": {},
     "title": ""
    }
   },
   "outputs": [],
   "source": [
    "# Query using Spark SQL\n",
    "df = spark.sql(\"\"\"\n",
    "          SELECT custid, city, round(SUM(amount),2) as total_amount \n",
    "          FROM tbl_txns \n",
    "          GROUP BY custid, city \n",
    "          ORDER BY total_amount DESC\"\"\") \\\n",
    "\n",
    "df.display()"
   ]
  }
 ],
 "metadata": {
  "application/vnd.databricks.v1+notebook": {
   "computePreferences": null,
   "dashboards": [],
   "environmentMetadata": {
    "base_environment": "",
    "environment_version": "3"
   },
   "inputWidgetPreferences": null,
   "language": "python",
   "notebookMetadata": {
    "pythonIndentUnit": 4
   },
   "notebookName": "Lab17-tempview",
   "widgets": {}
  },
  "language_info": {
   "name": "python"
  }
 },
 "nbformat": 4,
 "nbformat_minor": 0
}
