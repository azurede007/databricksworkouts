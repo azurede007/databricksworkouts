{
 "cells": [
  {
   "cell_type": "markdown",
   "metadata": {
    "application/vnd.databricks.v1+cell": {
     "cellMetadata": {},
     "inputWidgets": {},
     "nuid": "6fdf2f2a-18b2-4e25-a288-1c234bf4a08b",
     "showTitle": false,
     "tableResultSettingsMap": {},
     "title": ""
    }
   },
   "source": [
    "### Transformation using SQL queries"
   ]
  },
  {
   "cell_type": "code",
   "execution_count": 0,
   "metadata": {
    "application/vnd.databricks.v1+cell": {
     "cellMetadata": {
      "byteLimit": 2048000,
      "rowLimit": 10000
     },
     "inputWidgets": {},
     "nuid": "d8ae9cd0-6e6b-4f78-bb03-a25ae01b9e7e",
     "showTitle": false,
     "tableResultSettingsMap": {},
     "title": ""
    }
   },
   "outputs": [],
   "source": [
    "# Load transaction data\n",
    "txns_df = spark.createDataFrame([\n",
    "    (\"101\", \"C001\", 500, \"Tamil Nadu\"),\n",
    "    (\"102\", \"C002\", 1500, \"Kerala\"),\n",
    "    (\"103\", \"C003\", 2000, \"Karnataka\"),\n",
    "    (\"104\", \"C004\", 700, \"Tamil Nadu\")\n",
    "], [\"txnid\", \"custid\", \"amount\", \"state\"])\n",
    "\n",
    "# Load customer data\n",
    "cust_df = spark.createDataFrame([\n",
    "    (\"C001\", \"Arjun\"),\n",
    "    (\"C003\", \"Divya\"),\n",
    "    (\"C005\", \"Ravi\")\n",
    "], [\"custid\", \"fname\"])"
   ]
  },
  {
   "cell_type": "code",
   "execution_count": 0,
   "metadata": {
    "application/vnd.databricks.v1+cell": {
     "cellMetadata": {
      "byteLimit": 2048000,
      "rowLimit": 10000
     },
     "inputWidgets": {},
     "nuid": "009b6d1b-239c-4ec7-ac81-1ca618caa587",
     "showTitle": false,
     "tableResultSettingsMap": {},
     "title": ""
    }
   },
   "outputs": [],
   "source": [
    "txns_df.createOrReplaceTempView(\"tbltxns\")\n",
    "cust_df.createOrReplaceTempView(\"tblcust\")\n",
    "print(\"Views created\")\n"
   ]
  },
  {
   "cell_type": "code",
   "execution_count": 0,
   "metadata": {
    "application/vnd.databricks.v1+cell": {
     "cellMetadata": {
      "byteLimit": 2048000,
      "rowLimit": 10000
     },
     "inputWidgets": {},
     "nuid": "21094b57-27cc-4788-beef-182c7182f08e",
     "showTitle": false,
     "tableResultSettingsMap": {},
     "title": ""
    }
   },
   "outputs": [],
   "source": [
    "txns1 = spark.sql(\"select * from tbltxns where amount > 1000\")\n",
    "txns1.display()"
   ]
  },
  {
   "cell_type": "code",
   "execution_count": 0,
   "metadata": {
    "application/vnd.databricks.v1+cell": {
     "cellMetadata": {
      "byteLimit": 2048000,
      "rowLimit": 10000
     },
     "inputWidgets": {},
     "nuid": "2609604f-aa51-408b-98ec-f0e5b2e39cf5",
     "showTitle": false,
     "tableResultSettingsMap": {},
     "title": ""
    }
   },
   "outputs": [],
   "source": [
    "spark.sql(\"select distinct state from tbltxns\").display()"
   ]
  },
  {
   "cell_type": "code",
   "execution_count": 0,
   "metadata": {
    "application/vnd.databricks.v1+cell": {
     "cellMetadata": {
      "byteLimit": 2048000,
      "rowLimit": 10000
     },
     "inputWidgets": {},
     "nuid": "53c61302-83b0-4df3-9d47-2852514b8dd8",
     "showTitle": false,
     "tableResultSettingsMap": {},
     "title": ""
    }
   },
   "outputs": [],
   "source": [
    "spark.sql(\"select state, sum(amount) as totalsales from tbltxns group by state\").display()"
   ]
  },
  {
   "cell_type": "code",
   "execution_count": 0,
   "metadata": {
    "application/vnd.databricks.v1+cell": {
     "cellMetadata": {
      "byteLimit": 2048000,
      "rowLimit": 10000
     },
     "inputWidgets": {},
     "nuid": "f811721c-6eb0-4c28-a01e-5cdcf7563956",
     "showTitle": false,
     "tableResultSettingsMap": {},
     "title": ""
    }
   },
   "outputs": [],
   "source": [
    "#join using sql query\n",
    "\n",
    "spark.sql(\"select c.custid, c.fname, t.amount from tbltxns t inner join tblcust c on c.custid = t.custid\").display()\n",
    "\n"
   ]
  }
 ],
 "metadata": {
  "application/vnd.databricks.v1+notebook": {
   "computePreferences": null,
   "dashboards": [],
   "environmentMetadata": {
    "base_environment": "",
    "environment_version": "3"
   },
   "inputWidgetPreferences": null,
   "language": "python",
   "notebookMetadata": {
    "pythonIndentUnit": 4
   },
   "notebookName": "Lab17-transform-using-sql",
   "widgets": {}
  },
  "language_info": {
   "name": "python"
  }
 },
 "nbformat": 4,
 "nbformat_minor": 0
}
