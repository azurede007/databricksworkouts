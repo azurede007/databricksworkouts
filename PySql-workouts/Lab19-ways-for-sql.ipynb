{
 "cells": [
  {
   "cell_type": "markdown",
   "metadata": {
    "application/vnd.databricks.v1+cell": {
     "cellMetadata": {},
     "inputWidgets": {},
     "nuid": "9722cf63-523f-4309-aa21-f03661f1f05a",
     "showTitle": false,
     "tableResultSettingsMap": {},
     "title": ""
    }
   },
   "source": [
    "#### Spark SQL Queries\n",
    "- Spark SQL lets you query structured data using standard SQL syntax on top of Apache Spark’s distributed engine. \n",
    "- It supports almost everything you know from traditional SQL (SELECT, WHERE, JOIN, GROUP BY, etc.) but at massive scale.\n",
    "\n",
    "### We can use Spark SQL in Databricks in three ways:\n",
    "1. Through the DataFrame API and converting it to SQL views\n",
    "2. Using spark.sql(\"...\") inside a PySpark notebook\n",
    "3. Using %sql magic commands directly in a notebook cell"
   ]
  },
  {
   "cell_type": "code",
   "execution_count": 0,
   "metadata": {
    "application/vnd.databricks.v1+cell": {
     "cellMetadata": {
      "byteLimit": 2048000,
      "rowLimit": 10000
     },
     "inputWidgets": {},
     "nuid": "342ce2ba-f1ff-41bc-ae23-bbbc48be369e",
     "showTitle": false,
     "tableResultSettingsMap": {},
     "title": ""
    }
   },
   "outputs": [],
   "source": [
    "# 1. Through the DataFrame API and converting it to SQL views\n",
    "# Read CSV data\n",
    "cust_df = (\n",
    "    spark.read.format(\"csv\")\n",
    "    .option(\"header\", \"true\")\n",
    "    .option(\"inferSchema\", \"true\")\n",
    "    .load(\"/Volumes/inceptez_catalog/inputdb/customerdata/custs\") \\\n",
    "    .toDF(\"custid\",\"fname\",\"lname\",\"age\",\"profession\")\n",
    ")\n",
    "cust_df.printSchema()\n",
    "# Create or replace a temporary SQL view\n",
    "cust_df.createOrReplaceTempView(\"v_customer\")\n",
    "\n",
    "# Query using SQL on the temp view\n",
    "df_result = spark.sql(\"\"\"\n",
    "SELECT custid, fname, age, profession\n",
    "FROM v_customer\n",
    "WHERE age > 30\n",
    "ORDER BY age DESC\n",
    "\"\"\")\n",
    "\n",
    "display(df_result)"
   ]
  },
  {
   "cell_type": "code",
   "execution_count": 0,
   "metadata": {
    "application/vnd.databricks.v1+cell": {
     "cellMetadata": {},
     "inputWidgets": {},
     "nuid": "412bdef2-cbb0-4997-a376-7ccbf9d6d54b",
     "showTitle": false,
     "tableResultSettingsMap": {},
     "title": ""
    }
   },
   "outputs": [],
   "source": []
  },
  {
   "cell_type": "code",
   "execution_count": 0,
   "metadata": {
    "application/vnd.databricks.v1+cell": {
     "cellMetadata": {
      "byteLimit": 2048000,
      "rowLimit": 10000
     },
     "inputWidgets": {},
     "nuid": "3fb1df96-b0e0-4264-a531-5ff08b5075d3",
     "showTitle": false,
     "tableResultSettingsMap": {},
     "title": ""
    }
   },
   "outputs": [],
   "source": [
    "# Using spark.sql(\"...\") inside a PySpark notebook\n",
    "# You can directly query the CSV file using Delta-like SQL syntax\n",
    "spark.sql(\"\"\"\n",
    "SELECT * FROM        \n",
    "(SELECT _c0 as custid,_c1 as fname,_c2 as lname,_c3 as age,_c4 as profession\n",
    "FROM csv.`dbfs:/Volumes/inceptez_catalog/inputdb/customerdata/custs`)\n",
    "WHERE profession = 'Lawyer'\n",
    "AND age > 30\n",
    "ORDER BY age DESC\n",
    "\"\"\").display()\n"
   ]
  },
  {
   "cell_type": "code",
   "execution_count": 0,
   "metadata": {
    "application/vnd.databricks.v1+cell": {
     "cellMetadata": {
      "byteLimit": 2048000,
      "implicitDf": true,
      "rowLimit": 10000
     },
     "inputWidgets": {},
     "nuid": "ccdcc912-6d9a-43a5-b80f-d38954f8588a",
     "showTitle": false,
     "tableResultSettingsMap": {
      "0": {
       "dataGridStateBlob": "{\"version\":1,\"tableState\":{\"columnPinning\":{\"left\":[\"#row_number#\"],\"right\":[]},\"columnSizing\":{},\"columnVisibility\":{}},\"settings\":{\"columns\":{}},\"syncTimestamp\":1759977658726}",
       "filterBlob": null,
       "queryPlanFiltersBlob": null,
       "tableResultIndex": 0
      }
     },
     "title": ""
    }
   },
   "outputs": [],
   "source": [
    "%sql\n",
    "-- Create temp view using sql query\n",
    "CREATE OR REPLACE TEMP VIEW temp_view \n",
    "USING CSV\n",
    "OPTIONS (\n",
    "  inferSchema \"true\",\n",
    "  path \"dbfs:/Volumes/inceptez_catalog/inputdb/customerdata/custs\"\n",
    ");\n",
    "\n",
    "SELECT * FROM        \n",
    "(SELECT _c0 as custid,_c1 as fname,_c2 as lname,_c3 as age,_c4 as profession\n",
    "FROM temp_view)\n",
    "WHERE profession = 'Lawyer'\n",
    "AND age > 30;\n"
   ]
  },
  {
   "cell_type": "code",
   "execution_count": 0,
   "metadata": {
    "application/vnd.databricks.v1+cell": {
     "cellMetadata": {
      "byteLimit": 2048000,
      "implicitDf": true,
      "rowLimit": 10000
     },
     "inputWidgets": {},
     "nuid": "4af80a82-e406-47e8-9c7e-29ef15d81740",
     "showTitle": false,
     "tableResultSettingsMap": {
      "0": {
       "dataGridStateBlob": "{\"version\":1,\"tableState\":{\"columnPinning\":{\"left\":[\"#row_number#\"],\"right\":[]},\"columnSizing\":{},\"columnVisibility\":{}},\"settings\":{\"columns\":{}},\"syncTimestamp\":1759979145962}",
       "filterBlob": null,
       "queryPlanFiltersBlob": null,
       "tableResultIndex": 0
      }
     },
     "title": ""
    }
   },
   "outputs": [],
   "source": [
    "%sql\n",
    "CREATE OR REPLACE TEMP VIEW cust_view \n",
    "USING CSV\n",
    "OPTIONS (\n",
    "  inferSchema \"true\",\n",
    "  path \"dbfs:/Volumes/inceptez_catalog/inputdb/customerdata/custs\"\n",
    ");\n",
    "\n",
    "CREATE OR REPLACE TEMP VIEW cust_view1 AS\n",
    "SELECT * FROM        \n",
    "(SELECT _c0 as custid,_c1 as fname,_c2 as lname,_c3 as age,_c4 as profession\n",
    "FROM cust_view);\n",
    "\n",
    "CREATE OR REPLACE TEMP VIEW txns_view \n",
    "USING CSV\n",
    "OPTIONS (\n",
    "  inferSchema \"true\",\n",
    "  path \"dbfs:/Volumes/inceptez_catalog/inputdb/customerdata/txns\"\n",
    ");\n",
    "\n",
    "CREATE OR REPLACE TEMP VIEW txns_view1 AS\n",
    "SELECT * FROM        \n",
    "(SELECT _c0 as txnid,_c1 as txndate,_c2 as custid,_c3 as txnamount,_c4 as prodname,_c5 as category,_c6 as city,_c7 as state,_c8 as paymenttype FROM txns_view);\n",
    "\n",
    "--select * from txns_view1 limit 10;\n",
    "--select * from cust_view1 limit 10;\n",
    "\n",
    "SELECT c.fname,c.lname,c.profession, t.txnamount,t.city,t.state FROM cust_view1 c INNER JOIN txns_view1 t ON c.custid = t.custid WHERE c.profession = 'Pilot' AND c.age > 30;\n",
    "\n"
   ]
  }
 ],
 "metadata": {
  "application/vnd.databricks.v1+notebook": {
   "computePreferences": null,
   "dashboards": [],
   "environmentMetadata": {
    "base_environment": "",
    "environment_version": "3"
   },
   "inputWidgetPreferences": null,
   "language": "python",
   "notebookMetadata": {
    "mostRecentlyExecutedCommandWithImplicitDF": {
     "commandId": 7923232492620474,
     "dataframes": [
      "_sqldf"
     ]
    },
    "pythonIndentUnit": 4
   },
   "notebookName": "Lab19-ways-for-sql",
   "widgets": {}
  },
  "language_info": {
   "name": "python"
  }
 },
 "nbformat": 4,
 "nbformat_minor": 0
}
