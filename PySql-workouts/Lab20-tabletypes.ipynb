{
 "cells": [
  {
   "cell_type": "markdown",
   "metadata": {
    "application/vnd.databricks.v1+cell": {
     "cellMetadata": {},
     "inputWidgets": {},
     "nuid": "584716e6-380b-4fa7-adb3-5ebb680fe46c",
     "showTitle": false,
     "tableResultSettingsMap": {},
     "title": ""
    }
   },
   "source": [
    "#### Managed Table - A managed table is a table whose data and metadata are fully managed by Spark."
   ]
  },
  {
   "cell_type": "markdown",
   "metadata": {
    "application/vnd.databricks.v1+cell": {
     "cellMetadata": {},
     "inputWidgets": {},
     "nuid": "08278900-a4e2-43af-a6e7-9695131fc1de",
     "showTitle": false,
     "tableResultSettingsMap": {},
     "title": ""
    }
   },
   "source": [
    "CREATE TABLE IF NOT EXISTS <table_name> ( <br/>\n",
    "  <col_name> <data_type> [COMMENT 'column comment'],<br/>\n",
    "  ...<br/>\n",
    ")<br/>\n",
    "USING <file_format><br/>\n",
    "[COMMENT 'table comment']<br/>\n",
    "[PARTITIONED BY (col1, col2, ...)]<br/>\n",
    "[TBLPROPERTIES (key1='value1', key2='value2', ...)]<br/>\n",
    "[LOCATION 'custom/path']<br/>\n",
    "[OPTIONS (key='value', ...)]<br/>\n"
   ]
  },
  {
   "cell_type": "code",
   "execution_count": 0,
   "metadata": {
    "application/vnd.databricks.v1+cell": {
     "cellMetadata": {
      "byteLimit": 2048000,
      "implicitDf": true,
      "rowLimit": 10000
     },
     "inputWidgets": {},
     "nuid": "aa29a8ae-8891-4d28-8363-aa70f475ae64",
     "showTitle": false,
     "tableResultSettingsMap": {},
     "title": ""
    }
   },
   "outputs": [],
   "source": [
    "%sql\n",
    "CREATE TABLE IF NOT EXISTS inceptez_catalog.inputdb.customer_analytics (\n",
    "  custid INT COMMENT 'Customer unique ID',\n",
    "  fname STRING COMMENT 'First name',\n",
    "  lname STRING COMMENT 'Last name',\n",
    "  age INT COMMENT 'Age of customer',\n",
    "  profession STRING COMMENT 'Job title',\n",
    "  country STRING COMMENT 'Country name'\n",
    ")\n",
    "USING DELTA\n",
    "COMMENT 'Customer analytics enriched data table'\n",
    "PARTITIONED BY (country)\n",
    "TBLPROPERTIES (\n",
    "  'quality' = 'gold',\n",
    "  'team' = 'data_engineering',\n",
    "  'created_by' = 'databricks_pipeline'\n",
    ");"
   ]
  },
  {
   "cell_type": "code",
   "execution_count": 0,
   "metadata": {
    "application/vnd.databricks.v1+cell": {
     "cellMetadata": {},
     "inputWidgets": {},
     "nuid": "f48f14be-c9ff-41fc-aa14-1560686e54a3",
     "showTitle": false,
     "tableResultSettingsMap": {},
     "title": ""
    }
   },
   "outputs": [],
   "source": []
  },
  {
   "cell_type": "markdown",
   "metadata": {
    "application/vnd.databricks.v1+cell": {
     "cellMetadata": {},
     "inputWidgets": {},
     "nuid": "ac1f89d2-ffc3-437e-a13f-d91ad9e6d52f",
     "showTitle": false,
     "tableResultSettingsMap": {},
     "title": ""
    }
   },
   "source": [
    "### External Table\n",
    "\n",
    "CREATE TABLE [IF NOT EXISTS] <table_name> <br/>\n",
    "(<br/>\n",
    "  column_name data_type,<br/>\n",
    "  ...<br/>\n",
    ")<br/>\n",
    "USING <file_format> <br/>\n",
    "LOCATION '<path>' <br/>\n",
    "[OPTIONS (...)] <br/>\n",
    "[TBLPROPERTIES (...)] <br/>\n",
    "[COMMENT '<description>'] <br/>"
   ]
  },
  {
   "cell_type": "code",
   "execution_count": 0,
   "metadata": {
    "application/vnd.databricks.v1+cell": {
     "cellMetadata": {},
     "inputWidgets": {},
     "nuid": "9719d3fa-c597-416e-bfea-a90d7a49b846",
     "showTitle": false,
     "tableResultSettingsMap": {},
     "title": ""
    }
   },
   "outputs": [],
   "source": [
    "%sql\n",
    "CREATE TABLE IF NOT EXISTS inceptez_catalog.inputdb.external_customers (\n",
    "  custid INT,\n",
    "  fname STRING,\n",
    "  lname STRING,\n",
    "  age INT,\n",
    "  profession STRING\n",
    ")\n",
    "USING DELTA\n",
    "LOCATION 'dbfs:/Volumes/inceptez_catalog/inputdb/customerdata/'\n",
    "OPTIONS (\n",
    "  mergeSchema = 'true'\n",
    ")\n",
    "TBLPROPERTIES (\n",
    "  'description' = 'External customer table for raw ingestion',\n",
    "  'classification' = 'bronze'\n",
    ")\n",
    "COMMENT 'Stores customer details from raw source data';"
   ]
  }
 ],
 "metadata": {
  "application/vnd.databricks.v1+notebook": {
   "computePreferences": null,
   "dashboards": [],
   "environmentMetadata": {
    "base_environment": "",
    "environment_version": "4"
   },
   "inputWidgetPreferences": null,
   "language": "python",
   "notebookMetadata": {
    "mostRecentlyExecutedCommandWithImplicitDF": {
     "commandId": 7087115837117715,
     "dataframes": [
      "_sqldf"
     ]
    },
    "pythonIndentUnit": 4
   },
   "notebookName": "Lab20-tabletypes",
   "widgets": {}
  },
  "language_info": {
   "name": "python"
  }
 },
 "nbformat": 4,
 "nbformat_minor": 0
}
