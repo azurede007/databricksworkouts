{
 "cells": [
  {
   "cell_type": "markdown",
   "metadata": {
    "application/vnd.databricks.v1+cell": {
     "cellMetadata": {},
     "inputWidgets": {},
     "nuid": "466da674-949c-469e-a42b-4febf63450ef",
     "showTitle": false,
     "tableResultSettingsMap": {},
     "title": ""
    }
   },
   "source": [
    "### View and its types"
   ]
  },
  {
   "cell_type": "code",
   "execution_count": 0,
   "metadata": {
    "application/vnd.databricks.v1+cell": {
     "cellMetadata": {
      "byteLimit": 2048000,
      "implicitDf": true,
      "rowLimit": 10000
     },
     "inputWidgets": {},
     "nuid": "c230ba91-43d4-435a-bfa3-7bbde7aab65e",
     "showTitle": false,
     "tableResultSettingsMap": {},
     "title": ""
    }
   },
   "outputs": [],
   "source": [
    "%sql\n",
    "--1. create table\n",
    "CREATE OR REPLACE TABLE inceptez_catalog.inputdb.tblmovies\n",
    "(\n",
    "  Title STRING,\n",
    "  Release_Year INT,\n",
    "  Rating DOUBLE,\n",
    "  Genre STRING,\n",
    "  Language STRING\n",
    ")\n",
    "USING delta;\n",
    "\n",
    "-- 2. Insert sample data into the Delta table\n",
    "INSERT INTO inceptez_catalog.inputdb.tblmovies VALUES\n",
    "('Inception', 2010, 8.8, 'Sci-Fi', 'English'),\n",
    "('Interstellar', 2014, 8.6, 'Sci-Fi', 'English'),\n",
    "('Tenet', 2020, 7.5, 'Sci-Fi', 'English'),\n",
    "('Dune', 2021, 8.2, 'Sci-Fi', 'English'),\n",
    "('Avatar', 2009, 7.8, 'Fantasy', 'English');\n",
    "\n",
    "-- 3. Query the Delta table to confirm\n",
    "select * from inceptez_catalog.inputdb.tblmovies;"
   ]
  },
  {
   "cell_type": "code",
   "execution_count": 0,
   "metadata": {
    "application/vnd.databricks.v1+cell": {
     "cellMetadata": {
      "byteLimit": 2048000,
      "implicitDf": true,
      "rowLimit": 10000
     },
     "inputWidgets": {},
     "nuid": "54694db7-6cbf-473b-b8de-d808af07b39d",
     "showTitle": false,
     "tableResultSettingsMap": {},
     "title": ""
    }
   },
   "outputs": [],
   "source": [
    "%sql\n",
    "CREATE OR REPLACE VIEW inceptez_catalog.inputdb_v.tblmovies AS\n",
    "SELECT Title, Release_Year, Rating\n",
    "FROM inceptez_catalog.inputdb.tblmovies\n",
    "WHERE Rating > 8.5;\n",
    "\n",
    "select * from inceptez_catalog.inputdb_v.tblmovies;\n"
   ]
  },
  {
   "cell_type": "code",
   "execution_count": 0,
   "metadata": {
    "application/vnd.databricks.v1+cell": {
     "cellMetadata": {
      "byteLimit": 2048000,
      "implicitDf": true,
      "rowLimit": 10000
     },
     "inputWidgets": {},
     "nuid": "7e0289e6-a9f1-4ed1-94a3-1860815418e1",
     "showTitle": false,
     "tableResultSettingsMap": {},
     "title": ""
    }
   },
   "outputs": [],
   "source": [
    "%sql\n",
    "select * from inceptez_catalog.inputdb.highratedmovies_v where Rating > 8.5"
   ]
  },
  {
   "cell_type": "code",
   "execution_count": 0,
   "metadata": {
    "application/vnd.databricks.v1+cell": {
     "cellMetadata": {
      "byteLimit": 2048000,
      "implicitDf": true,
      "rowLimit": 10000
     },
     "inputWidgets": {},
     "nuid": "dc1c212e-3b52-43dd-83e1-4cb3ccc8f94a",
     "showTitle": false,
     "tableResultSettingsMap": {},
     "title": ""
    }
   },
   "outputs": [],
   "source": [
    "%sql\n",
    "create or replace view inceptez_catalog.inputdb_v.highratedmoviesreleaseyear aS\n",
    "select * from inceptez_catalog.inputdb.highratedmovies_v where Release_Year > 2015;"
   ]
  },
  {
   "cell_type": "code",
   "execution_count": 0,
   "metadata": {
    "application/vnd.databricks.v1+cell": {
     "cellMetadata": {
      "byteLimit": 2048000,
      "implicitDf": true,
      "rowLimit": 10000
     },
     "inputWidgets": {},
     "nuid": "d47f693f-1344-44db-b519-b9f0abcfbab2",
     "showTitle": false,
     "tableResultSettingsMap": {},
     "title": ""
    }
   },
   "outputs": [],
   "source": [
    "%sql\n",
    "SELECT Genre, COUNT(*) AS total_movies, AVG(Rating) AS avg_rating\n",
    "FROM inceptez_catalog.inputdb.tblmovies\n",
    "GROUP BY Genre;"
   ]
  },
  {
   "cell_type": "markdown",
   "metadata": {
    "application/vnd.databricks.v1+cell": {
     "cellMetadata": {},
     "inputWidgets": {},
     "nuid": "90ef8d1f-36c0-437e-a7d1-09c49d8dd21d",
     "showTitle": false,
     "tableResultSettingsMap": {},
     "title": ""
    }
   },
   "source": [
    "### Materialized View\n",
    "Note: \n",
    "- It takes a few seconds for the materialized view to be refreshed.\n",
    "- You can check the status of the materialized view in the Catalog Explorer.\n",
    "- ETL pipeline will get created automatically for the materialized view.\n",
    "- Creating Materialized view in notebook is not supported yet.\n",
    "- Have to use SQL Editor to create Materialized view"
   ]
  },
  {
   "cell_type": "code",
   "execution_count": 0,
   "metadata": {
    "application/vnd.databricks.v1+cell": {
     "cellMetadata": {
      "byteLimit": 2048000,
      "implicitDf": true,
      "rowLimit": 10000
     },
     "inputWidgets": {},
     "nuid": "7aa287e1-c4be-441e-a08a-093c3155e17a",
     "showTitle": false,
     "tableResultSettingsMap": {},
     "title": ""
    }
   },
   "outputs": [],
   "source": [
    "%sql\n",
    "\n",
    "\n",
    "DROP MATERIALIZED VIEW IF EXISTS inceptez_catalog.inputdb_v.customerview;\n",
    "\n",
    "CREATE OR REPLACE MATERIALIZED VIEW inceptez_catalog.inputdb_v.customerview\n",
    "AS\n",
    "SELECT prof, count(*) AS total_customers\n",
    "FROM inceptez_catalog.inputdb.tblcustomer\n",
    "GROUP BY prof;\n",
    "\n",
    "REFRESH MATERIALIZED VIEW inceptez_catalog.inputdb_v.customerview;\n",
    "\n",
    "SELECT * FROM inceptez_catalog.inputdb_v.customerview;\n"
   ]
  },
  {
   "cell_type": "code",
   "execution_count": 0,
   "metadata": {
    "application/vnd.databricks.v1+cell": {
     "cellMetadata": {},
     "inputWidgets": {},
     "nuid": "cb82d42a-f14d-4ca1-b48d-72f67457e79a",
     "showTitle": false,
     "tableResultSettingsMap": {},
     "title": ""
    }
   },
   "outputs": [],
   "source": [
    "%sql\n",
    "select * from "
   ]
  }
 ],
 "metadata": {
  "application/vnd.databricks.v1+notebook": {
   "computePreferences": null,
   "dashboards": [],
   "environmentMetadata": {
    "base_environment": "",
    "environment_version": "4"
   },
   "inputWidgetPreferences": null,
   "language": "python",
   "notebookMetadata": {
    "mostRecentlyExecutedCommandWithImplicitDF": {
     "commandId": 7087115837117729,
     "dataframes": [
      "_sqldf"
     ]
    },
    "pythonIndentUnit": 4
   },
   "notebookName": "Lab21-views",
   "widgets": {}
  },
  "language_info": {
   "name": "python"
  }
 },
 "nbformat": 4,
 "nbformat_minor": 0
}
