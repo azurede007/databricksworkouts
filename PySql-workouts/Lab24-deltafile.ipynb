{
 "cells": [
  {
   "cell_type": "markdown",
   "metadata": {
    "application/vnd.databricks.v1+cell": {
     "cellMetadata": {},
     "inputWidgets": {},
     "nuid": "1491bb1b-714a-4311-9cc1-7eca7168e514",
     "showTitle": false,
     "tableResultSettingsMap": {},
     "title": ""
    }
   },
   "source": [
    "### Process on delta file"
   ]
  },
  {
   "cell_type": "code",
   "execution_count": 0,
   "metadata": {
    "application/vnd.databricks.v1+cell": {
     "cellMetadata": {
      "byteLimit": 2048000,
      "rowLimit": 10000
     },
     "inputWidgets": {},
     "nuid": "b2174d29-7f8e-4f9f-96cf-0d4307802996",
     "showTitle": false,
     "tableResultSettingsMap": {},
     "title": ""
    }
   },
   "outputs": [],
   "source": [
    "from pyspark.sql import Row\n",
    "\n",
    "data = [Row(id=1, name=\"Arun\"), Row(id=2, name=\"Vinod\")]\n",
    "df = spark.createDataFrame(data)\n",
    "df.display()"
   ]
  },
  {
   "cell_type": "code",
   "execution_count": 0,
   "metadata": {
    "application/vnd.databricks.v1+cell": {
     "cellMetadata": {
      "byteLimit": 2048000,
      "rowLimit": 10000
     },
     "inputWidgets": {},
     "nuid": "c9cecf2d-bcab-4878-b50f-f31e9b66076f",
     "showTitle": false,
     "tableResultSettingsMap": {},
     "title": ""
    }
   },
   "outputs": [],
   "source": [
    "# Store it as Delta file\n",
    "df.write.format(\"delta\").mode(\"overwrite\").save(\"dbfs:/Volumes/inceptez_catalog/inputdb/employee/employee_delta\")\n",
    "print(\"Delta file created\")"
   ]
  },
  {
   "cell_type": "code",
   "execution_count": 0,
   "metadata": {
    "application/vnd.databricks.v1+cell": {
     "cellMetadata": {
      "byteLimit": 2048000,
      "rowLimit": 10000
     },
     "inputWidgets": {},
     "nuid": "3a25608a-7992-466b-9d18-2082d0de6b4b",
     "showTitle": false,
     "tableResultSettingsMap": {},
     "title": ""
    }
   },
   "outputs": [],
   "source": [
    "spark.sql(\"DESCRIBE HISTORY delta.`/Volumes/inceptez_catalog/inputdb/employee/employee_delta`\").display()"
   ]
  },
  {
   "cell_type": "code",
   "execution_count": 0,
   "metadata": {
    "application/vnd.databricks.v1+cell": {
     "cellMetadata": {
      "byteLimit": 2048000,
      "rowLimit": 10000
     },
     "inputWidgets": {},
     "nuid": "2e69285a-2820-4376-a901-f9953b355e3b",
     "showTitle": false,
     "tableResultSettingsMap": {},
     "title": ""
    }
   },
   "outputs": [],
   "source": [
    "\n",
    "# Insert by Appending with PySpark DataFrame API\n",
    "\n",
    "# New rows to insert\n",
    "new_data = [\n",
    "    Row(id=3, name=\"Kumar\"),\n",
    "    Row(id=4, name=\"Anita\")\n",
    "]\n",
    "\n",
    "new_df = spark.createDataFrame(new_data)\n",
    "\n",
    "# Append to existing Delta dataset in the volume\n",
    "new_df.write.format(\"delta\") \\\n",
    "    .mode(\"append\") \\\n",
    "    .save(\"dbfs:/Volumes/inceptez_catalog/inputdb/employee/employee_delta\")\n",
    "print(\"Data appended\")\t"
   ]
  },
  {
   "cell_type": "code",
   "execution_count": 0,
   "metadata": {
    "application/vnd.databricks.v1+cell": {
     "cellMetadata": {
      "byteLimit": 2048000,
      "rowLimit": 10000
     },
     "inputWidgets": {},
     "nuid": "70b0a990-7671-42ad-b428-b2767642647d",
     "showTitle": false,
     "tableResultSettingsMap": {},
     "title": ""
    }
   },
   "outputs": [],
   "source": [
    "### update record\n",
    "from delta.tables import DeltaTable\n",
    "from pyspark.sql import functions as F\n",
    "# Load Delta table\n",
    "delta_table = DeltaTable.forPath(spark, \"/Volumes/inceptez_catalog/inputdb/employee/employee_delta\")\n",
    "\n",
    "# Update a single row where id = 2\n",
    "delta_table.update(\n",
    "    condition = \"id = 2\",\n",
    "    set = { \"name\": F.lit(\"Vinod Kumar\") }  # new value\n",
    ")\n",
    "print(\"Record updated\")\n",
    "\n",
    "df = spark.sql(\"select * from delta.`/Volumes/inceptez_catalog/inputdb/employee/employee_delta`\")\n",
    "df.display()\n",
    "\n"
   ]
  },
  {
   "cell_type": "code",
   "execution_count": 0,
   "metadata": {
    "application/vnd.databricks.v1+cell": {
     "cellMetadata": {
      "byteLimit": 2048000,
      "rowLimit": 10000
     },
     "inputWidgets": {},
     "nuid": "6918fec1-695b-4399-bac4-efe14dd92fc9",
     "showTitle": false,
     "tableResultSettingsMap": {},
     "title": ""
    }
   },
   "outputs": [],
   "source": [
    "spark.sql(\"DESCRIBE HISTORY delta.`/Volumes/inceptez_catalog/inputdb/employee/employee_delta`\").display()"
   ]
  },
  {
   "cell_type": "markdown",
   "metadata": {
    "application/vnd.databricks.v1+cell": {
     "cellMetadata": {},
     "inputWidgets": {},
     "nuid": "7e44468f-fcb7-4ee7-bdcb-093e6ab9c760",
     "showTitle": false,
     "tableResultSettingsMap": {},
     "title": ""
    }
   },
   "source": [
    "### Delete record"
   ]
  },
  {
   "cell_type": "code",
   "execution_count": 0,
   "metadata": {
    "application/vnd.databricks.v1+cell": {
     "cellMetadata": {
      "byteLimit": 2048000,
      "rowLimit": 10000
     },
     "inputWidgets": {},
     "nuid": "9362c938-9229-4777-bf51-8e0b4229abfd",
     "showTitle": false,
     "tableResultSettingsMap": {},
     "title": ""
    }
   },
   "outputs": [],
   "source": [
    "# Delete a single row where id = 3\n",
    "delta_table.delete(\n",
    "    condition = \"id = 3\"\n",
    ")\n",
    "print(\"Deleted\")"
   ]
  },
  {
   "cell_type": "code",
   "execution_count": 0,
   "metadata": {
    "application/vnd.databricks.v1+cell": {
     "cellMetadata": {
      "byteLimit": 2048000,
      "rowLimit": 10000
     },
     "inputWidgets": {},
     "nuid": "0e79783b-94e8-49f2-85ea-6f56e87a7b67",
     "showTitle": false,
     "tableResultSettingsMap": {},
     "title": ""
    }
   },
   "outputs": [],
   "source": [
    "df = spark.sql(\"select * from delta.`/Volumes/inceptez_catalog/inputdb/employee/employee_delta`\")\n",
    "df.display()"
   ]
  },
  {
   "cell_type": "code",
   "execution_count": 0,
   "metadata": {
    "application/vnd.databricks.v1+cell": {
     "cellMetadata": {
      "byteLimit": 2048000,
      "rowLimit": 10000
     },
     "inputWidgets": {},
     "nuid": "9401f65e-686d-46ff-b6e3-de81e5ff4747",
     "showTitle": false,
     "tableResultSettingsMap": {},
     "title": ""
    }
   },
   "outputs": [],
   "source": [
    "spark.sql(\"DESCRIBE HISTORY delta.`/Volumes/inceptez_catalog/inputdb/employee/employee_delta`\").display()"
   ]
  },
  {
   "cell_type": "code",
   "execution_count": 0,
   "metadata": {
    "application/vnd.databricks.v1+cell": {
     "cellMetadata": {
      "byteLimit": 2048000,
      "rowLimit": 10000
     },
     "inputWidgets": {},
     "nuid": "e2c3c699-f31c-4455-a0ce-4d7e0c2745e5",
     "showTitle": false,
     "tableResultSettingsMap": {},
     "title": ""
    }
   },
   "outputs": [],
   "source": [
    "### Insert with Upsert (MERGE)\n",
    "\n",
    "from delta.tables import DeltaTable\n",
    "\n",
    "# New incoming data\n",
    "updates_df = spark.createDataFrame([\n",
    "    Row(id=2, name=\"Vinod Roy\"),  # update existing row\n",
    "    Row(id=7, name=\"Divya\")         # insert new row\n",
    "])\n",
    "\n",
    "# Load the existing delta table from volume\n",
    "delta_table = DeltaTable.forPath(spark, \"/Volumes/inceptez_catalog/inputdb/employee/employee_delta\")\n",
    "\n",
    "# Perform upsert\n",
    "delta_table.alias(\"t\").merge(\n",
    "    updates_df.alias(\"s\"),\n",
    "    \"t.id = s.id\"\n",
    ").whenMatchedUpdateAll() \\\n",
    " .whenNotMatchedInsertAll() \\\n",
    " .execute()\n",
    "print(\"Upserted\")"
   ]
  },
  {
   "cell_type": "code",
   "execution_count": 0,
   "metadata": {
    "application/vnd.databricks.v1+cell": {
     "cellMetadata": {
      "byteLimit": 2048000,
      "rowLimit": 10000
     },
     "inputWidgets": {},
     "nuid": "0dd0b2dc-8a1b-4ccc-8c77-f766c88feed3",
     "showTitle": false,
     "tableResultSettingsMap": {},
     "title": ""
    }
   },
   "outputs": [],
   "source": [
    "spark.sql(\"DESCRIBE HISTORY delta.`/Volumes/inceptez_catalog/inputdb/employee/employee_delta`\").display()"
   ]
  }
 ],
 "metadata": {
  "application/vnd.databricks.v1+notebook": {
   "computePreferences": null,
   "dashboards": [],
   "environmentMetadata": {
    "base_environment": "",
    "environment_version": "4"
   },
   "inputWidgetPreferences": null,
   "language": "python",
   "notebookMetadata": {
    "pythonIndentUnit": 4
   },
   "notebookName": "Lab24-deltafile",
   "widgets": {}
  },
  "language_info": {
   "name": "python"
  }
 },
 "nbformat": 4,
 "nbformat_minor": 0
}
