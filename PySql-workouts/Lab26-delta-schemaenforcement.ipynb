{
 "cells": [
  {
   "cell_type": "markdown",
   "metadata": {
    "application/vnd.databricks.v1+cell": {
     "cellMetadata": {},
     "inputWidgets": {},
     "nuid": "11fc22c6-bc36-415c-b5d4-342421aa2e2b",
     "showTitle": false,
     "tableResultSettingsMap": {},
     "title": ""
    }
   },
   "source": [
    "- **Schema Enforcement** - When writing the data into table/file, ensure that data is in a existing file/data format"
   ]
  },
  {
   "cell_type": "code",
   "execution_count": 0,
   "metadata": {
    "application/vnd.databricks.v1+cell": {
     "cellMetadata": {
      "byteLimit": 2048000,
      "rowLimit": 10000
     },
     "inputWidgets": {},
     "nuid": "3902a709-b2e9-40d7-8aba-3d608cdfa64f",
     "showTitle": false,
     "tableResultSettingsMap": {},
     "title": ""
    }
   },
   "outputs": [],
   "source": [
    "from pyspark.sql import Row\n",
    "\n",
    "# 1. Define the Delta path\n",
    "delta_path = \"/Volumes/inceptez_catalog/inputdb/moviesdata/movies_delta\"\n",
    "\n",
    "# 2. Create initial DataFrame\n",
    "base_data = [\n",
    "    Row(Title=\"Inception\", Release_Year=2010, Rating=8.8),\n",
    "    Row(Title=\"Interstellar\", Release_Year=2014, Rating=8.6)\n",
    "]\n",
    "df_base = spark.createDataFrame(base_data)\n",
    "\n",
    "df_base.write.mode(\"overwrite\").save(delta_path)\n",
    "print(\"Created initial Delta table\")"
   ]
  },
  {
   "cell_type": "code",
   "execution_count": 0,
   "metadata": {
    "application/vnd.databricks.v1+cell": {
     "cellMetadata": {
      "byteLimit": 2048000,
      "rowLimit": 10000
     },
     "inputWidgets": {},
     "nuid": "d09d7a0e-ba01-4f96-a157-ce653d0c34c1",
     "showTitle": false,
     "tableResultSettingsMap": {},
     "title": ""
    }
   },
   "outputs": [],
   "source": [
    "print(\"Initial Data:\")\n",
    "spark.read.format(\"delta\").load(delta_path).display()"
   ]
  },
  {
   "cell_type": "code",
   "execution_count": 0,
   "metadata": {
    "application/vnd.databricks.v1+cell": {
     "cellMetadata": {
      "byteLimit": 2048000,
      "rowLimit": 10000
     },
     "inputWidgets": {},
     "nuid": "411ee75c-d73a-4e84-924f-c9894886a1f8",
     "showTitle": false,
     "tableResultSettingsMap": {},
     "title": ""
    }
   },
   "outputs": [],
   "source": [
    "spark.sql(f\"select * from delta.`{delta_path}`\").display()\n"
   ]
  },
  {
   "cell_type": "code",
   "execution_count": 0,
   "metadata": {
    "application/vnd.databricks.v1+cell": {
     "cellMetadata": {
      "byteLimit": 2048000,
      "rowLimit": 10000
     },
     "inputWidgets": {},
     "nuid": "c43e7f56-527e-44e6-8763-31c7e04b93ae",
     "showTitle": false,
     "tableResultSettingsMap": {},
     "title": ""
    }
   },
   "outputs": [],
   "source": [
    "spark.sql(f\"select * from delta.`{delta_path}`\").printSchema()"
   ]
  },
  {
   "cell_type": "code",
   "execution_count": 0,
   "metadata": {
    "application/vnd.databricks.v1+cell": {
     "cellMetadata": {
      "byteLimit": 2048000,
      "rowLimit": 10000
     },
     "inputWidgets": {},
     "nuid": "bd525106-6b17-433b-9269-c8bc84438bc2",
     "showTitle": false,
     "tableResultSettingsMap": {},
     "title": ""
    }
   },
   "outputs": [],
   "source": [
    "bad_data = [\n",
    "    Row(Movie_Title=\"Tenet\", Release_Year=\"2020\", Rating=\"7.5\")  # wrong column + wrong type\n",
    "]\n",
    "df_bad = spark.createDataFrame(bad_data)\n",
    "try:\n",
    "    df_bad.write.format(\"delta\").mode(\"append\").save(delta_path)\n",
    "except Exception as e:\n",
    "    print(\"Schema enforcement triggered:\\n\")\n"
   ]
  },
  {
   "cell_type": "code",
   "execution_count": 0,
   "metadata": {
    "application/vnd.databricks.v1+cell": {
     "cellMetadata": {
      "byteLimit": 2048000,
      "rowLimit": 10000
     },
     "inputWidgets": {},
     "nuid": "8c7a6d6f-a0c9-405c-a9f0-a9e13945717c",
     "showTitle": false,
     "tableResultSettingsMap": {},
     "title": ""
    }
   },
   "outputs": [],
   "source": [
    "#writing as csv format\n",
    "df_base.write.format(\"csv\").mode(\"overwrite\").save(\"/Volumes/inceptez_catalog/inputdb/moviesdata/movies_csv\")\n",
    "print(\"Created csv file\")"
   ]
  },
  {
   "cell_type": "code",
   "execution_count": 0,
   "metadata": {
    "application/vnd.databricks.v1+cell": {
     "cellMetadata": {
      "byteLimit": 2048000,
      "rowLimit": 10000
     },
     "inputWidgets": {},
     "nuid": "4658785f-db81-474f-acb7-7349d3d8dc9b",
     "showTitle": false,
     "tableResultSettingsMap": {},
     "title": ""
    }
   },
   "outputs": [],
   "source": [
    "bad_data = [\n",
    "    Row(Movie_Title=\"Tenet\", Release_Year=\"Not Rated\", Rating=\"NA\")  # wrong column + wrong type\n",
    "]\n",
    "df_bad = spark.createDataFrame(bad_data)\n",
    "df_bad.write.format(\"csv\").mode(\"append\").save(\"/Volumes/inceptez_catalog/inputdb/moviesdata/movies_csv\")\n",
    "print(\"Data appended\")\n"
   ]
  },
  {
   "cell_type": "code",
   "execution_count": 0,
   "metadata": {
    "application/vnd.databricks.v1+cell": {
     "cellMetadata": {
      "byteLimit": 2048000,
      "implicitDf": true,
      "rowLimit": 10000
     },
     "inputWidgets": {},
     "nuid": "518a1431-11a9-4f90-ad9f-1f095338465c",
     "showTitle": false,
     "tableResultSettingsMap": {},
     "title": ""
    }
   },
   "outputs": [],
   "source": [
    "%sql\n",
    "select * from csv.`/Volumes/inceptez_catalog/inputdb/moviesdata/movies_csv`;"
   ]
  }
 ],
 "metadata": {
  "application/vnd.databricks.v1+notebook": {
   "computePreferences": null,
   "dashboards": [],
   "environmentMetadata": {
    "base_environment": "",
    "environment_version": "4"
   },
   "inputWidgetPreferences": null,
   "language": "python",
   "notebookMetadata": {
    "mostRecentlyExecutedCommandWithImplicitDF": {
     "commandId": 7318493977510310,
     "dataframes": [
      "_sqldf"
     ]
    },
    "pythonIndentUnit": 4
   },
   "notebookName": "Lab26-delta-schemaenforcement",
   "widgets": {}
  },
  "language_info": {
   "name": "python"
  }
 },
 "nbformat": 4,
 "nbformat_minor": 0
}
