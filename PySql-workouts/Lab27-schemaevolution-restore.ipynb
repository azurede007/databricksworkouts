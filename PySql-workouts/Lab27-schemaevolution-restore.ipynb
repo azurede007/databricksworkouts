{
 "cells": [
  {
   "cell_type": "markdown",
   "metadata": {
    "application/vnd.databricks.v1+cell": {
     "cellMetadata": {},
     "inputWidgets": {},
     "nuid": "934a92da-3b6e-4ba5-af6e-184abfb3ed3c",
     "showTitle": false,
     "tableResultSettingsMap": {},
     "title": ""
    }
   },
   "source": [
    "**Schema Evolution** - Add/drop columns in the existing table/file is allowed\n",
    "\n",
    "By default, mergeSchema is false. Its not allow to add/ignore the columns while writing\n"
   ]
  },
  {
   "cell_type": "code",
   "execution_count": 0,
   "metadata": {
    "application/vnd.databricks.v1+cell": {
     "cellMetadata": {
      "byteLimit": 2048000,
      "rowLimit": 10000
     },
     "inputWidgets": {},
     "nuid": "0c5724eb-8399-4826-b2c8-8fc9f0598e7b",
     "showTitle": false,
     "tableResultSettingsMap": {},
     "title": ""
    }
   },
   "outputs": [],
   "source": [
    "data = [(1, \"Ramesh\", 1000), (2, \"Vinoth\", 2000)]\n",
    "df = spark.createDataFrame(data, [\"id\", \"name\", \"amount\"])\n",
    "\n",
    "df.write.format(\"delta\").mode(\"overwrite\").saveAsTable(\"inceptez_catalog.inputdb.salesinfo\")\n",
    "print(\"Table created\")\n"
   ]
  },
  {
   "cell_type": "code",
   "execution_count": 0,
   "metadata": {
    "application/vnd.databricks.v1+cell": {
     "cellMetadata": {
      "byteLimit": 2048000,
      "rowLimit": 10000
     },
     "inputWidgets": {},
     "nuid": "0790cfaa-f241-42d9-89ab-f2928e8b7920",
     "showTitle": false,
     "tableResultSettingsMap": {},
     "title": ""
    }
   },
   "outputs": [],
   "source": [
    "data = [(3, \"Karthick\", 5000,\"2025-10-15\"), (4, \"Manoj\", 2000,\"2025-10-14\")]\n",
    "df = spark.createDataFrame(data, [\"id\", \"name\", \"amount\",\"order_dt\"])\n",
    "df.display()"
   ]
  },
  {
   "cell_type": "code",
   "execution_count": 0,
   "metadata": {
    "application/vnd.databricks.v1+cell": {
     "cellMetadata": {
      "byteLimit": 2048000,
      "rowLimit": 10000
     },
     "inputWidgets": {},
     "nuid": "b123bfc4-2a3c-462c-aee4-ddb3b1239b2c",
     "showTitle": false,
     "tableResultSettingsMap": {},
     "title": ""
    }
   },
   "outputs": [],
   "source": [
    "df.write.format(\"delta\").mode(\"append\").option(\"mergeSchema\", \"true\").saveAsTable(\"inceptez_catalog.inputdb.salesinfo\")\n",
    "print(\"Data inserted\")\n",
    "spark.sql(\"select * from inceptez_catalog.inputdb.salesinfo\").display()\n"
   ]
  },
  {
   "cell_type": "code",
   "execution_count": 0,
   "metadata": {
    "application/vnd.databricks.v1+cell": {
     "cellMetadata": {
      "byteLimit": 2048000,
      "rowLimit": 10000
     },
     "inputWidgets": {},
     "nuid": "de330104-ee4b-492a-86aa-4f5406b92b96",
     "showTitle": false,
     "tableResultSettingsMap": {},
     "title": ""
    }
   },
   "outputs": [],
   "source": [
    "data = [(5, \"Rajesh\"), (6, \"Vimal\")]\n",
    "df = spark.createDataFrame(data, [\"id\", \"name\"])\n",
    "df.write.format(\"delta\").mode(\"append\").option(\"mergeSchema\", \"true\").saveAsTable(\"inceptez_catalog.inputdb.salesinfo\")\n",
    "print(\"Data inserted\")\n",
    "spark.sql(\"select * from inceptez_catalog.inputdb.salesinfo\").display() \n"
   ]
  },
  {
   "cell_type": "code",
   "execution_count": 0,
   "metadata": {
    "application/vnd.databricks.v1+cell": {
     "cellMetadata": {
      "byteLimit": 2048000,
      "rowLimit": 10000
     },
     "inputWidgets": {},
     "nuid": "3932d76a-bcb3-4c04-93a2-0789b3e145ca",
     "showTitle": false,
     "tableResultSettingsMap": {},
     "title": ""
    }
   },
   "outputs": [],
   "source": [
    "data = [(3, \"Karthick\", 5000,\"2025-10-15\",\"hyderabad\"), (4, \"Manoj\", 2000,\"2025-10-14\",\"chennai\")]\n",
    "df = spark.createDataFrame(data, [\"id\", \"name\", \"amount\",\"order_dt\",\"city\"])\n",
    "df.write.format(\"delta\").mode(\"append\").option(\"mergeSchema\", \"true\").saveAsTable(\"inceptez_catalog.inputdb.salesinfo\")\n",
    "print(\"Data inserted\")\n",
    "spark.sql(\"select * from inceptez_catalog.inputdb.salesinfo\").display() \n"
   ]
  },
  {
   "cell_type": "code",
   "execution_count": 0,
   "metadata": {
    "application/vnd.databricks.v1+cell": {
     "cellMetadata": {
      "byteLimit": 2048000,
      "rowLimit": 10000
     },
     "inputWidgets": {},
     "nuid": "d4dd3106-1130-4ede-a5a0-f04db0db31ef",
     "showTitle": false,
     "tableResultSettingsMap": {},
     "title": ""
    }
   },
   "outputs": [],
   "source": [
    "spark.sql(\"DESCRIBE HISTORY inceptez_catalog.inputdb.salesinfo\").display()"
   ]
  },
  {
   "cell_type": "code",
   "execution_count": 0,
   "metadata": {
    "application/vnd.databricks.v1+cell": {
     "cellMetadata": {
      "byteLimit": 2048000,
      "rowLimit": 10000
     },
     "inputWidgets": {},
     "nuid": "6347f138-722c-406a-91e8-01e111427894",
     "showTitle": false,
     "tableResultSettingsMap": {},
     "title": ""
    }
   },
   "outputs": [],
   "source": [
    "spark.sql(\"select * from inceptez_catalog.inputdb.salesinfo version as of 1\").display()"
   ]
  },
  {
   "cell_type": "code",
   "execution_count": 0,
   "metadata": {
    "application/vnd.databricks.v1+cell": {
     "cellMetadata": {
      "byteLimit": 2048000,
      "rowLimit": 10000
     },
     "inputWidgets": {},
     "nuid": "d542c519-33a7-4937-8f85-3f8543efc643",
     "showTitle": false,
     "tableResultSettingsMap": {},
     "title": ""
    }
   },
   "outputs": [],
   "source": [
    "spark.sql(\"select * from inceptez_catalog.inputdb.salesinfo timestamp as of '2025-10-16T01:59:13.000+00:00'\").display()"
   ]
  },
  {
   "cell_type": "markdown",
   "metadata": {
    "application/vnd.databricks.v1+cell": {
     "cellMetadata": {},
     "inputWidgets": {},
     "nuid": "15d38a5e-b160-4951-b85e-cb1757cdd4c3",
     "showTitle": false,
     "tableResultSettingsMap": {},
     "title": ""
    }
   },
   "source": [
    "### Restore to previous version"
   ]
  },
  {
   "cell_type": "code",
   "execution_count": 0,
   "metadata": {
    "application/vnd.databricks.v1+cell": {
     "cellMetadata": {
      "byteLimit": 2048000,
      "rowLimit": 10000
     },
     "inputWidgets": {},
     "nuid": "7a2c2d19-1f58-4200-878d-6d01600ee6f3",
     "showTitle": false,
     "tableResultSettingsMap": {},
     "title": ""
    }
   },
   "outputs": [],
   "source": [
    "spark.sql(\"RESTORE TABLE inceptez_catalog.inputdb.salesinfo VERSION AS OF 0\")\n",
    "print(\"Restored to version 1\")"
   ]
  },
  {
   "cell_type": "code",
   "execution_count": 0,
   "metadata": {
    "application/vnd.databricks.v1+cell": {
     "cellMetadata": {
      "byteLimit": 2048000,
      "implicitDf": true,
      "rowLimit": 10000
     },
     "inputWidgets": {},
     "nuid": "d6981efa-024c-450b-a1d2-5e63c72dcc3a",
     "showTitle": false,
     "tableResultSettingsMap": {},
     "title": ""
    }
   },
   "outputs": [],
   "source": [
    "%sql\n",
    "select * from inceptez_catalog.inputdb.salesinfo"
   ]
  }
 ],
 "metadata": {
  "application/vnd.databricks.v1+notebook": {
   "computePreferences": null,
   "dashboards": [],
   "environmentMetadata": {
    "base_environment": "",
    "environment_version": "4"
   },
   "inputWidgetPreferences": null,
   "language": "python",
   "notebookMetadata": {
    "mostRecentlyExecutedCommandWithImplicitDF": {
     "commandId": 6687107055198926,
     "dataframes": [
      "_sqldf"
     ]
    },
    "pythonIndentUnit": 4
   },
   "notebookName": "Lab27-schemaevolution-restore",
   "widgets": {}
  },
  "language_info": {
   "name": "python"
  }
 },
 "nbformat": 4,
 "nbformat_minor": 0
}
