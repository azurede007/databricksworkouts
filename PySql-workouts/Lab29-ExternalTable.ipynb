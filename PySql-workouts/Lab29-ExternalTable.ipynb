{
 "cells": [
  {
   "cell_type": "markdown",
   "metadata": {
    "application/vnd.databricks.v1+cell": {
     "cellMetadata": {},
     "inputWidgets": {},
     "nuid": "8713c998-9775-4d28-8163-47ba0fe6371d",
     "showTitle": false,
     "tableResultSettingsMap": {},
     "title": ""
    }
   },
   "source": [
    "### What is an External Table?\n",
    "- An External Table references data stored outside the managed Delta storage location.\n",
    "- Only metadata is stored in the metastore; the actual data files remain in external storage\n",
    "- such as ADLS, S3, or GCS.\n",
    "- External table supports DELTA, CSV, JSON, PARQUET, etc file formats\n",
    "\n",
    "### Managed vs External Table:\n",
    "- MANAGED TABLE: Databricks manages both metadata & data. DROP TABLE deletes both.\n",
    "- EXTERNAL TABLE: Databricks manages only metadata. DROP TABLE keeps data files.\n",
    "\n",
    "### Benefits of External Tables:\n",
    "- Control over data storage location.\n",
    "- Enables data sharing across Databricks workspaces.\n",
    "- Allows separation of compute and storage governance.\n",
    "\n",
    "### Common storage paths:\n",
    "- **Azure**: abfss://<container>@<storageaccount>.dfs.core.windows.net/<path>/\n",
    "- **AWS**:   s3://<bucket>/<path>/\n",
    "- **GCP**:   gs://<bucket>/<path>/\n"
   ]
  },
  {
   "cell_type": "code",
   "execution_count": 0,
   "metadata": {
    "application/vnd.databricks.v1+cell": {
     "cellMetadata": {
      "byteLimit": 2048000,
      "implicitDf": true,
      "rowLimit": 10000
     },
     "inputWidgets": {},
     "nuid": "6afe5848-5c9e-40e8-ab81-8d8969889e8f",
     "showTitle": false,
     "tableResultSettingsMap": {},
     "title": ""
    }
   },
   "outputs": [],
   "source": [
    "%sql\n",
    "CREATE TABLE IF NOT EXISTS inceptez_catalog.inputdb.tbldept_external\n",
    "(\n",
    "  emp_id INT,\n",
    "  emp_name STRING,\n",
    "  department STRING,\n",
    "  salary DOUBLE\n",
    ")\n",
    "USING DELTA\n",
    "LOCATION 'abfss://extdata@inceptezstacc.dfs.core.windows.net/dbdata/tbldept_external';"
   ]
  }
 ],
 "metadata": {
  "application/vnd.databricks.v1+notebook": {
   "computePreferences": null,
   "dashboards": [],
   "environmentMetadata": {
    "base_environment": "",
    "environment_version": "4"
   },
   "inputWidgetPreferences": null,
   "language": "python",
   "notebookMetadata": {
    "mostRecentlyExecutedCommandWithImplicitDF": {
     "commandId": 5683085658904535,
     "dataframes": [
      "_sqldf"
     ]
    },
    "pythonIndentUnit": 4
   },
   "notebookName": "Lab29-ExternalTable",
   "widgets": {}
  },
  "language_info": {
   "name": "python"
  }
 },
 "nbformat": 4,
 "nbformat_minor": 0
}
