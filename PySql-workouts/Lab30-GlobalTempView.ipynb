{
 "cells": [
  {
   "cell_type": "markdown",
   "metadata": {
    "application/vnd.databricks.v1+cell": {
     "cellMetadata": {},
     "inputWidgets": {},
     "nuid": "cbb59d85-9fe8-48cf-a7e5-a0ce3444b5bf",
     "showTitle": false,
     "tableResultSettingsMap": {},
     "title": ""
    }
   },
   "source": [
    "### Temporary views are logical SQL views created from DataFrames or tables.\n",
    "They allow you to query data using SQL syntax without saving permanent metadata in the metastore.\n",
    "TYPES OF TEMPORARY VIEWS:\n",
    "1. LOCAL TEMP VIEW:\n",
    "   - Created using: df.createOrReplaceTempView(\"view_name\")\n",
    "   - Scope: Visible only within the current Spark session (notebook or cluster session).\n",
    "   - Automatically removed once the session ends.\n",
    "2. GLOBAL TEMP VIEW:\n",
    "   - Created using: df.createOrReplaceGlobalTempView(\"view_name\")\n",
    "   - Scope: Visible across all sessions and notebooks running on the same Databricks cluster.\n",
    "   - Stored under a special database: global_temp.\n",
    "   - Must be referenced as global_temp.view_name.\n",
    "   - The view persists until the cluster is terminated.\n",
    "USE CASES:\n",
    "- Share temporary transformed datasets between notebooks in the same cluster.\n",
    "- Debug or inspect intermediate results without creating permanent tables."
   ]
  },
  {
   "cell_type": "markdown",
   "metadata": {
    "application/vnd.databricks.v1+cell": {
     "cellMetadata": {},
     "inputWidgets": {},
     "nuid": "f031681e-f403-4bf5-b789-72e0c12e247c",
     "showTitle": false,
     "tableResultSettingsMap": {},
     "title": ""
    }
   },
   "source": [
    "**Note:**\n",
    "1. You can access global temp views from any other notebook in the same cluster:<br>\n",
    "       _spark.sql('SELECT * FROM global_temp.sales_summary').show()_\n",
    "2. Local temp views cannot be accessed outside the current session.\n",
    "3. Both temp and global temp views are dropped automatically when the session or cluster ends."
   ]
  },
  {
   "cell_type": "code",
   "execution_count": 0,
   "metadata": {
    "application/vnd.databricks.v1+cell": {
     "cellMetadata": {},
     "inputWidgets": {},
     "nuid": "4f9f1fdf-24e4-4937-81d4-2a60c40fe0b4",
     "showTitle": false,
     "tableResultSettingsMap": {},
     "title": ""
    }
   },
   "outputs": [],
   "source": [
    "# Step 1: Create a sample DataFrame\n",
    "data = [\n",
    "    (1, \"East\", \"Laptop\", 1200.50),\n",
    "    (2, \"West\", \"Mobile\", 800.75),\n",
    "    (3, \"South\", \"Tablet\", 450.25),\n",
    "    (4, \"East\", \"Monitor\", 300.00)\n",
    "]\n",
    "columns = [\"sale_id\", \"region\", \"product\", \"amount\"]\n",
    "\n",
    "df = spark.createDataFrame(data, columns)\n",
    "\n",
    "# Step 2: Write DataFrame as a Delta table\n",
    "df.write.format(\"delta\").mode(\"overwrite\").saveAsTable(\"inceptez_catalog.inputdb.sales_data\")\n",
    "\n",
    "# Step 3: Read the table back into a DataFrame\n",
    "sales_df = spark.table(\"inceptez_catalog.tempdb.sales_data\")\n",
    "\n",
    "# Step 4: Create a GLOBAL TEMP VIEW\n",
    "sales_df.groupBy(\"region\").agg(F.sum(\"amount\").alias(\"total_sales\")).createOrReplaceGlobalTempView(\"sales_summary\")\n",
    "\n",
    "# Step 5: Query the GLOBAL TEMP VIEW\n",
    "print(\"GLOBAL TEMP VIEW DATA:\")\n",
    "display(spark.sql(\"SELECT * FROM global_temp.sales_summary\"))\n",
    "\n",
    "# Step 6: Create a LOCAL TEMP VIEW for comparison\n",
    "sales_df.groupBy(\"region\").agg(F.count(\"*\").alias(\"total_orders\")).createOrReplaceTempView(\"sales_local\")\n",
    "\n",
    "print(\"LOCAL TEMP VIEW DATA:\")\n",
    "display(spark.sql(\"SELECT * FROM sales_local\"))\n",
    "\n",
    "# Step 7: Show all available global temp views\n",
    "print(\"GLOBAL TEMP VIEWS IN 'global_temp' DATABASE:\")\n",
    "display(spark.sql(\"SHOW TABLES IN global_temp\"))\n",
    "\n",
    "# Step 8: Show all local temp views in current session\n",
    "print(\"LOCAL TEMP VIEWS IN CURRENT SESSION:\")\n",
    "display(spark.sql(\"SHOW TABLES\"))"
   ]
  }
 ],
 "metadata": {
  "application/vnd.databricks.v1+notebook": {
   "computePreferences": null,
   "dashboards": [],
   "environmentMetadata": {
    "base_environment": "",
    "environment_version": "4"
   },
   "inputWidgetPreferences": null,
   "language": "python",
   "notebookMetadata": {
    "pythonIndentUnit": 4
   },
   "notebookName": "Lab30-GlobalTempView",
   "widgets": {}
  },
  "language_info": {
   "name": "python"
  }
 },
 "nbformat": 4,
 "nbformat_minor": 0
}
