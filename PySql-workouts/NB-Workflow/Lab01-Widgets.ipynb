{
 "cells": [
  {
   "cell_type": "markdown",
   "metadata": {
    "application/vnd.databricks.v1+cell": {
     "cellMetadata": {
      "byteLimit": 2048000,
      "rowLimit": 10000
     },
     "inputWidgets": {},
     "nuid": "f6231e03-2b86-41c5-96be-c8f8c6418fe5",
     "showTitle": false,
     "tableResultSettingsMap": {},
     "title": ""
    }
   },
   "source": [
    "# Databricks Widgets\n",
    "\n",
    "Databricks **widgets** are UI input controls that let you **parameterize notebooks** — enabling dynamic and interactive execution.  \n",
    "They allow passing values (like filters, file paths, or thresholds) into a notebook **at runtime**, either manually or from a **Databricks job**.\n",
    "\n",
    "---\n",
    "\n",
    "## Why Use Widgets?\n",
    "| Use Case | Description |\n",
    "|-----------|--------------|\n",
    "| **Notebook parameterization** | Reuse the same notebook for different datasets or parameters. |\n",
    "| **Interactive dashboards** | Allow users to select input values (e.g., date, region) without editing code. |\n",
    "| **Job orchestration** | Pass parameters dynamically between notebooks in workflows. |\n",
    "\n",
    "---\n",
    "\n",
    "## Types of Widgets\n",
    "| Widget Type | Function |\n",
    "|--------------|-----------|\n",
    "| `text` | Single-line text input |\n",
    "| `dropdown` | Dropdown selection list |\n",
    "| `combobox` | Dropdown with custom text option |\n",
    "| `multiselect` | Allows multiple selections |\n",
    "\n",
    "---\n",
    "\n",
    "## Widget Commands Overview\n",
    "| Command | Purpose |\n",
    "|----------|----------|\n",
    "| `dbutils.widgets.text()` | Create a text widget |\n",
    "| `dbutils.widgets.dropdown()` | Create a dropdown widget |\n",
    "| `dbutils.widgets.combobox()` | Create a combo box |\n",
    "| `dbutils.widgets.multiselect()` | Create a multi-select widget |\n",
    "| `dbutils.widgets.get()` | Retrieve widget value |\n",
    "| `dbutils.widgets.remove()` | Remove a widget |\n",
    "| `dbutils.widgets.removeAll()` | Remove all widgets |\n",
    "\n",
    "---\n",
    "\n",
    "## Example Use Case\n",
    "We have a notebook that reads a dataset and filters by **region** and **year** — instead of hardcoding values,  create widgets so users can input them dynamically.\n",
    "\n",
    "\n",
    "\n"
   ]
  },
  {
   "cell_type": "code",
   "execution_count": 0,
   "metadata": {
    "application/vnd.databricks.v1+cell": {
     "cellMetadata": {
      "byteLimit": 2048000,
      "rowLimit": 10000
     },
     "inputWidgets": {},
     "nuid": "7d7f2128-d640-49b4-8d7c-45e5c68aa776",
     "showTitle": false,
     "tableResultSettingsMap": {},
     "title": ""
    }
   },
   "outputs": [],
   "source": [
    "# Step 1: Create widgets\n",
    "dbutils.widgets.text(\"region\", \"APAC\", \"Select Region\")\n",
    "dbutils.widgets.dropdown(\"year\", \"2024\", [\"2022\", \"2023\", \"2024\", \"2025\"], \"Select Year\")\n",
    "\n",
    "\n",
    "print(\"Widgets created successfully!\")"
   ]
  },
  {
   "cell_type": "code",
   "execution_count": 0,
   "metadata": {
    "application/vnd.databricks.v1+cell": {
     "cellMetadata": {
      "byteLimit": 2048000,
      "rowLimit": 10000
     },
     "inputWidgets": {},
     "nuid": "daedba47-a7d6-4a4e-9a73-2391aaa7b26a",
     "showTitle": false,
     "tableResultSettingsMap": {},
     "title": ""
    }
   },
   "outputs": [],
   "source": [
    "# Step 2: Retrieve widget values\n",
    "selected_region = dbutils.widgets.get(\"region\")\n",
    "selected_year = dbutils.widgets.get(\"year\")\n",
    "\n",
    "print(f\"Region selected: {selected_region}\")\n",
    "print(f\"Year selected: {selected_year}\")\n"
   ]
  },
  {
   "cell_type": "code",
   "execution_count": 0,
   "metadata": {
    "application/vnd.databricks.v1+cell": {
     "cellMetadata": {
      "byteLimit": 2048000,
      "rowLimit": 10000
     },
     "inputWidgets": {},
     "nuid": "f8d22e4a-cf26-4b50-a86e-f53ffa769df8",
     "showTitle": false,
     "tableResultSettingsMap": {},
     "title": ""
    }
   },
   "outputs": [],
   "source": [
    "# COMMAND ----------\n",
    "# Step 3: Use widget values in data operations\n",
    "# (Example: filter a dataset dynamically)\n",
    "\n",
    "# Sample DataFrame\n",
    "data = [(\"APAC\", 2023, 1000), (\"EU\", 2024, 2000), (\"APAC\", 2024, 1500)]\n",
    "df = spark.createDataFrame(data, [\"region\", \"year\", \"sales\"])\n",
    "\n",
    "# Filter using widget values\n",
    "filtered_df = df.filter((df.region == selected_region) & (df.year == int(selected_year)))\n",
    "\n",
    "display(filtered_df)\n"
   ]
  },
  {
   "cell_type": "code",
   "execution_count": 0,
   "metadata": {
    "application/vnd.databricks.v1+cell": {
     "cellMetadata": {
      "byteLimit": 2048000,
      "rowLimit": 10000
     },
     "inputWidgets": {},
     "nuid": "03503d75-081c-41d9-afad-66ac20abf00c",
     "showTitle": false,
     "tableResultSettingsMap": {},
     "title": ""
    }
   },
   "outputs": [],
   "source": [
    "# Step 4: Remove a specific widget\n",
    "# dbutils.widgets.remove(\"region\")\n",
    "dbutils.widgets.removeAll()\n",
    "print(\"✅ Removed the 'region' widget.\")"
   ]
  }
 ],
 "metadata": {
  "application/vnd.databricks.v1+notebook": {
   "computePreferences": null,
   "dashboards": [],
   "environmentMetadata": {
    "base_environment": "",
    "environment_version": "4"
   },
   "inputWidgetPreferences": {
    "autoRunOnWidgetChange": "auto-run-selected-command"
   },
   "language": "python",
   "notebookMetadata": {
    "pythonIndentUnit": 4
   },
   "notebookName": "Lab01-Widgets",
   "widgets": {
    "region": {
     "currentValue": "EMEA",
     "nuid": "ffc673af-e00d-459f-be80-e4f89da39476",
     "typedWidgetInfo": {
      "autoCreated": false,
      "defaultValue": "APAC",
      "label": "Select Region",
      "name": "region",
      "options": {
       "widgetDisplayType": "Text",
       "validationRegex": null
      },
      "parameterDataType": "String"
     },
     "widgetInfo": {
      "widgetType": "text",
      "defaultValue": "APAC",
      "label": "Select Region",
      "name": "region",
      "options": {
       "widgetType": "text",
       "autoCreated": false,
       "validationRegex": null
      }
     }
    },
    "year": {
     "currentValue": "2023",
     "nuid": "81983682-e8e7-46b7-8c21-dfcaef5e4b69",
     "typedWidgetInfo": {
      "autoCreated": false,
      "defaultValue": "2024",
      "label": "Select Year",
      "name": "year",
      "options": {
       "widgetDisplayType": "Dropdown",
       "choices": [
        "2022",
        "2023",
        "2024",
        "2025"
       ],
       "fixedDomain": true,
       "multiselect": false
      },
      "parameterDataType": "String"
     },
     "widgetInfo": {
      "widgetType": "dropdown",
      "defaultValue": "2024",
      "label": "Select Year",
      "name": "year",
      "options": {
       "widgetType": "dropdown",
       "autoCreated": false,
       "choices": [
        "2022",
        "2023",
        "2024",
        "2025"
       ]
      }
     }
    }
   }
  },
  "language_info": {
   "name": "python"
  }
 },
 "nbformat": 4,
 "nbformat_minor": 0
}
