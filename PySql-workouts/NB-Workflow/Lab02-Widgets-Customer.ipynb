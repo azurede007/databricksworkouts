{
 "cells": [
  {
   "cell_type": "code",
   "execution_count": 0,
   "metadata": {
    "application/vnd.databricks.v1+cell": {
     "cellMetadata": {
      "byteLimit": 2048000,
      "rowLimit": 10000
     },
     "inputWidgets": {},
     "nuid": "2e2b2448-841d-4fcf-8ad1-c2be9bea2003",
     "showTitle": false,
     "tableResultSettingsMap": {},
     "title": ""
    }
   },
   "outputs": [],
   "source": [
    "dbutils.widgets.removeAll()\n",
    "dbutils.widgets.dropdown(\"profession\", \"Pilot\",[\"Pilot\",\"Lawyer\",\"Teacher\"],\"Select Profession\")\n",
    "dbutils.widgets.combobox(\"prof_cb\", \"Pilot\",[\"Pilot\",\"Lawyer\",\"Teacher\"],\"Select Profession\")\n",
    "dbutils.widgets.multiselect(\"prof_ms\", \"Pilot\",[\"Pilot\",\"Lawyer\",\"Teacher\"],\"Select Profession\")\n",
    "dbutils.widgets.text(\"age_txt\",\"\",\"Enter Age\")"
   ]
  },
  {
   "cell_type": "code",
   "execution_count": 0,
   "metadata": {
    "application/vnd.databricks.v1+cell": {
     "cellMetadata": {
      "byteLimit": 2048000,
      "rowLimit": 10000
     },
     "inputWidgets": {},
     "nuid": "0b9c833c-1d4c-4365-a85a-49daf14b99ea",
     "showTitle": false,
     "tableResultSettingsMap": {},
     "title": ""
    }
   },
   "outputs": [],
   "source": [
    "df = spark.read.format(\"csv\").load(\"/Volumes/inceptez_catalog/inputdb/customerdata/custs\") \\\n",
    "    .toDF(\"custid\",\"fname\",\"lname\",\"age\",\"prof\")\n"
   ]
  },
  {
   "cell_type": "code",
   "execution_count": 0,
   "metadata": {
    "application/vnd.databricks.v1+cell": {
     "cellMetadata": {
      "byteLimit": 2048000,
      "rowLimit": 10000
     },
     "inputWidgets": {},
     "nuid": "7a78c5fd-c78a-4f8a-89ea-55b658ec3b2d",
     "showTitle": false,
     "tableResultSettingsMap": {},
     "title": ""
    }
   },
   "outputs": [],
   "source": [
    "v_prof = dbutils.widgets.get(\"profession\")\n",
    "if v_prof.strip() != \"\":\n",
    "    df.filter(df.prof==v_prof).display()\n",
    "else:\n",
    "    print(\"Please enter a profession\")\n"
   ]
  },
  {
   "cell_type": "code",
   "execution_count": 0,
   "metadata": {
    "application/vnd.databricks.v1+cell": {
     "cellMetadata": {
      "byteLimit": 2048000,
      "rowLimit": 10000
     },
     "inputWidgets": {},
     "nuid": "6303fef5-4599-488e-a98a-49acb8dbe188",
     "showTitle": false,
     "tableResultSettingsMap": {},
     "title": ""
    }
   },
   "outputs": [],
   "source": [
    "prof_ms = dbutils.widgets.get(\"prof_ms\")\n",
    "if prof_ms.strip() != \"\":\n",
    "    df.filter(df.prof.isin(prof_ms.split(\",\"))).display()\n",
    "else:\n",
    "    print(\"Please enter a profession\")"
   ]
  },
  {
   "cell_type": "code",
   "execution_count": 0,
   "metadata": {
    "application/vnd.databricks.v1+cell": {
     "cellMetadata": {
      "byteLimit": 2048000,
      "rowLimit": 10000
     },
     "inputWidgets": {},
     "nuid": "e6b5fe0e-a23e-4707-ae4a-6ba713978fa5",
     "showTitle": false,
     "tableResultSettingsMap": {},
     "title": ""
    }
   },
   "outputs": [],
   "source": [
    "v_age = dbutils.widgets.get(\"age_txt\")\n",
    "v_prof = dbutils.widgets.get(\"prof_cb\")\n",
    "if v_age.strip() != \"\" and v_prof.strip() != \"\":\n",
    "    df.filter((df.age >= int(v_age)) & (df.prof == v_prof)).display()\n",
    "else:\n",
    "    print(\"Please enter age and profession\")"
   ]
  }
 ],
 "metadata": {
  "application/vnd.databricks.v1+notebook": {
   "computePreferences": null,
   "dashboards": [],
   "environmentMetadata": {
    "base_environment": "",
    "environment_version": "4"
   },
   "inputWidgetPreferences": null,
   "language": "python",
   "notebookMetadata": {
    "pythonIndentUnit": 4
   },
   "notebookName": "Lab02-Widgets-Customer",
   "widgets": {
    "age_txt": {
     "currentValue": "50",
     "nuid": "541422db-d510-4ca2-808f-d2a96e0ee53f",
     "typedWidgetInfo": {
      "autoCreated": false,
      "defaultValue": "",
      "label": "Enter Age",
      "name": "age_txt",
      "options": {
       "widgetDisplayType": "Text",
       "validationRegex": null
      },
      "parameterDataType": "String"
     },
     "widgetInfo": {
      "widgetType": "text",
      "defaultValue": "",
      "label": "Enter Age",
      "name": "age_txt",
      "options": {
       "widgetType": "text",
       "autoCreated": null,
       "validationRegex": null
      }
     }
    },
    "prof_cb": {
     "currentValue": "Lawyer",
     "nuid": "e33d498e-886c-4576-a9b8-b1ffbeac5239",
     "typedWidgetInfo": {
      "autoCreated": false,
      "defaultValue": "Pilot",
      "label": "Select Profession",
      "name": "prof_cb",
      "options": {
       "widgetDisplayType": "Dropdown",
       "choices": [
        "Pilot",
        "Lawyer",
        "Teacher"
       ],
       "fixedDomain": false,
       "multiselect": false
      },
      "parameterDataType": "String"
     },
     "widgetInfo": {
      "widgetType": "combobox",
      "defaultValue": "Pilot",
      "label": "Select Profession",
      "name": "prof_cb",
      "options": {
       "widgetType": "dropdown",
       "autoCreated": null,
       "choices": [
        "Pilot",
        "Lawyer",
        "Teacher"
       ]
      }
     }
    },
    "prof_ms": {
     "currentValue": "Teacher,Lawyer",
     "nuid": "bcc307f0-c6b5-413c-88dc-86b6e30c066f",
     "typedWidgetInfo": {
      "autoCreated": false,
      "defaultValue": "Pilot",
      "label": "Select Profession",
      "name": "prof_ms",
      "options": {
       "widgetDisplayType": "Dropdown",
       "choices": [
        "Pilot",
        "Lawyer",
        "Teacher"
       ],
       "fixedDomain": true,
       "multiselect": true
      },
      "parameterDataType": "String"
     },
     "widgetInfo": {
      "widgetType": "multiselect",
      "defaultValue": "Pilot",
      "label": "Select Profession",
      "name": "prof_ms",
      "options": {
       "widgetType": "dropdown",
       "autoCreated": null,
       "choices": [
        "Pilot",
        "Lawyer",
        "Teacher"
       ]
      }
     }
    },
    "profession": {
     "currentValue": "Lawyer",
     "nuid": "90bff209-4f9a-4b6e-8cf6-2739f1219feb",
     "typedWidgetInfo": {
      "autoCreated": false,
      "defaultValue": "Pilot",
      "label": "Select Profession",
      "name": "profession",
      "options": {
       "widgetDisplayType": "Dropdown",
       "choices": [
        "Pilot",
        "Lawyer",
        "Teacher"
       ],
       "fixedDomain": true,
       "multiselect": false
      },
      "parameterDataType": "String"
     },
     "widgetInfo": {
      "widgetType": "dropdown",
      "defaultValue": "Pilot",
      "label": "Select Profession",
      "name": "profession",
      "options": {
       "widgetType": "dropdown",
       "autoCreated": null,
       "choices": [
        "Pilot",
        "Lawyer",
        "Teacher"
       ]
      }
     }
    }
   }
  },
  "language_info": {
   "name": "python"
  }
 },
 "nbformat": 4,
 "nbformat_minor": 0
}
