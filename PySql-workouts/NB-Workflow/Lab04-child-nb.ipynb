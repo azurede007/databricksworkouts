{
 "cells": [
  {
   "cell_type": "code",
   "execution_count": 0,
   "metadata": {
    "application/vnd.databricks.v1+cell": {
     "cellMetadata": {
      "byteLimit": 2048000,
      "rowLimit": 10000
     },
     "inputWidgets": {},
     "nuid": "d24c5d20-39cc-4d1f-8164-575e5b22e04f",
     "showTitle": false,
     "tableResultSettingsMap": {},
     "title": ""
    }
   },
   "outputs": [],
   "source": [
    "dbutils.widgets.dropdown(\"profession\", \"Pilot\",[\"Pilot\",\"Lawyer\",\"Teacher\"],\"Select Profession\")\n",
    "dbutils.widgets.text(\"age\",\"\",\"Enter Age\")"
   ]
  },
  {
   "cell_type": "code",
   "execution_count": 0,
   "metadata": {
    "application/vnd.databricks.v1+cell": {
     "cellMetadata": {
      "byteLimit": 2048000,
      "rowLimit": 10000
     },
     "inputWidgets": {},
     "nuid": "adcab5f5-3337-44a2-93f0-01544430a3ad",
     "showTitle": false,
     "tableResultSettingsMap": {},
     "title": ""
    }
   },
   "outputs": [],
   "source": [
    "df = spark.read.format(\"csv\").load(\"/Volumes/inceptez_catalog/inputdb/customerdata/custs\") \\\n",
    "    .toDF(\"custid\",\"fname\",\"lname\",\"age\",\"prof\")"
   ]
  },
  {
   "cell_type": "code",
   "execution_count": 0,
   "metadata": {
    "application/vnd.databricks.v1+cell": {
     "cellMetadata": {
      "byteLimit": 2048000,
      "rowLimit": 10000
     },
     "inputWidgets": {},
     "nuid": "eca248d1-3674-4de6-ad3e-543a49280afd",
     "showTitle": false,
     "tableResultSettingsMap": {},
     "title": ""
    }
   },
   "outputs": [],
   "source": [
    "v_cnt = 0\n",
    "v_prof = dbutils.widgets.get(\"profession\")\n",
    "v_age = dbutils.widgets.get(\"age\")\n",
    "if v_prof.strip() != \"\":\n",
    "    v_cnt = df.filter((df.age >= int(v_age)) & (df.prof == v_prof)).count()\n",
    "else:\n",
    "    print(\"Please enter a profession\")"
   ]
  },
  {
   "cell_type": "code",
   "execution_count": 0,
   "metadata": {
    "application/vnd.databricks.v1+cell": {
     "cellMetadata": {},
     "inputWidgets": {},
     "nuid": "4b2f6188-14fd-436b-83d6-8c9134c92de2",
     "showTitle": false,
     "tableResultSettingsMap": {},
     "title": ""
    }
   },
   "outputs": [],
   "source": [
    "#return value to the calling notebook\n",
    "dbutils.notebook.exit(str(v_cnt))"
   ]
  }
 ],
 "metadata": {
  "application/vnd.databricks.v1+notebook": {
   "computePreferences": null,
   "dashboards": [],
   "environmentMetadata": {
    "base_environment": "",
    "environment_version": "4"
   },
   "inputWidgetPreferences": null,
   "language": "python",
   "notebookMetadata": {
    "pythonIndentUnit": 4
   },
   "notebookName": "Lab04-child-nb",
   "widgets": {
    "age": {
     "currentValue": "70",
     "nuid": "d0593af5-1a7e-486b-bb88-c493ad39831e",
     "typedWidgetInfo": {
      "autoCreated": false,
      "defaultValue": "",
      "label": "Enter Age",
      "name": "age",
      "options": {
       "widgetDisplayType": "Text",
       "validationRegex": null
      },
      "parameterDataType": "String"
     },
     "widgetInfo": {
      "widgetType": "text",
      "defaultValue": "",
      "label": "Enter Age",
      "name": "age",
      "options": {
       "widgetType": "text",
       "autoCreated": false,
       "validationRegex": null
      }
     }
    },
    "profession": {
     "currentValue": "Teacher",
     "nuid": "ddba3f33-f48a-411a-8edb-d92dab949d4f",
     "typedWidgetInfo": {
      "autoCreated": false,
      "defaultValue": "Pilot",
      "label": "Select Profession",
      "name": "profession",
      "options": {
       "widgetDisplayType": "Dropdown",
       "choices": [
        "Pilot",
        "Lawyer",
        "Teacher"
       ],
       "fixedDomain": true,
       "multiselect": false
      },
      "parameterDataType": "String"
     },
     "widgetInfo": {
      "widgetType": "dropdown",
      "defaultValue": "Pilot",
      "label": "Select Profession",
      "name": "profession",
      "options": {
       "widgetType": "dropdown",
       "autoCreated": null,
       "choices": [
        "Pilot",
        "Lawyer",
        "Teacher"
       ]
      }
     }
    }
   }
  },
  "language_info": {
   "name": "python"
  }
 },
 "nbformat": 4,
 "nbformat_minor": 0
}
