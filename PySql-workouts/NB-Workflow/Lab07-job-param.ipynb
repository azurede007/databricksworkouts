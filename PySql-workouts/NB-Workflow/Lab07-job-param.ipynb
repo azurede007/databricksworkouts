{
 "cells": [
  {
   "cell_type": "code",
   "execution_count": 0,
   "metadata": {
    "application/vnd.databricks.v1+cell": {
     "cellMetadata": {
      "byteLimit": 2048000,
      "rowLimit": 10000
     },
     "inputWidgets": {},
     "nuid": "5fa46ff4-d67c-4fa4-aaba-12f2450e6ff7",
     "showTitle": false,
     "tableResultSettingsMap": {},
     "title": ""
    }
   },
   "outputs": [],
   "source": [
    "txns_df = spark.read.format(\"csv\") \\\n",
    "    .option(\"header\", \"true\") \\\n",
    "    .option(\"inferSchema\", \"true\") \\\n",
    "    .load(\"dbfs:/Volumes/inceptez_catalog/inputdb/customerdata/txns\") \\\n",
    "\t.toDF(\"txnid\",\"txndate\",\"custid\",\"amount\",\"prodcategory\",\"prodname\",\"city\",\"state\",\"paymenttype\")\n",
    "#txns_df.filter((txns_df.state == \"Texas\") & (txns_df.city == \"Dallas\")).display()"
   ]
  },
  {
   "cell_type": "code",
   "execution_count": 0,
   "metadata": {
    "application/vnd.databricks.v1+cell": {
     "cellMetadata": {},
     "inputWidgets": {},
     "nuid": "922e675a-d721-4670-8e24-5d43464f5615",
     "showTitle": false,
     "tableResultSettingsMap": {},
     "title": ""
    }
   },
   "outputs": [],
   "source": [
    "state = dbutils.widgets.get(\"state\")\n",
    "city = dbutils.widgets.get(\"city\")\n",
    "\n",
    "from pyspark.sql import functions as F\n",
    "\n",
    "filtered_df = txns_df.filter((txns_df.state == state) & (txns_df.city == city))\n",
    "df1 = filtered_df.withColumn(\"created_ts\",F.current_timestamp())\n",
    "df1.write.format(\"delta\").mode(\"append\").saveAsTable(\"inceptez_catalog.outputdb.tbltxnsjob\")\n",
    "print(\"data written into table\")"
   ]
  }
 ],
 "metadata": {
  "application/vnd.databricks.v1+notebook": {
   "computePreferences": null,
   "dashboards": [],
   "environmentMetadata": {
    "base_environment": "",
    "environment_version": "4"
   },
   "inputWidgetPreferences": null,
   "language": "python",
   "notebookMetadata": {
    "pythonIndentUnit": 4
   },
   "notebookName": "Lab07-job-param",
   "widgets": {}
  },
  "language_info": {
   "name": "python"
  }
 },
 "nbformat": 4,
 "nbformat_minor": 0
}
