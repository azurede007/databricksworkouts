{
 "cells": [
  {
   "cell_type": "markdown",
   "metadata": {
    "application/vnd.databricks.v1+cell": {
     "cellMetadata": {},
     "inputWidgets": {},
     "nuid": "26f68e01-49fa-4371-a6d0-deda8d4d5a6c",
     "showTitle": false,
     "tableResultSettingsMap": {},
     "title": ""
    }
   },
   "source": [
    "# 🧾 Databricks Job Pipeline – Child Notebook\n",
    "\n",
    "### Documentation\n",
    "This notebook:\n",
    "- Retrieves the record count value set in the parent notebook using `dbutils.jobs.taskValues.get()`\n",
    "- Performs additional processing (for example, classification based on volume)\n",
    "\n",
    "**Usage:**\n",
    "This notebook is triggered as the next task in the Databricks job pipeline after the parent notebook.\n"
   ]
  },
  {
   "cell_type": "code",
   "execution_count": 0,
   "metadata": {
    "application/vnd.databricks.v1+cell": {
     "cellMetadata": {},
     "inputWidgets": {},
     "nuid": "4a65caf7-5053-43d8-869b-a96e442d06be",
     "showTitle": false,
     "tableResultSettingsMap": {},
     "title": ""
    }
   },
   "outputs": [],
   "source": [
    "# COMMAND ----------\n",
    "\n",
    "# Retrieve the stored value from the parent notebook\n",
    "txn_record_count = dbutils.jobs.taskValues.get(\n",
    "    taskKey=\"01_txn_parent_notebook\",   # Task name of the parent notebook in the Job\n",
    "    key=\"txn_record_count\",\n",
    "    default=0\n",
    ")\n",
    "\n",
    "print(f\"Retrieved Record Count from Parent Notebook: {txn_record_count}\")\n"
   ]
  },
  {
   "cell_type": "code",
   "execution_count": 0,
   "metadata": {
    "application/vnd.databricks.v1+cell": {
     "cellMetadata": {},
     "inputWidgets": {},
     "nuid": "cc9c8525-bbd2-483f-8682-07e6dbdabd2a",
     "showTitle": false,
     "tableResultSettingsMap": {},
     "title": ""
    }
   },
   "outputs": [],
   "source": [
    "# COMMAND ----------\n",
    "\n",
    "# Perform further logic based on record count\n",
    "if txn_record_count > 0:\n",
    "    print(f\"✅ Transaction data available. Total Records: {txn_record_count}\")\n",
    "else:\n",
    "    print(\"⚠️ No data available for the given city and state.\")\n"
   ]
  }
 ],
 "metadata": {
  "application/vnd.databricks.v1+notebook": {
   "computePreferences": null,
   "dashboards": [],
   "environmentMetadata": {
    "base_environment": "",
    "environment_version": "4"
   },
   "inputWidgetPreferences": null,
   "language": "python",
   "notebookMetadata": {
    "pythonIndentUnit": 4
   },
   "notebookName": "Lab09-taskparam-child",
   "widgets": {}
  },
  "language_info": {
   "name": "python"
  }
 },
 "nbformat": 4,
 "nbformat_minor": 0
}
