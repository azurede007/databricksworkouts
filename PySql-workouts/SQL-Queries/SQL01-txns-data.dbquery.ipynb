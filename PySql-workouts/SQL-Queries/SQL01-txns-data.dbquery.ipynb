{
 "cells": [
  {
   "cell_type": "code",
   "execution_count": 0,
   "metadata": {
    "application/vnd.databricks.v1+cell": {
     "cellMetadata": {
      "byteLimit": 10485760,
      "rowLimit": 1000
     },
     "inputWidgets": {},
     "nuid": "e277c0ea-3a63-49dd-a75d-230daa6f6904",
     "showTitle": false,
     "tableResultSettingsMap": {
      "0": {
       "dataGridStateBlob": "{\"version\":1,\"tableState\":{\"columnPinning\":{\"left\":[\"#row_number#\"],\"right\":[]},\"columnSizing\":{},\"columnVisibility\":{}},\"settings\":{\"columns\":{}},\"syncTimestamp\":1761794732441}",
       "filterBlob": "{\"version\":1,\"filterGroups\":[{\"enabled\":true,\"op\":\"OR\",\"filterGroupId\":\"fg_7b9c40bc\",\"filters\":[{\"filterId\":\"f_f3ab1e14\",\"columnId\":\"totalsales\",\"enabled\":true,\"dataType\":\"float\",\"filterType\":\"lt\",\"filterValue\":20000,\"filterValues\":[],\"filterConfig\":{\"caseSensitive\":false,\"includeMax\":true,\"includeMin\":true}}],\"local\":false,\"updatedAt\":1761794868413}],\"syncTimestamp\":1761795993483}",
       "queryPlanFiltersBlob": "[{\"kind\":\"call\",\"function\":\"or\",\"args\":[{\"kind\":\"call\",\"function\":\"lt\",\"args\":[{\"kind\":\"identifier\",\"identifier\":\"totalsales\"},{\"kind\":\"literal\",\"value\":20000,\"type\":\"float\"}]}]}]",
       "tableResultIndex": 0
      }
     },
     "title": ""
    }
   },
   "outputs": [],
   "source": [
    "CREATE OR REPLACE TABLE inceptez_catalog.inputdb.tbltxns\n",
    "USING DELTA\n",
    "AS\n",
    "SELECT\n",
    "  _c0 AS txnid,\n",
    "  _c1 AS txndate,\n",
    "  _c2 AS custid,\n",
    "  _c3 AS amount,\n",
    "  _c4 AS category,\n",
    "  _c5 AS product,\n",
    "  _c6 AS city,\n",
    "  _c7 AS state,\n",
    "  _c8 AS paytype\n",
    "FROM csv.`dbfs:/Volumes/inceptez_catalog/inputdb/customerdata/txns`WITH (\n",
    "  inferSchema = \"true\"\n",
    ");\n",
    "\n",
    "select * from inceptez_catalog.inputdb.tbltxns;\n",
    "\n",
    "describe inceptez_catalog.inputdb.tbltxns;\n",
    "\n",
    "describe formatted inceptez_catalog.inputdb.tbltxns;\n",
    "\n",
    "select state, count(*) from inceptez_catalog.inputdb.tbltxns group by state;\n",
    "\n",
    "select state, count(*) from inceptez_catalog.inputdb.tbltxns group by state order by 2 desc limit 10;\n",
    "\n",
    "select state, count(*) as txncount, round(sum(amount),2) as totalsales from inceptez_catalog.inputdb.tbltxns group by state order by 2 desc limit 10;\n",
    "\n",
    "select state, category,product, count(*) as txncount, round(sum(amount),2) as totalsales from inceptez_catalog.inputdb.tbltxns group by state,category,product order by 5 desc;\n",
    "\n",
    "select state, category,product, count(*) as txncount, round(sum(amount),2) as totalsales \n",
    "from inceptez_catalog.inputdb.tbltxns \n",
    "where (product = :v_product or :v_product = 'All')\n",
    "group by state,category,product order by 5 desc;\n",
    "\n",
    "\n",
    "\n",
    "\n",
    "\n",
    "\n"
   ]
  }
 ],
 "metadata": {
  "application/vnd.databricks.v1+notebook": {
   "computePreferences": null,
   "dashboards": [],
   "environmentMetadata": null,
   "inputWidgetPreferences": null,
   "language": "sql",
   "notebookMetadata": {
    "pythonIndentUnit": 4,
    "sqlQueryOptions": {
     "applyAutoLimit": true,
     "catalog": "workspace",
     "schema": "default"
    }
   },
   "notebookName": "SQL01-txns-data.dbquery.ipynb",
   "widgets": {
    "v_product": {
     "currentValue": "All",
     "nuid": "d441f20f-91e5-4345-8241-85c9af5a06fe",
     "typedWidgetInfo": {
      "autoCreated": true,
      "defaultValue": "",
      "label": null,
      "name": "v_product",
      "options": {
       "widgetDisplayType": "Text",
       "validationRegex": null
      },
      "parameterDataType": "String"
     },
     "widgetInfo": {
      "widgetType": "text",
      "defaultValue": "",
      "label": null,
      "name": "v_product",
      "options": {
       "widgetType": "text",
       "autoCreated": true,
       "validationRegex": null
      }
     }
    }
   }
  },
  "language_info": {
   "name": "sql"
  }
 },
 "nbformat": 4,
 "nbformat_minor": 0
}
